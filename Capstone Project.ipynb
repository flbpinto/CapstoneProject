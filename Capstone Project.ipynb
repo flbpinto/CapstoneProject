{
 "cells": [
  {
   "cell_type": "markdown",
   "metadata": {},
   "source": [
    "## Capstone Project - The Battle of Neighborhoods\n",
    "Course:      Coursera - Applied Data Science Capstone <BR>\n",
    "Made by:   Fernando Luiz Baptista Pinto"
   ]
  },
  {
   "cell_type": "markdown",
   "metadata": {},
   "source": [
    "## Question 1 - Description of the problem"
   ]
  },
  {
   "cell_type": "markdown",
   "metadata": {},
   "source": [
    "São Paulo is one of the main cities in Brazil in terms of local culture, leisure and fun options. A scene of the most comprehensive and diverse culture in the country. A tourist hub where people from all over the country come to watch music, theater, museums and parks\n"
   ]
  },
  {
   "cell_type": "markdown",
   "metadata": {},
   "source": [
    "#### Problem:"
   ]
  },
  {
   "cell_type": "markdown",
   "metadata": {},
   "source": [
    "Despite having several cultural options in the city, there is a concentration of these options in certain more central districts and greater economic power, leaving a large portion of the population who have less resources to use for leisure and culture, especially those who live in the outskirts of the city. without many cultural options near their homes."
   ]
  },
  {
   "cell_type": "markdown",
   "metadata": {},
   "source": [
    "#### Objective of the work:"
   ]
  },
  {
   "cell_type": "markdown",
   "metadata": {},
   "source": [
    "The purpose of this paper is to demonstrate the differences in culture options between some districts of the city, using the analysis tools presented in these courses, and how this can be useful for the São Paulo City Public Agencies, responsible for taking care of cultural activities.  can focus and more efficiently direct their resources to the neediest areas of the city.\n"
   ]
  },
  {
   "cell_type": "markdown",
   "metadata": {},
   "source": [
    "## Question 2 - Description of the data"
   ]
  },
  {
   "cell_type": "markdown",
   "metadata": {},
   "source": [
    "For this work the following data source was used:\n",
    "\n",
    "<b>City of São Paulo City Hall website.</b><BR>\n",
    "Geographic and population information about the districts and neighborhoods of the city.<BR>\n",
    "https://www.prefeitura.sp.gov.br/cidade/secretarias/subprefeitura/subprefeitura/dados_demograficos/index.php?p=12758\n",
    "<BR>These data were used to identify and select some districts for our work.\n",
    "\n",
    "<b>foursquare.com</b> <BR>\n",
    "was used for inquiries regarding establishments registered on the foursquare.com website\n",
    "The data were accessed via API (REST) and used to identify establishments that are interesting from the point of view of this work.\n",
    "Unfortunately, foursquare is not widely used in Brazil, the database is very small and not updated often."
   ]
  },
  {
   "cell_type": "markdown",
   "metadata": {},
   "source": [
    "## 3 - Methodology"
   ]
  },
  {
   "cell_type": "markdown",
   "metadata": {},
   "source": [
    "Select 6 districts belonging to the city of Sao Paulo, which have different characteristics of population and region of the city where they are located. <BR>\n",
    "Identify among Foursquare data which Venues are relevant to this study.<BR>\n",
    "Analyze individually given district chosen.<BR>\n",
    "Analyze and compare data between chosen districts.\n"
   ]
  },
  {
   "cell_type": "markdown",
   "metadata": {},
   "source": [
    "##  4 - Results"
   ]
  },
  {
   "cell_type": "markdown",
   "metadata": {},
   "source": [
    "study execution details\n"
   ]
  },
  {
   "cell_type": "markdown",
   "metadata": {},
   "source": [
    "##### Import Libraries"
   ]
  },
  {
   "cell_type": "code",
   "execution_count": 1,
   "metadata": {},
   "outputs": [
    {
     "name": "stdout",
     "output_type": "stream",
     "text": [
      "Libraries imported.\n"
     ]
    }
   ],
   "source": [
    "import requests \n",
    "import pandas as pd\n",
    "pd.set_option('display.max_columns', None)\n",
    "pd.set_option('display.max_rows', None)\n",
    "import numpy as np\n",
    "import json \n",
    "\n",
    "from pandas.io.json import json_normalize\n",
    "\n",
    "!conda install -c conda-forge geopy --yes \n",
    "!conda install -c conda-forge geocoder --yes \n",
    "import geocoder \n",
    "from geopy.geocoders import Nominatim\n",
    "\n",
    "!conda install -c conda-forge folium=0.5.0 --yes \n",
    "import folium # map rendering library\n",
    "\n",
    "# import k-means from clustering stage\n",
    "from sklearn.cluster import KMeans\n",
    "\n",
    "# Matplotlib and associated plotting modules\n",
    "import matplotlib.cm as cm\n",
    "import matplotlib.colors as colors\n",
    "import matplotlib as mpl\n",
    "import matplotlib.pyplot as plt\n",
    "\n",
    "print('Libraries imported.')"
   ]
  },
  {
   "cell_type": "markdown",
   "metadata": {},
   "source": [
    "##### Import Data from City of São Paulo"
   ]
  },
  {
   "cell_type": "code",
   "execution_count": 2,
   "metadata": {},
   "outputs": [
    {
     "name": "stderr",
     "output_type": "stream",
     "text": [
      "/opt/conda/envs/Python36/lib/python3.6/site-packages/ipykernel/__main__.py:10: SettingWithCopyWarning: \n",
      "A value is trying to be set on a copy of a slice from a DataFrame\n",
      "\n",
      "See the caveats in the documentation: http://pandas.pydata.org/pandas-docs/stable/indexing.html#indexing-view-versus-copy\n",
      "/opt/conda/envs/Python36/lib/python3.6/site-packages/pandas/core/indexing.py:190: SettingWithCopyWarning: \n",
      "A value is trying to be set on a copy of a slice from a DataFrame\n",
      "\n",
      "See the caveats in the documentation: http://pandas.pydata.org/pandas-docs/stable/indexing.html#indexing-view-versus-copy\n",
      "  self._setitem_with_indexer(indexer, value)\n",
      "/opt/conda/envs/Python36/lib/python3.6/site-packages/ipykernel/__main__.py:15: SettingWithCopyWarning: \n",
      "A value is trying to be set on a copy of a slice from a DataFrame\n",
      "\n",
      "See the caveats in the documentation: http://pandas.pydata.org/pandas-docs/stable/indexing.html#indexing-view-versus-copy\n",
      "/opt/conda/envs/Python36/lib/python3.6/site-packages/ipykernel/__main__.py:16: SettingWithCopyWarning: \n",
      "A value is trying to be set on a copy of a slice from a DataFrame\n",
      "\n",
      "See the caveats in the documentation: http://pandas.pydata.org/pandas-docs/stable/indexing.html#indexing-view-versus-copy\n",
      "/opt/conda/envs/Python36/lib/python3.6/site-packages/ipykernel/__main__.py:18: SettingWithCopyWarning: \n",
      "A value is trying to be set on a copy of a slice from a DataFrame\n",
      "\n",
      "See the caveats in the documentation: http://pandas.pydata.org/pandas-docs/stable/indexing.html#indexing-view-versus-copy\n",
      "/opt/conda/envs/Python36/lib/python3.6/site-packages/ipykernel/__main__.py:19: SettingWithCopyWarning: \n",
      "A value is trying to be set on a copy of a slice from a DataFrame\n",
      "\n",
      "See the caveats in the documentation: http://pandas.pydata.org/pandas-docs/stable/indexing.html#indexing-view-versus-copy\n"
     ]
    }
   ],
   "source": [
    "##neighborhoods = pd.read_csv('Borough.csv', delimiter=\",\")\n",
    "neighborhoods = pd.read_csv('https://raw.githubusercontent.com/flbpinto/CapstoneProject/master/Borough.csv', delimiter=\",\") \n",
    "    \n",
    "neighborhoods = pd.DataFrame(neighborhoods, columns = ['ID', 'Borough', 'lat', 'lng', 'address'])\n",
    "\n",
    "x = neighborhoods.ID.count()    \n",
    "i = 0\n",
    "while  i < x :\n",
    "    neighborhoods.Borough[i]\n",
    "    neighborhoods.address[i] = neighborhoods.Borough[i] + ', São Paulo, Brasil'\n",
    "    address    = neighborhoods.address[i]\n",
    "    geolocator = Nominatim(user_agent=\"can_explorer\")\n",
    "    try :\n",
    "        location = geolocator.geocode(address)\n",
    "        neighborhoods.lat[i]  = location.latitude \n",
    "        neighborhoods.lng[i]  = location.longitude\n",
    "    except : \n",
    "        neighborhoods.lat[i]  = 'Not Defined'\n",
    "        neighborhoods.lng[i]  = 'Not Defined'\n",
    "        #pass\n",
    "    i += 1\n",
    " "
   ]
  },
  {
   "cell_type": "code",
   "execution_count": 3,
   "metadata": {},
   "outputs": [],
   "source": [
    "neighborhoods.drop(neighborhoods[(neighborhoods['lat'] == 'Not Defined')].index , inplace=True)\n",
    "neighborhoods.set_index('ID', inplace=True)\n",
    "#neighborhoods.head()"
   ]
  },
  {
   "cell_type": "code",
   "execution_count": 4,
   "metadata": {},
   "outputs": [
    {
     "data": {
      "text/html": [
       "<div>\n",
       "<style scoped>\n",
       "    .dataframe tbody tr th:only-of-type {\n",
       "        vertical-align: middle;\n",
       "    }\n",
       "\n",
       "    .dataframe tbody tr th {\n",
       "        vertical-align: top;\n",
       "    }\n",
       "\n",
       "    .dataframe thead th {\n",
       "        text-align: right;\n",
       "    }\n",
       "</style>\n",
       "<table border=\"1\" class=\"dataframe\">\n",
       "  <thead>\n",
       "    <tr style=\"text-align: right;\">\n",
       "      <th></th>\n",
       "      <th>Borough</th>\n",
       "      <th>lat</th>\n",
       "      <th>lng</th>\n",
       "      <th>Área</th>\n",
       "      <th>População</th>\n",
       "      <th>Densidade</th>\n",
       "    </tr>\n",
       "  </thead>\n",
       "  <tbody>\n",
       "    <tr>\n",
       "      <th>0</th>\n",
       "      <td>Aricanduva</td>\n",
       "      <td>-23.5726</td>\n",
       "      <td>-46.5183</td>\n",
       "      <td>21.5</td>\n",
       "      <td>267702</td>\n",
       "      <td>12451.00</td>\n",
       "    </tr>\n",
       "    <tr>\n",
       "      <th>1</th>\n",
       "      <td>Butantã</td>\n",
       "      <td>-23.5691</td>\n",
       "      <td>-46.7219</td>\n",
       "      <td>56.1</td>\n",
       "      <td>428217</td>\n",
       "      <td>7633.00</td>\n",
       "    </tr>\n",
       "    <tr>\n",
       "      <th>2</th>\n",
       "      <td>Campo Limpo</td>\n",
       "      <td>-23.6326</td>\n",
       "      <td>-46.7597</td>\n",
       "      <td>36.7</td>\n",
       "      <td>607105</td>\n",
       "      <td>16542.00</td>\n",
       "    </tr>\n",
       "    <tr>\n",
       "      <th>3</th>\n",
       "      <td>Casa Verde</td>\n",
       "      <td>-23.4991</td>\n",
       "      <td>-46.6541</td>\n",
       "      <td>26.7</td>\n",
       "      <td>309376</td>\n",
       "      <td>11587.00</td>\n",
       "    </tr>\n",
       "    <tr>\n",
       "      <th>4</th>\n",
       "      <td>Cidade Ademar</td>\n",
       "      <td>-23.6692</td>\n",
       "      <td>-46.6588</td>\n",
       "      <td>30.7</td>\n",
       "      <td>410998</td>\n",
       "      <td>13388.00</td>\n",
       "    </tr>\n",
       "    <tr>\n",
       "      <th>5</th>\n",
       "      <td>Cidade Tiradentes</td>\n",
       "      <td>-23.5892</td>\n",
       "      <td>-46.3964</td>\n",
       "      <td>15.0</td>\n",
       "      <td>211501</td>\n",
       "      <td>14100.00</td>\n",
       "    </tr>\n",
       "    <tr>\n",
       "      <th>6</th>\n",
       "      <td>Ermelino Matarazzo</td>\n",
       "      <td>-23.4917</td>\n",
       "      <td>-46.4841</td>\n",
       "      <td>15.1</td>\n",
       "      <td>207509</td>\n",
       "      <td>13742.00</td>\n",
       "    </tr>\n",
       "    <tr>\n",
       "      <th>7</th>\n",
       "      <td>Freguesia-Brasilândia</td>\n",
       "      <td>-23.4835</td>\n",
       "      <td>-46.6871</td>\n",
       "      <td>31.5</td>\n",
       "      <td>407245</td>\n",
       "      <td>12928.00</td>\n",
       "    </tr>\n",
       "    <tr>\n",
       "      <th>8</th>\n",
       "      <td>Guaianases</td>\n",
       "      <td>-23.5557</td>\n",
       "      <td>-46.4093</td>\n",
       "      <td>17.8</td>\n",
       "      <td>268508</td>\n",
       "      <td>15085.00</td>\n",
       "    </tr>\n",
       "    <tr>\n",
       "      <th>9</th>\n",
       "      <td>Ipiranga</td>\n",
       "      <td>-23.5893</td>\n",
       "      <td>-46.6062</td>\n",
       "      <td>37.5</td>\n",
       "      <td>463804</td>\n",
       "      <td>12368.00</td>\n",
       "    </tr>\n",
       "    <tr>\n",
       "      <th>10</th>\n",
       "      <td>Itaim Paulista</td>\n",
       "      <td>-23.5035</td>\n",
       "      <td>-46.3855</td>\n",
       "      <td>21.7</td>\n",
       "      <td>373127</td>\n",
       "      <td>17195.00</td>\n",
       "    </tr>\n",
       "    <tr>\n",
       "      <th>11</th>\n",
       "      <td>Itaquera</td>\n",
       "      <td>-23.5352</td>\n",
       "      <td>-46.4542</td>\n",
       "      <td>54.3</td>\n",
       "      <td>523848</td>\n",
       "      <td>9647.00</td>\n",
       "    </tr>\n",
       "    <tr>\n",
       "      <th>12</th>\n",
       "      <td>Jabaquara</td>\n",
       "      <td>-23.6521</td>\n",
       "      <td>-46.65</td>\n",
       "      <td>14.1</td>\n",
       "      <td>223780</td>\n",
       "      <td>15871.00</td>\n",
       "    </tr>\n",
       "    <tr>\n",
       "      <th>13</th>\n",
       "      <td>Lapa</td>\n",
       "      <td>-23.5243</td>\n",
       "      <td>-46.7034</td>\n",
       "      <td>40.1</td>\n",
       "      <td>305526</td>\n",
       "      <td>7619.00</td>\n",
       "    </tr>\n",
       "    <tr>\n",
       "      <th>14</th>\n",
       "      <td>M'Boi Mirim</td>\n",
       "      <td>-23.6689</td>\n",
       "      <td>-46.7337</td>\n",
       "      <td>62.1</td>\n",
       "      <td>563305</td>\n",
       "      <td>9071.00</td>\n",
       "    </tr>\n",
       "    <tr>\n",
       "      <th>15</th>\n",
       "      <td>Mooca</td>\n",
       "      <td>-23.5617</td>\n",
       "      <td>-46.5971</td>\n",
       "      <td>35.2</td>\n",
       "      <td>343980</td>\n",
       "      <td>9772.00</td>\n",
       "    </tr>\n",
       "    <tr>\n",
       "      <th>16</th>\n",
       "      <td>Parelheiros</td>\n",
       "      <td>-23.8248</td>\n",
       "      <td>-46.7331</td>\n",
       "      <td>353.5</td>\n",
       "      <td>139441</td>\n",
       "      <td>394.00</td>\n",
       "    </tr>\n",
       "    <tr>\n",
       "      <th>17</th>\n",
       "      <td>Penha</td>\n",
       "      <td>-23.5237</td>\n",
       "      <td>-46.5438</td>\n",
       "      <td>42.8</td>\n",
       "      <td>474659</td>\n",
       "      <td>11090.00</td>\n",
       "    </tr>\n",
       "    <tr>\n",
       "      <th>18</th>\n",
       "      <td>Perus</td>\n",
       "      <td>-23.4085</td>\n",
       "      <td>-46.7436</td>\n",
       "      <td>57.2</td>\n",
       "      <td>164046</td>\n",
       "      <td>2553.00</td>\n",
       "    </tr>\n",
       "    <tr>\n",
       "      <th>19</th>\n",
       "      <td>Pinheiros</td>\n",
       "      <td>-23.5664</td>\n",
       "      <td>-46.6906</td>\n",
       "      <td>31.7</td>\n",
       "      <td>289743</td>\n",
       "      <td>9140.00</td>\n",
       "    </tr>\n",
       "    <tr>\n",
       "      <th>20</th>\n",
       "      <td>Pirituba-Jaraguá</td>\n",
       "      <td>-23.4368</td>\n",
       "      <td>-46.7205</td>\n",
       "      <td>54.7</td>\n",
       "      <td>437592</td>\n",
       "      <td>8000.00</td>\n",
       "    </tr>\n",
       "    <tr>\n",
       "      <th>21</th>\n",
       "      <td>Santana-Tucuruvi</td>\n",
       "      <td>-23.5021</td>\n",
       "      <td>-46.6265</td>\n",
       "      <td>34.7</td>\n",
       "      <td>324815</td>\n",
       "      <td>9361.00</td>\n",
       "    </tr>\n",
       "    <tr>\n",
       "      <th>22</th>\n",
       "      <td>Santo Amaro</td>\n",
       "      <td>-23.6425</td>\n",
       "      <td>-46.6999</td>\n",
       "      <td>37.5</td>\n",
       "      <td>238025</td>\n",
       "      <td>6347.00</td>\n",
       "    </tr>\n",
       "    <tr>\n",
       "      <th>23</th>\n",
       "      <td>São Mateus</td>\n",
       "      <td>-23.5983</td>\n",
       "      <td>-46.4817</td>\n",
       "      <td>45.8</td>\n",
       "      <td>426794</td>\n",
       "      <td>9319.00</td>\n",
       "    </tr>\n",
       "    <tr>\n",
       "      <th>24</th>\n",
       "      <td>São Miguel Paulista</td>\n",
       "      <td>-23.5029</td>\n",
       "      <td>-46.4383</td>\n",
       "      <td>24.3</td>\n",
       "      <td>369496</td>\n",
       "      <td>15206.00</td>\n",
       "    </tr>\n",
       "    <tr>\n",
       "      <th>25</th>\n",
       "      <td>Sapopemba</td>\n",
       "      <td>-23.6046</td>\n",
       "      <td>-46.5098</td>\n",
       "      <td>13.5</td>\n",
       "      <td>284524</td>\n",
       "      <td>21076.00</td>\n",
       "    </tr>\n",
       "    <tr>\n",
       "      <th>26</th>\n",
       "      <td>Sé</td>\n",
       "      <td>-23.5504</td>\n",
       "      <td>-46.6334</td>\n",
       "      <td>26.2</td>\n",
       "      <td>431106</td>\n",
       "      <td>16.00</td>\n",
       "    </tr>\n",
       "    <tr>\n",
       "      <th>27</th>\n",
       "      <td>Vila Maria-Vila Guilherme</td>\n",
       "      <td>-23.5202</td>\n",
       "      <td>-46.596</td>\n",
       "      <td>26.4</td>\n",
       "      <td>297713</td>\n",
       "      <td>11.00</td>\n",
       "    </tr>\n",
       "    <tr>\n",
       "      <th>28</th>\n",
       "      <td>Vila Mariana</td>\n",
       "      <td>-23.5837</td>\n",
       "      <td>-46.6327</td>\n",
       "      <td>26.5</td>\n",
       "      <td>344632</td>\n",
       "      <td>13.00</td>\n",
       "    </tr>\n",
       "    <tr>\n",
       "      <th>29</th>\n",
       "      <td>Vila Prudente</td>\n",
       "      <td>-23.5923</td>\n",
       "      <td>-46.575</td>\n",
       "      <td>19.8</td>\n",
       "      <td>246589</td>\n",
       "      <td>12.45</td>\n",
       "    </tr>\n",
       "  </tbody>\n",
       "</table>\n",
       "</div>"
      ],
      "text/plain": [
       "                      Borough      lat      lng   Área  População  Densidade\n",
       "0                  Aricanduva -23.5726 -46.5183   21.5     267702   12451.00\n",
       "1                     Butantã -23.5691 -46.7219   56.1     428217    7633.00\n",
       "2                 Campo Limpo -23.6326 -46.7597   36.7     607105   16542.00\n",
       "3                  Casa Verde -23.4991 -46.6541   26.7     309376   11587.00\n",
       "4               Cidade Ademar -23.6692 -46.6588   30.7     410998   13388.00\n",
       "5           Cidade Tiradentes -23.5892 -46.3964   15.0     211501   14100.00\n",
       "6          Ermelino Matarazzo -23.4917 -46.4841   15.1     207509   13742.00\n",
       "7       Freguesia-Brasilândia -23.4835 -46.6871   31.5     407245   12928.00\n",
       "8                  Guaianases -23.5557 -46.4093   17.8     268508   15085.00\n",
       "9                    Ipiranga -23.5893 -46.6062   37.5     463804   12368.00\n",
       "10             Itaim Paulista -23.5035 -46.3855   21.7     373127   17195.00\n",
       "11                   Itaquera -23.5352 -46.4542   54.3     523848    9647.00\n",
       "12                  Jabaquara -23.6521   -46.65   14.1     223780   15871.00\n",
       "13                       Lapa -23.5243 -46.7034   40.1     305526    7619.00\n",
       "14                M'Boi Mirim -23.6689 -46.7337   62.1     563305    9071.00\n",
       "15                      Mooca -23.5617 -46.5971   35.2     343980    9772.00\n",
       "16                Parelheiros -23.8248 -46.7331  353.5     139441     394.00\n",
       "17                      Penha -23.5237 -46.5438   42.8     474659   11090.00\n",
       "18                      Perus -23.4085 -46.7436   57.2     164046    2553.00\n",
       "19                  Pinheiros -23.5664 -46.6906   31.7     289743    9140.00\n",
       "20           Pirituba-Jaraguá -23.4368 -46.7205   54.7     437592    8000.00\n",
       "21           Santana-Tucuruvi -23.5021 -46.6265   34.7     324815    9361.00\n",
       "22                Santo Amaro -23.6425 -46.6999   37.5     238025    6347.00\n",
       "23                 São Mateus -23.5983 -46.4817   45.8     426794    9319.00\n",
       "24        São Miguel Paulista -23.5029 -46.4383   24.3     369496   15206.00\n",
       "25                  Sapopemba -23.6046 -46.5098   13.5     284524   21076.00\n",
       "26                         Sé -23.5504 -46.6334   26.2     431106      16.00\n",
       "27  Vila Maria-Vila Guilherme -23.5202  -46.596   26.4     297713      11.00\n",
       "28               Vila Mariana -23.5837 -46.6327   26.5     344632      13.00\n",
       "29              Vila Prudente -23.5923  -46.575   19.8     246589      12.45"
      ]
     },
     "execution_count": 4,
     "metadata": {},
     "output_type": "execute_result"
    }
   ],
   "source": [
    "#BoroughPop = pd.read_csv('DistritosSaoPaulo.csv', delimiter=\",\")\n",
    "BoroughPop = pd.read_csv('https://raw.githubusercontent.com/flbpinto/CapstoneProject/master/DistritosSaoPaulo.csv', delimiter=\",\")\n",
    "neighbor = neighborhoods.merge(BoroughPop, left_on= 'Borough', right_on='Distritos')\n",
    "neighbor.drop(['address', 'Distritos'], axis=1, inplace=True)\n",
    "neighbor"
   ]
  },
  {
   "cell_type": "markdown",
   "metadata": {},
   "source": [
    "##### Locating the borhoods in the city"
   ]
  },
  {
   "cell_type": "code",
   "execution_count": 5,
   "metadata": {},
   "outputs": [
    {
     "name": "stdout",
     "output_type": "stream",
     "text": [
      "The geograpical coordinate of São Paulo are -23.5506507, -46.6333824.\n"
     ]
    }
   ],
   "source": [
    "address = 'São Paulo, Brasil'\n",
    "geolocator = Nominatim(user_agent=\"can_explorer\")\n",
    "location = geolocator.geocode(address)\n",
    "latitude = location.latitude\n",
    "longitude = location.longitude\n",
    "print('The geograpical coordinate of São Paulo are {}, {}.'.format(latitude, longitude))"
   ]
  },
  {
   "cell_type": "code",
   "execution_count": 6,
   "metadata": {},
   "outputs": [
    {
     "data": {
      "text/html": [
       "<div style=\"width:100%;\"><div style=\"position:relative;width:100%;height:0;padding-bottom:60%;\"><iframe src=\"data:text/html;charset=utf-8;base64,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\" style=\"position:absolute;width:100%;height:100%;left:0;top:0;border:none !important;\" allowfullscreen webkitallowfullscreen mozallowfullscreen></iframe></div></div>"
      ],
      "text/plain": [
       "<folium.folium.Map at 0x7fe033816da0>"
      ]
     },
     "execution_count": 6,
     "metadata": {},
     "output_type": "execute_result"
    }
   ],
   "source": [
    "# create map of New York using latitude and longitude values\n",
    "map_sampa = folium.Map(location=[latitude, longitude], zoom_start=10)\n",
    "\n",
    "# add markers to map\n",
    "for lat, lng, Borough in zip(neighbor['lat'], neighbor['lng'], neighbor['Borough']):\n",
    "    label = format(Borough)\n",
    "    label = folium.Popup(label, parse_html=True)\n",
    "    folium.CircleMarker(\n",
    "        [lat, lng],\n",
    "        radius=5,\n",
    "        popup=label,\n",
    "        color='blue',\n",
    "        fill=True,\n",
    "        fill_color='#3186cc',\n",
    "        fill_opacity=0.7,\n",
    "        parse_html=False).add_to(map_sampa)  \n",
    "    \n",
    "map_sampa"
   ]
  },
  {
   "cell_type": "markdown",
   "metadata": {},
   "source": [
    "#### Districts Analyze"
   ]
  },
  {
   "cell_type": "markdown",
   "metadata": {},
   "source": [
    "##### Selecting neighbor for sampling\n",
    "\n",
    "Sé, Jabaquara, Itaim Paulista, São Mateus, Pinheiros, Santana-Tucuruvi"
   ]
  },
  {
   "cell_type": "code",
   "execution_count": 7,
   "metadata": {},
   "outputs": [
    {
     "data": {
      "text/html": [
       "<div>\n",
       "<style scoped>\n",
       "    .dataframe tbody tr th:only-of-type {\n",
       "        vertical-align: middle;\n",
       "    }\n",
       "\n",
       "    .dataframe tbody tr th {\n",
       "        vertical-align: top;\n",
       "    }\n",
       "\n",
       "    .dataframe thead th {\n",
       "        text-align: right;\n",
       "    }\n",
       "</style>\n",
       "<table border=\"1\" class=\"dataframe\">\n",
       "  <thead>\n",
       "    <tr style=\"text-align: right;\">\n",
       "      <th></th>\n",
       "      <th>Borough</th>\n",
       "      <th>lat</th>\n",
       "      <th>lng</th>\n",
       "      <th>Área</th>\n",
       "      <th>População</th>\n",
       "      <th>Densidade</th>\n",
       "      <th>ID</th>\n",
       "    </tr>\n",
       "  </thead>\n",
       "  <tbody>\n",
       "    <tr>\n",
       "      <th>0</th>\n",
       "      <td>Itaim Paulista</td>\n",
       "      <td>-23.5035</td>\n",
       "      <td>-46.3855</td>\n",
       "      <td>21.7</td>\n",
       "      <td>373127</td>\n",
       "      <td>17195.0</td>\n",
       "      <td>NaN</td>\n",
       "    </tr>\n",
       "    <tr>\n",
       "      <th>1</th>\n",
       "      <td>Jabaquara</td>\n",
       "      <td>-23.6521</td>\n",
       "      <td>-46.65</td>\n",
       "      <td>14.1</td>\n",
       "      <td>223780</td>\n",
       "      <td>15871.0</td>\n",
       "      <td>NaN</td>\n",
       "    </tr>\n",
       "    <tr>\n",
       "      <th>2</th>\n",
       "      <td>Pinheiros</td>\n",
       "      <td>-23.5664</td>\n",
       "      <td>-46.6906</td>\n",
       "      <td>31.7</td>\n",
       "      <td>289743</td>\n",
       "      <td>9140.0</td>\n",
       "      <td>NaN</td>\n",
       "    </tr>\n",
       "    <tr>\n",
       "      <th>3</th>\n",
       "      <td>Santana-Tucuruvi</td>\n",
       "      <td>-23.5021</td>\n",
       "      <td>-46.6265</td>\n",
       "      <td>34.7</td>\n",
       "      <td>324815</td>\n",
       "      <td>9361.0</td>\n",
       "      <td>NaN</td>\n",
       "    </tr>\n",
       "    <tr>\n",
       "      <th>4</th>\n",
       "      <td>São Mateus</td>\n",
       "      <td>-23.5983</td>\n",
       "      <td>-46.4817</td>\n",
       "      <td>45.8</td>\n",
       "      <td>426794</td>\n",
       "      <td>9319.0</td>\n",
       "      <td>NaN</td>\n",
       "    </tr>\n",
       "    <tr>\n",
       "      <th>5</th>\n",
       "      <td>Sé</td>\n",
       "      <td>-23.5504</td>\n",
       "      <td>-46.6334</td>\n",
       "      <td>26.2</td>\n",
       "      <td>431106</td>\n",
       "      <td>16.0</td>\n",
       "      <td>NaN</td>\n",
       "    </tr>\n",
       "    <tr>\n",
       "      <th>6</th>\n",
       "      <td>Outros</td>\n",
       "      <td>NaN</td>\n",
       "      <td>NaN</td>\n",
       "      <td>1136.5</td>\n",
       "      <td>8315341</td>\n",
       "      <td>7316.0</td>\n",
       "      <td>33.0</td>\n",
       "    </tr>\n",
       "  </tbody>\n",
       "</table>\n",
       "</div>"
      ],
      "text/plain": [
       "            Borough      lat      lng    Área  População  Densidade    ID\n",
       "0    Itaim Paulista -23.5035 -46.3855    21.7     373127    17195.0   NaN\n",
       "1         Jabaquara -23.6521   -46.65    14.1     223780    15871.0   NaN\n",
       "2         Pinheiros -23.5664 -46.6906    31.7     289743     9140.0   NaN\n",
       "3  Santana-Tucuruvi -23.5021 -46.6265    34.7     324815     9361.0   NaN\n",
       "4        São Mateus -23.5983 -46.4817    45.8     426794     9319.0   NaN\n",
       "5                Sé -23.5504 -46.6334    26.2     431106       16.0   NaN\n",
       "6            Outros      NaN      NaN  1136.5    8315341     7316.0  33.0"
      ]
     },
     "execution_count": 7,
     "metadata": {},
     "output_type": "execute_result"
    }
   ],
   "source": [
    "#Selecionando Distritos para serema analisados\n",
    "options =  ['Sé','Jabaquara','Itaim Paulista','São Mateus','Pinheiros','Santana-Tucuruvi'] \n",
    "neig_df = neighbor[neighbor['Borough'].isin(options)]\n",
    "\n",
    "neig_tot_df = neighbor[neighbor['Borough'].isin(options) == False]\n",
    "neig_tot_df1 = neig_tot_df.sum(axis = 0, skipna = True) \n",
    "neig_tot_df1.Densidade = (neig_tot_df1.População//neig_tot_df1.Área)\n",
    "neig_tot_df1.ID = 33\n",
    "\n",
    "neig_tot_df = neig_df.append({'Borough' : 'Outros', 'População' : neig_tot_df1.População , \n",
    "                                  'Área' : neig_tot_df1.Área ,\n",
    "                                 'Densidade': neig_tot_df1.Densidade ,\n",
    "                                 'ID' : neig_tot_df1.ID }, ignore_index=True)\n",
    "neig_tot_df"
   ]
  },
  {
   "cell_type": "markdown",
   "metadata": {},
   "source": [
    "#### Basis of study regarding the population of the city of São Paulo"
   ]
  },
  {
   "cell_type": "code",
   "execution_count": 8,
   "metadata": {},
   "outputs": [
    {
     "data": {
      "image/png": "[encoded data removed]",
      "text/plain": [
       "<Figure size 1080x432 with 1 Axes>"
      ]
     },
     "metadata": {},
     "output_type": "display_data"
    }
   ],
   "source": [
    "neig_tot_df['População'].plot(kind='pie',\n",
    "                            figsize=(15, 6),\n",
    "                            autopct='%1.1f%%', \n",
    "                            startangle=90,    \n",
    "                            shadow=True,       \n",
    "                            labels=None,                 # turn off labels on pie chart\n",
    "                            pctdistance=1.12,            # the ratio between the pie center and start of text label\n",
    "                            )\n",
    "\n",
    "# scale the title up by 12% to match pctdistance\n",
    "plt.title('Basis of study regarding the population of the city of São Paulo', y=1.12) \n",
    "plt.axis('equal') \n",
    "# add legend\n",
    "plt.legend(labels=neig_tot_df.Borough, loc='upper left') \n",
    "# show plot\n",
    "plt.show()"
   ]
  },
  {
   "cell_type": "code",
   "execution_count": 9,
   "metadata": {},
   "outputs": [
    {
     "data": {
      "image/png": "[encoded data removed]",
      "text/plain": [
       "<Figure size 720x432 with 1 Axes>"
      ]
     },
     "metadata": {
      "needs_background": "light"
     },
     "output_type": "display_data"
    }
   ],
   "source": [
    "neig_df1 = neig_df[['Borough','População']]\n",
    "neig_df1.set_index('Borough', inplace=True)\n",
    "\n",
    "neig_df1.plot(kind='bar', figsize=(10, 6))\n",
    "plt.title('People living in Borough') # add a title to the histogram\n",
    "plt.ylabel('People') # add y-label\n",
    "plt.xlabel('Borough') # add x-label\n",
    "plt.show()"
   ]
  },
  {
   "cell_type": "markdown",
   "metadata": {},
   "source": [
    "#### Define Foursquare Credentials and Version"
   ]
  },
  {
   "cell_type": "code",
   "execution_count": 10,
   "metadata": {},
   "outputs": [
    {
     "name": "stdout",
     "output_type": "stream",
     "text": [
      " Foursquare Credentials Defined\n"
     ]
    }
   ],
   "source": [
    "CLIENT_ID = 'VFH4YF4J21L1HTFLM0XVUW21V2XOQ1SQ1NYHRIGCHABZEJAE' # your Foursquare ID\n",
    "CLIENT_SECRET = '52PY5FSTYR4XJ3XVVQ4SOXH4GLQ1MJBH4HHDYPHJBF0IQLTE' # your Foursquare Secret\n",
    "VERSION = '20180605' # Foursquare API version\n",
    "print(' Foursquare Credentials Defined')"
   ]
  },
  {
   "cell_type": "markdown",
   "metadata": {},
   "source": [
    "<hr>"
   ]
  },
  {
   "cell_type": "markdown",
   "metadata": {},
   "source": [
    "1 - Borough \n",
    "### Sé"
   ]
  },
  {
   "cell_type": "markdown",
   "metadata": {},
   "source": [
    "##### Getting data from Foursquare"
   ]
  },
  {
   "cell_type": "code",
   "execution_count": 11,
   "metadata": {},
   "outputs": [],
   "source": [
    "neighborhood_latitude = neighbor.lat[neighbor['Borough'].isin(['Sé'])].mean()\n",
    "neighborhood_longitude = neighbor.lng[neighbor['Borough'].isin(['Sé'])].mean()\n",
    "\n",
    "LIMIT = 200 # limit of number of venues returned by Foursquare API\n",
    "radius = 5000 # define radius\n",
    "# create URL\n",
    "url = 'https://api.foursquare.com/v2/venues/explore?&client_id={}&client_secret={}&v={}&ll={},{}&radius={}&limit={}'.format(\n",
    "    CLIENT_ID, \n",
    "    CLIENT_SECRET, \n",
    "    VERSION, \n",
    "    neighborhood_latitude, \n",
    "    neighborhood_longitude, \n",
    "    radius, \n",
    "    LIMIT)\n",
    "url # display URL\n",
    "results = requests.get(url).json()"
   ]
  },
  {
   "cell_type": "code",
   "execution_count": 12,
   "metadata": {},
   "outputs": [],
   "source": [
    "def get_category_type(row):\n",
    "    try:\n",
    "        categories_list = row['categories']\n",
    "    except:\n",
    "        categories_list = row['venue.categories']\n",
    "        \n",
    "    if len(categories_list) == 0:\n",
    "        return None\n",
    "    else:\n",
    "        return categories_list[0]['name']"
   ]
  },
  {
   "cell_type": "code",
   "execution_count": 13,
   "metadata": {},
   "outputs": [],
   "source": [
    "#pull the actual data from the Foursquare API\n",
    "\n",
    "venues = results['response']['groups'][0]['items']\n",
    "nearby_venues = json_normalize(venues)\n",
    "filtered_columns = ['venue.name', 'venue.id', 'venue.categories', 'venue.location.lat', 'venue.location.lng']\n",
    "nearby_venues\n",
    "nearby_venues =nearby_venues.loc[:, filtered_columns]\n",
    "\n",
    "# filter the category for each row\n",
    "nearby_venues['venue.categories'] = nearby_venues.apply(get_category_type, axis=1)\n",
    "\n",
    "nearby_venues\n",
    "\n",
    "#column formatting\n",
    "nearby_venues.columns = [col.split(\".\")[-1] for col in nearby_venues.columns]\n",
    "\n",
    "#nearby_venues"
   ]
  },
  {
   "cell_type": "code",
   "execution_count": 14,
   "metadata": {},
   "outputs": [],
   "source": [
    "nearby_venues['Borough'] = 'Sé'\n",
    "venues_se = nearby_venues\n",
    "all_venues = nearby_venues\n",
    "#venues_se.head()"
   ]
  },
  {
   "cell_type": "code",
   "execution_count": 15,
   "metadata": {},
   "outputs": [
    {
     "data": {
      "text/html": [
       "<div>\n",
       "<style scoped>\n",
       "    .dataframe tbody tr th:only-of-type {\n",
       "        vertical-align: middle;\n",
       "    }\n",
       "\n",
       "    .dataframe tbody tr th {\n",
       "        vertical-align: top;\n",
       "    }\n",
       "\n",
       "    .dataframe thead th {\n",
       "        text-align: right;\n",
       "    }\n",
       "</style>\n",
       "<table border=\"1\" class=\"dataframe\">\n",
       "  <thead>\n",
       "    <tr style=\"text-align: right;\">\n",
       "      <th>categories</th>\n",
       "      <th>Art Gallery</th>\n",
       "      <th>Art Museum</th>\n",
       "      <th>Concert Hall</th>\n",
       "      <th>Cultural Center</th>\n",
       "      <th>History Museum</th>\n",
       "      <th>Music Venue</th>\n",
       "      <th>Plaza</th>\n",
       "      <th>Theater</th>\n",
       "    </tr>\n",
       "  </thead>\n",
       "  <tbody>\n",
       "    <tr>\n",
       "      <th>Borough</th>\n",
       "      <td>2</td>\n",
       "      <td>2</td>\n",
       "      <td>1</td>\n",
       "      <td>6</td>\n",
       "      <td>1</td>\n",
       "      <td>1</td>\n",
       "      <td>1</td>\n",
       "      <td>6</td>\n",
       "    </tr>\n",
       "  </tbody>\n",
       "</table>\n",
       "</div>"
      ],
      "text/plain": [
       "categories  Art Gallery  Art Museum  Concert Hall  Cultural Center  \\\n",
       "Borough               2           2             1                6   \n",
       "\n",
       "categories  History Museum  Music Venue  Plaza  Theater  \n",
       "Borough                  1            1      1        6  "
      ]
     },
     "execution_count": 15,
     "metadata": {},
     "output_type": "execute_result"
    }
   ],
   "source": [
    "#Selecionando Categorias a serem analisadas\n",
    "opt =  ['Cultural Center','Theater','Music Venue','Plaza','Art Gallery','Art Museum','Concert Hall','History Museum'] \n",
    "cultural_venues_SE = nearby_venues[nearby_venues['categories'].isin(opt)]\n",
    "cultural_venues_SE\n",
    "cultural_venues_Count_SE = pd.pivot_table(cultural_venues_SE, values='Borough', columns=['categories'], aggfunc=np.count_nonzero)\n",
    "cultural_venues_Count_SE\n",
    "#cultural_venues_SE"
   ]
  },
  {
   "cell_type": "markdown",
   "metadata": {},
   "source": [
    "2 - Borough \n",
    "### Santana-Tucuruvi"
   ]
  },
  {
   "cell_type": "markdown",
   "metadata": {},
   "source": [
    "##### Getting data from Foursquare"
   ]
  },
  {
   "cell_type": "code",
   "execution_count": 16,
   "metadata": {},
   "outputs": [],
   "source": [
    "neighborhood_latitude = neighbor.lat[neighbor['Borough'].isin(['Santana-Tucuruvi'])].mean()\n",
    "neighborhood_longitude = neighbor.lng[neighbor['Borough'].isin(['Santana-Tucuruvi'])].mean()\n",
    "\n",
    "LIMIT = 200 # limit of number of venues returned by Foursquare API\n",
    "radius = 5000 # define radius\n",
    "# create URL\n",
    "url = 'https://api.foursquare.com/v2/venues/explore?&client_id={}&client_secret={}&v={}&ll={},{}&radius={}&limit={}'.format(\n",
    "    CLIENT_ID, \n",
    "    CLIENT_SECRET, \n",
    "    VERSION, \n",
    "    neighborhood_latitude, \n",
    "    neighborhood_longitude, \n",
    "    radius, \n",
    "    LIMIT)\n",
    "url # display URL\n",
    "results = requests.get(url).json()"
   ]
  },
  {
   "cell_type": "code",
   "execution_count": 17,
   "metadata": {},
   "outputs": [],
   "source": [
    "#pull the actual data from the Foursquare API\n",
    "\n",
    "venues = results['response']['groups'][0]['items']\n",
    "nearby_venues = json_normalize(venues)\n",
    "filtered_columns = ['venue.name', 'venue.id', 'venue.categories', 'venue.location.lat', 'venue.location.lng']\n",
    "nearby_venues\n",
    "nearby_venues =nearby_venues.loc[:, filtered_columns]\n",
    "\n",
    "# filter the category for each row\n",
    "nearby_venues['venue.categories'] = nearby_venues.apply(get_category_type, axis=1)\n",
    "\n",
    "nearby_venues\n",
    "\n",
    "#column formatting\n",
    "nearby_venues.columns = [col.split(\".\")[-1] for col in nearby_venues.columns]\n",
    "#nearby_venues"
   ]
  },
  {
   "cell_type": "code",
   "execution_count": 18,
   "metadata": {},
   "outputs": [
    {
     "data": {
      "text/html": [
       "<div>\n",
       "<style scoped>\n",
       "    .dataframe tbody tr th:only-of-type {\n",
       "        vertical-align: middle;\n",
       "    }\n",
       "\n",
       "    .dataframe tbody tr th {\n",
       "        vertical-align: top;\n",
       "    }\n",
       "\n",
       "    .dataframe thead th {\n",
       "        text-align: right;\n",
       "    }\n",
       "</style>\n",
       "<table border=\"1\" class=\"dataframe\">\n",
       "  <thead>\n",
       "    <tr style=\"text-align: right;\">\n",
       "      <th></th>\n",
       "      <th>name</th>\n",
       "      <th>id</th>\n",
       "      <th>categories</th>\n",
       "      <th>lat</th>\n",
       "      <th>lng</th>\n",
       "      <th>Borough</th>\n",
       "    </tr>\n",
       "  </thead>\n",
       "  <tbody>\n",
       "    <tr>\n",
       "      <th>95</th>\n",
       "      <td>Outback Steakhouse</td>\n",
       "      <td>573dff78498ea0b8c7019212</td>\n",
       "      <td>Steakhouse</td>\n",
       "      <td>-23.483351</td>\n",
       "      <td>-46.644936</td>\n",
       "      <td>Santana-Tucuruvi</td>\n",
       "    </tr>\n",
       "    <tr>\n",
       "      <th>96</th>\n",
       "      <td>Bio Ritmo</td>\n",
       "      <td>4d276b97888af04d0426bcaf</td>\n",
       "      <td>Gym</td>\n",
       "      <td>-23.482626</td>\n",
       "      <td>-46.644335</td>\n",
       "      <td>Santana-Tucuruvi</td>\n",
       "    </tr>\n",
       "    <tr>\n",
       "      <th>97</th>\n",
       "      <td>Pizzaria Monte Verde</td>\n",
       "      <td>4bd391eaa8b3a593c55e6a5f</td>\n",
       "      <td>Pizza Place</td>\n",
       "      <td>-23.523207</td>\n",
       "      <td>-46.642154</td>\n",
       "      <td>Santana-Tucuruvi</td>\n",
       "    </tr>\n",
       "    <tr>\n",
       "      <th>98</th>\n",
       "      <td>Coco Bambu</td>\n",
       "      <td>583f68711b36d478b30adef3</td>\n",
       "      <td>Seafood Restaurant</td>\n",
       "      <td>-23.512750</td>\n",
       "      <td>-46.653575</td>\n",
       "      <td>Santana-Tucuruvi</td>\n",
       "    </tr>\n",
       "    <tr>\n",
       "      <th>99</th>\n",
       "      <td>Grão Espresso</td>\n",
       "      <td>4d57fb01de8f6dcb23e50591</td>\n",
       "      <td>Café</td>\n",
       "      <td>-23.507119</td>\n",
       "      <td>-46.600528</td>\n",
       "      <td>Santana-Tucuruvi</td>\n",
       "    </tr>\n",
       "  </tbody>\n",
       "</table>\n",
       "</div>"
      ],
      "text/plain": [
       "                    name                        id          categories  \\\n",
       "95    Outback Steakhouse  573dff78498ea0b8c7019212          Steakhouse   \n",
       "96             Bio Ritmo  4d276b97888af04d0426bcaf                 Gym   \n",
       "97  Pizzaria Monte Verde  4bd391eaa8b3a593c55e6a5f         Pizza Place   \n",
       "98            Coco Bambu  583f68711b36d478b30adef3  Seafood Restaurant   \n",
       "99         Grão Espresso  4d57fb01de8f6dcb23e50591                Café   \n",
       "\n",
       "          lat        lng           Borough  \n",
       "95 -23.483351 -46.644936  Santana-Tucuruvi  \n",
       "96 -23.482626 -46.644335  Santana-Tucuruvi  \n",
       "97 -23.523207 -46.642154  Santana-Tucuruvi  \n",
       "98 -23.512750 -46.653575  Santana-Tucuruvi  \n",
       "99 -23.507119 -46.600528  Santana-Tucuruvi  "
      ]
     },
     "execution_count": 18,
     "metadata": {},
     "output_type": "execute_result"
    }
   ],
   "source": [
    "nearby_venues['Borough'] = 'Santana-Tucuruvi'\n",
    "venues_st = nearby_venues\n",
    "all_venues = all_venues.append(nearby_venues)\n",
    "venues_st.tail()"
   ]
  },
  {
   "cell_type": "code",
   "execution_count": 19,
   "metadata": {},
   "outputs": [
    {
     "data": {
      "text/html": [
       "<div>\n",
       "<style scoped>\n",
       "    .dataframe tbody tr th:only-of-type {\n",
       "        vertical-align: middle;\n",
       "    }\n",
       "\n",
       "    .dataframe tbody tr th {\n",
       "        vertical-align: top;\n",
       "    }\n",
       "\n",
       "    .dataframe thead th {\n",
       "        text-align: right;\n",
       "    }\n",
       "</style>\n",
       "<table border=\"1\" class=\"dataframe\">\n",
       "  <thead>\n",
       "    <tr style=\"text-align: right;\">\n",
       "      <th>categories</th>\n",
       "      <th>Cultural Center</th>\n",
       "      <th>Music Venue</th>\n",
       "      <th>Theater</th>\n",
       "    </tr>\n",
       "  </thead>\n",
       "  <tbody>\n",
       "    <tr>\n",
       "      <th>Borough</th>\n",
       "      <td>1</td>\n",
       "      <td>1</td>\n",
       "      <td>1</td>\n",
       "    </tr>\n",
       "  </tbody>\n",
       "</table>\n",
       "</div>"
      ],
      "text/plain": [
       "categories  Cultural Center  Music Venue  Theater\n",
       "Borough                   1            1        1"
      ]
     },
     "execution_count": 19,
     "metadata": {},
     "output_type": "execute_result"
    }
   ],
   "source": [
    "#Selecionando Categorias a serem analisadas\n",
    "opt =  ['Cultural Center','Theater','Music Venue','Plaza','Art Gallery','Art Museum','Concert Hall','History Museum'] \n",
    "cultural_venues_st = nearby_venues[nearby_venues['categories'].isin(opt)]\n",
    "cultural_venues_st\n",
    "cultural_venues_Count_st = pd.pivot_table(cultural_venues_st, values='Borough', columns=['categories'], aggfunc=np.count_nonzero)\n",
    "cultural_venues_Count_st"
   ]
  },
  {
   "cell_type": "markdown",
   "metadata": {},
   "source": [
    "3 - Borough \n",
    "### Pinheiros"
   ]
  },
  {
   "cell_type": "markdown",
   "metadata": {},
   "source": [
    "##### Getting data from Foursquare"
   ]
  },
  {
   "cell_type": "code",
   "execution_count": 20,
   "metadata": {},
   "outputs": [],
   "source": [
    "neighborhood_latitude = neighbor.lat[neighbor['Borough'].isin(['Pinheiros'])].mean()\n",
    "neighborhood_longitude = neighbor.lng[neighbor['Borough'].isin(['Pinheiros'])].mean()\n",
    "\n",
    "LIMIT = 200 # limit of number of venues returned by Foursquare API\n",
    "radius = 5000 # define radius\n",
    "# create URL\n",
    "url = 'https://api.foursquare.com/v2/venues/explore?&client_id={}&client_secret={}&v={}&ll={},{}&radius={}&limit={}'.format(\n",
    "    CLIENT_ID, \n",
    "    CLIENT_SECRET, \n",
    "    VERSION, \n",
    "    neighborhood_latitude, \n",
    "    neighborhood_longitude, \n",
    "    radius, \n",
    "    LIMIT)\n",
    "url # display URL\n",
    "results = requests.get(url).json()"
   ]
  },
  {
   "cell_type": "code",
   "execution_count": 21,
   "metadata": {},
   "outputs": [],
   "source": [
    "#pull the actual data from the Foursquare API\n",
    "\n",
    "venues = results['response']['groups'][0]['items']\n",
    "nearby_venues = json_normalize(venues)\n",
    "filtered_columns = ['venue.name', 'venue.id', 'venue.categories', 'venue.location.lat', 'venue.location.lng']\n",
    "nearby_venues\n",
    "nearby_venues =nearby_venues.loc[:, filtered_columns]\n",
    "\n",
    "# filter the category for each row\n",
    "nearby_venues['venue.categories'] = nearby_venues.apply(get_category_type, axis=1)\n",
    "\n",
    "nearby_venues\n",
    "\n",
    "#column formatting\n",
    "nearby_venues.columns = [col.split(\".\")[-1] for col in nearby_venues.columns]\n",
    "#nearby_venues"
   ]
  },
  {
   "cell_type": "code",
   "execution_count": 22,
   "metadata": {},
   "outputs": [
    {
     "data": {
      "text/html": [
       "<div>\n",
       "<style scoped>\n",
       "    .dataframe tbody tr th:only-of-type {\n",
       "        vertical-align: middle;\n",
       "    }\n",
       "\n",
       "    .dataframe tbody tr th {\n",
       "        vertical-align: top;\n",
       "    }\n",
       "\n",
       "    .dataframe thead th {\n",
       "        text-align: right;\n",
       "    }\n",
       "</style>\n",
       "<table border=\"1\" class=\"dataframe\">\n",
       "  <thead>\n",
       "    <tr style=\"text-align: right;\">\n",
       "      <th></th>\n",
       "      <th>name</th>\n",
       "      <th>id</th>\n",
       "      <th>categories</th>\n",
       "      <th>lat</th>\n",
       "      <th>lng</th>\n",
       "      <th>Borough</th>\n",
       "    </tr>\n",
       "  </thead>\n",
       "  <tbody>\n",
       "    <tr>\n",
       "      <th>0</th>\n",
       "      <td>Sede261</td>\n",
       "      <td>5a511417d69ed05523946774</td>\n",
       "      <td>Wine Bar</td>\n",
       "      <td>-23.566272</td>\n",
       "      <td>-46.688749</td>\n",
       "      <td>Pinheiros</td>\n",
       "    </tr>\n",
       "    <tr>\n",
       "      <th>1</th>\n",
       "      <td>Napoli Centrale</td>\n",
       "      <td>5762d0d5498e45b44c294c05</td>\n",
       "      <td>Pizza Place</td>\n",
       "      <td>-23.565690</td>\n",
       "      <td>-46.692568</td>\n",
       "      <td>Pinheiros</td>\n",
       "    </tr>\n",
       "    <tr>\n",
       "      <th>2</th>\n",
       "      <td>Ambar Cervejas Artesanais</td>\n",
       "      <td>56c79311cd10aa917ff1d5eb</td>\n",
       "      <td>Beer Bar</td>\n",
       "      <td>-23.567264</td>\n",
       "      <td>-46.690404</td>\n",
       "      <td>Pinheiros</td>\n",
       "    </tr>\n",
       "    <tr>\n",
       "      <th>3</th>\n",
       "      <td>Izakaya Matsu</td>\n",
       "      <td>54933e45498ecffa717eabda</td>\n",
       "      <td>Japanese Restaurant</td>\n",
       "      <td>-23.566377</td>\n",
       "      <td>-46.689701</td>\n",
       "      <td>Pinheiros</td>\n",
       "    </tr>\n",
       "    <tr>\n",
       "      <th>4</th>\n",
       "      <td>Escandinavo</td>\n",
       "      <td>5b37af61d48ec1002c76c691</td>\n",
       "      <td>Scandinavian Restaurant</td>\n",
       "      <td>-23.563618</td>\n",
       "      <td>-46.690248</td>\n",
       "      <td>Pinheiros</td>\n",
       "    </tr>\n",
       "  </tbody>\n",
       "</table>\n",
       "</div>"
      ],
      "text/plain": [
       "                        name                        id  \\\n",
       "0                    Sede261  5a511417d69ed05523946774   \n",
       "1            Napoli Centrale  5762d0d5498e45b44c294c05   \n",
       "2  Ambar Cervejas Artesanais  56c79311cd10aa917ff1d5eb   \n",
       "3              Izakaya Matsu  54933e45498ecffa717eabda   \n",
       "4                Escandinavo  5b37af61d48ec1002c76c691   \n",
       "\n",
       "                categories        lat        lng    Borough  \n",
       "0                 Wine Bar -23.566272 -46.688749  Pinheiros  \n",
       "1              Pizza Place -23.565690 -46.692568  Pinheiros  \n",
       "2                 Beer Bar -23.567264 -46.690404  Pinheiros  \n",
       "3      Japanese Restaurant -23.566377 -46.689701  Pinheiros  \n",
       "4  Scandinavian Restaurant -23.563618 -46.690248  Pinheiros  "
      ]
     },
     "execution_count": 22,
     "metadata": {},
     "output_type": "execute_result"
    }
   ],
   "source": [
    "nearby_venues['Borough'] = 'Pinheiros'\n",
    "venues_PN =nearby_venues\n",
    "all_venues = all_venues.append(nearby_venues)\n",
    "venues_PN.head()"
   ]
  },
  {
   "cell_type": "code",
   "execution_count": 23,
   "metadata": {},
   "outputs": [
    {
     "data": {
      "text/html": [
       "<div>\n",
       "<style scoped>\n",
       "    .dataframe tbody tr th:only-of-type {\n",
       "        vertical-align: middle;\n",
       "    }\n",
       "\n",
       "    .dataframe tbody tr th {\n",
       "        vertical-align: top;\n",
       "    }\n",
       "\n",
       "    .dataframe thead th {\n",
       "        text-align: right;\n",
       "    }\n",
       "</style>\n",
       "<table border=\"1\" class=\"dataframe\">\n",
       "  <thead>\n",
       "    <tr style=\"text-align: right;\">\n",
       "      <th>categories</th>\n",
       "      <th>Art Gallery</th>\n",
       "      <th>Art Museum</th>\n",
       "      <th>Plaza</th>\n",
       "      <th>Theater</th>\n",
       "    </tr>\n",
       "  </thead>\n",
       "  <tbody>\n",
       "    <tr>\n",
       "      <th>Borough</th>\n",
       "      <td>2</td>\n",
       "      <td>1</td>\n",
       "      <td>3</td>\n",
       "      <td>1</td>\n",
       "    </tr>\n",
       "  </tbody>\n",
       "</table>\n",
       "</div>"
      ],
      "text/plain": [
       "categories  Art Gallery  Art Museum  Plaza  Theater\n",
       "Borough               2           1      3        1"
      ]
     },
     "execution_count": 23,
     "metadata": {},
     "output_type": "execute_result"
    }
   ],
   "source": [
    "#Selecionando Categorias a serem analisadas\n",
    "opt =  ['Cultural Center','Theater','Music Venue','Plaza','Art Gallery','Art Museum','Concert Hall','History Museum'] \n",
    "cultural_venues_pn = nearby_venues[nearby_venues['categories'].isin(opt)]\n",
    "cultural_venues_pn\n",
    "cultural_venues_Count_pn = pd.pivot_table(cultural_venues_pn, values='Borough', columns=['categories'], aggfunc=np.count_nonzero)\n",
    "cultural_venues_Count_pn"
   ]
  },
  {
   "cell_type": "markdown",
   "metadata": {},
   "source": [
    "4 - Borough \n",
    "### Itaim Paulista"
   ]
  },
  {
   "cell_type": "markdown",
   "metadata": {},
   "source": [
    "##### Getting data from Foursquare"
   ]
  },
  {
   "cell_type": "code",
   "execution_count": 24,
   "metadata": {},
   "outputs": [],
   "source": [
    "neighborhood_latitude = neighbor.lat[neighbor['Borough'].isin(['Itaim Paulista'])].mean()\n",
    "neighborhood_longitude = neighbor.lng[neighbor['Borough'].isin(['Itaim Paulista'])].mean()\n",
    "\n",
    "LIMIT = 200 # limit of number of venues returned by Foursquare API\n",
    "radius = 5000 # define radius\n",
    "# create URL\n",
    "url = 'https://api.foursquare.com/v2/venues/explore?&client_id={}&client_secret={}&v={}&ll={},{}&radius={}&limit={}'.format(\n",
    "    CLIENT_ID, \n",
    "    CLIENT_SECRET, \n",
    "    VERSION, \n",
    "    neighborhood_latitude, \n",
    "    neighborhood_longitude, \n",
    "    radius, \n",
    "    LIMIT)\n",
    "url # display URL\n",
    "results = requests.get(url).json()"
   ]
  },
  {
   "cell_type": "code",
   "execution_count": 25,
   "metadata": {},
   "outputs": [],
   "source": [
    "#pull the actual data from the Foursquare API\n",
    "\n",
    "venues = results['response']['groups'][0]['items']\n",
    "nearby_venues = json_normalize(venues)\n",
    "filtered_columns = ['venue.name', 'venue.id', 'venue.categories', 'venue.location.lat', 'venue.location.lng']\n",
    "nearby_venues\n",
    "nearby_venues =nearby_venues.loc[:, filtered_columns]\n",
    "\n",
    "# filter the category for each row\n",
    "nearby_venues['venue.categories'] = nearby_venues.apply(get_category_type, axis=1)\n",
    "\n",
    "nearby_venues\n",
    "\n",
    "#column formatting\n",
    "nearby_venues.columns = [col.split(\".\")[-1] for col in nearby_venues.columns]\n",
    "#nearby_venues"
   ]
  },
  {
   "cell_type": "code",
   "execution_count": 26,
   "metadata": {},
   "outputs": [
    {
     "data": {
      "text/html": [
       "<div>\n",
       "<style scoped>\n",
       "    .dataframe tbody tr th:only-of-type {\n",
       "        vertical-align: middle;\n",
       "    }\n",
       "\n",
       "    .dataframe tbody tr th {\n",
       "        vertical-align: top;\n",
       "    }\n",
       "\n",
       "    .dataframe thead th {\n",
       "        text-align: right;\n",
       "    }\n",
       "</style>\n",
       "<table border=\"1\" class=\"dataframe\">\n",
       "  <thead>\n",
       "    <tr style=\"text-align: right;\">\n",
       "      <th></th>\n",
       "      <th>name</th>\n",
       "      <th>id</th>\n",
       "      <th>categories</th>\n",
       "      <th>lat</th>\n",
       "      <th>lng</th>\n",
       "      <th>Borough</th>\n",
       "    </tr>\n",
       "  </thead>\n",
       "  <tbody>\n",
       "    <tr>\n",
       "      <th>0</th>\n",
       "      <td>Flex Academia</td>\n",
       "      <td>504416f8d86c6dbc11b8f55e</td>\n",
       "      <td>Gym</td>\n",
       "      <td>-23.509623</td>\n",
       "      <td>-46.382097</td>\n",
       "      <td>Itaim Paulista</td>\n",
       "    </tr>\n",
       "    <tr>\n",
       "      <th>1</th>\n",
       "      <td>Burger King</td>\n",
       "      <td>5865a60f45c3ed1e7dd9dc71</td>\n",
       "      <td>Fast Food Restaurant</td>\n",
       "      <td>-23.494154</td>\n",
       "      <td>-46.390150</td>\n",
       "      <td>Itaim Paulista</td>\n",
       "    </tr>\n",
       "    <tr>\n",
       "      <th>2</th>\n",
       "      <td>Supermercado Rossi</td>\n",
       "      <td>58378701a6118c60b5d03b34</td>\n",
       "      <td>Supermarket</td>\n",
       "      <td>-23.501462</td>\n",
       "      <td>-46.384776</td>\n",
       "      <td>Itaim Paulista</td>\n",
       "    </tr>\n",
       "    <tr>\n",
       "      <th>3</th>\n",
       "      <td>Softness Doceria</td>\n",
       "      <td>50c643ede4b0e2b40df25651</td>\n",
       "      <td>Snack Place</td>\n",
       "      <td>-23.498153</td>\n",
       "      <td>-46.401145</td>\n",
       "      <td>Itaim Paulista</td>\n",
       "    </tr>\n",
       "    <tr>\n",
       "      <th>4</th>\n",
       "      <td>Padaria Mandala</td>\n",
       "      <td>4daaff8b6a2303012f199a95</td>\n",
       "      <td>Bakery</td>\n",
       "      <td>-23.505116</td>\n",
       "      <td>-46.397723</td>\n",
       "      <td>Itaim Paulista</td>\n",
       "    </tr>\n",
       "  </tbody>\n",
       "</table>\n",
       "</div>"
      ],
      "text/plain": [
       "                 name                        id            categories  \\\n",
       "0       Flex Academia  504416f8d86c6dbc11b8f55e                   Gym   \n",
       "1         Burger King  5865a60f45c3ed1e7dd9dc71  Fast Food Restaurant   \n",
       "2  Supermercado Rossi  58378701a6118c60b5d03b34           Supermarket   \n",
       "3    Softness Doceria  50c643ede4b0e2b40df25651           Snack Place   \n",
       "4     Padaria Mandala  4daaff8b6a2303012f199a95                Bakery   \n",
       "\n",
       "         lat        lng         Borough  \n",
       "0 -23.509623 -46.382097  Itaim Paulista  \n",
       "1 -23.494154 -46.390150  Itaim Paulista  \n",
       "2 -23.501462 -46.384776  Itaim Paulista  \n",
       "3 -23.498153 -46.401145  Itaim Paulista  \n",
       "4 -23.505116 -46.397723  Itaim Paulista  "
      ]
     },
     "execution_count": 26,
     "metadata": {},
     "output_type": "execute_result"
    }
   ],
   "source": [
    "nearby_venues['Borough'] = 'Itaim Paulista'\n",
    "venues_ip =nearby_venues\n",
    "all_venues = all_venues.append(nearby_venues)\n",
    "venues_ip.head()"
   ]
  },
  {
   "cell_type": "code",
   "execution_count": 27,
   "metadata": {},
   "outputs": [
    {
     "data": {
      "text/html": [
       "<div>\n",
       "<style scoped>\n",
       "    .dataframe tbody tr th:only-of-type {\n",
       "        vertical-align: middle;\n",
       "    }\n",
       "\n",
       "    .dataframe tbody tr th {\n",
       "        vertical-align: top;\n",
       "    }\n",
       "\n",
       "    .dataframe thead th {\n",
       "        text-align: right;\n",
       "    }\n",
       "</style>\n",
       "<table border=\"1\" class=\"dataframe\">\n",
       "  <thead>\n",
       "    <tr style=\"text-align: right;\">\n",
       "      <th>categories</th>\n",
       "      <th>Plaza</th>\n",
       "    </tr>\n",
       "  </thead>\n",
       "  <tbody>\n",
       "    <tr>\n",
       "      <th>Borough</th>\n",
       "      <td>1</td>\n",
       "    </tr>\n",
       "  </tbody>\n",
       "</table>\n",
       "</div>"
      ],
      "text/plain": [
       "categories  Plaza\n",
       "Borough         1"
      ]
     },
     "execution_count": 27,
     "metadata": {},
     "output_type": "execute_result"
    }
   ],
   "source": [
    "#Selecionando Categorias a serem analisadas\n",
    "opt =  ['Cultural Center','Theater','Music Venue','Plaza','Art Gallery','Art Museum','Concert Hall','History Museum'] \n",
    "cultural_venues_ip = nearby_venues[nearby_venues['categories'].isin(opt)]\n",
    "cultural_venues_ip\n",
    "cultural_venues_Count_ip = pd.pivot_table(cultural_venues_ip, values='Borough', columns=['categories'], aggfunc=np.count_nonzero)\n",
    "cultural_venues_Count_ip"
   ]
  },
  {
   "cell_type": "markdown",
   "metadata": {},
   "source": [
    "5 - Borough \n",
    "### Jabaquara"
   ]
  },
  {
   "cell_type": "markdown",
   "metadata": {},
   "source": [
    "##### Getting data from Foursquare"
   ]
  },
  {
   "cell_type": "code",
   "execution_count": 28,
   "metadata": {},
   "outputs": [],
   "source": [
    "neighborhood_latitude = neighbor.lat[neighbor['Borough'].isin(['Jabaquara'])].mean()\n",
    "neighborhood_longitude = neighbor.lng[neighbor['Borough'].isin(['Jabaquara'])].mean()\n",
    "\n",
    "LIMIT = 200 # limit of number of venues returned by Foursquare API\n",
    "radius = 5000 # define radius\n",
    "# create URL\n",
    "url = 'https://api.foursquare.com/v2/venues/explore?&client_id={}&client_secret={}&v={}&ll={},{}&radius={}&limit={}'.format(\n",
    "    CLIENT_ID, \n",
    "    CLIENT_SECRET, \n",
    "    VERSION, \n",
    "    neighborhood_latitude, \n",
    "    neighborhood_longitude, \n",
    "    radius, \n",
    "    LIMIT)\n",
    "url # display URL\n",
    "results = requests.get(url).json()"
   ]
  },
  {
   "cell_type": "code",
   "execution_count": 29,
   "metadata": {},
   "outputs": [],
   "source": [
    "#pull the actual data from the Foursquare API\n",
    "\n",
    "venues = results['response']['groups'][0]['items']\n",
    "nearby_venues = json_normalize(venues)\n",
    "filtered_columns = ['venue.name', 'venue.id', 'venue.categories', 'venue.location.lat', 'venue.location.lng']\n",
    "nearby_venues\n",
    "nearby_venues =nearby_venues.loc[:, filtered_columns]\n",
    "\n",
    "# filter the category for each row\n",
    "nearby_venues['venue.categories'] = nearby_venues.apply(get_category_type, axis=1)\n",
    "\n",
    "nearby_venues\n",
    "\n",
    "#column formatting\n",
    "nearby_venues.columns = [col.split(\".\")[-1] for col in nearby_venues.columns]\n",
    "#nearby_venues"
   ]
  },
  {
   "cell_type": "code",
   "execution_count": 30,
   "metadata": {},
   "outputs": [
    {
     "data": {
      "text/html": [
       "<div>\n",
       "<style scoped>\n",
       "    .dataframe tbody tr th:only-of-type {\n",
       "        vertical-align: middle;\n",
       "    }\n",
       "\n",
       "    .dataframe tbody tr th {\n",
       "        vertical-align: top;\n",
       "    }\n",
       "\n",
       "    .dataframe thead th {\n",
       "        text-align: right;\n",
       "    }\n",
       "</style>\n",
       "<table border=\"1\" class=\"dataframe\">\n",
       "  <thead>\n",
       "    <tr style=\"text-align: right;\">\n",
       "      <th></th>\n",
       "      <th>name</th>\n",
       "      <th>id</th>\n",
       "      <th>categories</th>\n",
       "      <th>lat</th>\n",
       "      <th>lng</th>\n",
       "      <th>Borough</th>\n",
       "    </tr>\n",
       "  </thead>\n",
       "  <tbody>\n",
       "    <tr>\n",
       "      <th>0</th>\n",
       "      <td>Chuletão</td>\n",
       "      <td>4bc2192cf8219c74ea45b410</td>\n",
       "      <td>Brazilian Restaurant</td>\n",
       "      <td>-23.651597</td>\n",
       "      <td>-46.657876</td>\n",
       "      <td>Jabaquara</td>\n",
       "    </tr>\n",
       "    <tr>\n",
       "      <th>1</th>\n",
       "      <td>Sodiê Doces</td>\n",
       "      <td>51cb4b17498e70e1f5e040e0</td>\n",
       "      <td>Dessert Shop</td>\n",
       "      <td>-23.651698</td>\n",
       "      <td>-46.659281</td>\n",
       "      <td>Jabaquara</td>\n",
       "    </tr>\n",
       "    <tr>\n",
       "      <th>2</th>\n",
       "      <td>Casa do Cigano</td>\n",
       "      <td>51573bc8e4b03dbb55c5fc42</td>\n",
       "      <td>Department Store</td>\n",
       "      <td>-23.642533</td>\n",
       "      <td>-46.644193</td>\n",
       "      <td>Jabaquara</td>\n",
       "    </tr>\n",
       "    <tr>\n",
       "      <th>3</th>\n",
       "      <td>Just Fit - Leonardo da Vinci</td>\n",
       "      <td>56d74db8498ed2ca5d28cf42</td>\n",
       "      <td>Gym / Fitness Center</td>\n",
       "      <td>-23.640058</td>\n",
       "      <td>-46.640387</td>\n",
       "      <td>Jabaquara</td>\n",
       "    </tr>\n",
       "    <tr>\n",
       "      <th>4</th>\n",
       "      <td>Dona Linda</td>\n",
       "      <td>5123a0d1e4b021660538fc7f</td>\n",
       "      <td>Restaurant</td>\n",
       "      <td>-23.645483</td>\n",
       "      <td>-46.664401</td>\n",
       "      <td>Jabaquara</td>\n",
       "    </tr>\n",
       "  </tbody>\n",
       "</table>\n",
       "</div>"
      ],
      "text/plain": [
       "                           name                        id  \\\n",
       "0                      Chuletão  4bc2192cf8219c74ea45b410   \n",
       "1                   Sodiê Doces  51cb4b17498e70e1f5e040e0   \n",
       "2                Casa do Cigano  51573bc8e4b03dbb55c5fc42   \n",
       "3  Just Fit - Leonardo da Vinci  56d74db8498ed2ca5d28cf42   \n",
       "4                    Dona Linda  5123a0d1e4b021660538fc7f   \n",
       "\n",
       "             categories        lat        lng    Borough  \n",
       "0  Brazilian Restaurant -23.651597 -46.657876  Jabaquara  \n",
       "1          Dessert Shop -23.651698 -46.659281  Jabaquara  \n",
       "2      Department Store -23.642533 -46.644193  Jabaquara  \n",
       "3  Gym / Fitness Center -23.640058 -46.640387  Jabaquara  \n",
       "4            Restaurant -23.645483 -46.664401  Jabaquara  "
      ]
     },
     "execution_count": 30,
     "metadata": {},
     "output_type": "execute_result"
    }
   ],
   "source": [
    "nearby_venues['Borough'] = 'Jabaquara'\n",
    "venues_jb =nearby_venues\n",
    "all_venues = all_venues.append(nearby_venues)\n",
    "venues_jb.head()"
   ]
  },
  {
   "cell_type": "code",
   "execution_count": 31,
   "metadata": {},
   "outputs": [
    {
     "data": {
      "text/html": [
       "<div>\n",
       "<style scoped>\n",
       "    .dataframe tbody tr th:only-of-type {\n",
       "        vertical-align: middle;\n",
       "    }\n",
       "\n",
       "    .dataframe tbody tr th {\n",
       "        vertical-align: top;\n",
       "    }\n",
       "\n",
       "    .dataframe thead th {\n",
       "        text-align: right;\n",
       "    }\n",
       "</style>\n",
       "<table border=\"1\" class=\"dataframe\">\n",
       "  <thead>\n",
       "    <tr style=\"text-align: right;\">\n",
       "      <th>categories</th>\n",
       "      <th>Music Venue</th>\n",
       "    </tr>\n",
       "  </thead>\n",
       "  <tbody>\n",
       "    <tr>\n",
       "      <th>Borough</th>\n",
       "      <td>1</td>\n",
       "    </tr>\n",
       "  </tbody>\n",
       "</table>\n",
       "</div>"
      ],
      "text/plain": [
       "categories  Music Venue\n",
       "Borough               1"
      ]
     },
     "execution_count": 31,
     "metadata": {},
     "output_type": "execute_result"
    }
   ],
   "source": [
    "#Selecionando Categorias a serem analisadas\n",
    "opt =  ['Cultural Center','Theater','Music Venue','Plaza','Art Gallery','Art Museum','Concert Hall','History Museum'] \n",
    "cultural_venues_jb = nearby_venues[nearby_venues['categories'].isin(opt)]\n",
    "cultural_venues_jb\n",
    "cultural_venues_Count_jb = pd.pivot_table(cultural_venues_jb, values='Borough', columns=['categories'], aggfunc=np.count_nonzero)\n",
    "cultural_venues_Count_jb"
   ]
  },
  {
   "cell_type": "markdown",
   "metadata": {},
   "source": [
    "6 - Borough \n",
    "### São Mateus"
   ]
  },
  {
   "cell_type": "markdown",
   "metadata": {},
   "source": [
    "##### Getting data from Foursquare"
   ]
  },
  {
   "cell_type": "code",
   "execution_count": 32,
   "metadata": {},
   "outputs": [],
   "source": [
    "neighborhood_latitude = neighbor.lat[neighbor['Borough'].isin(['São Mateus'])].mean()\n",
    "neighborhood_longitude = neighbor.lng[neighbor['Borough'].isin(['São Mateus'])].mean()\n",
    "\n",
    "LIMIT = 200 # limit of number of venues returned by Foursquare API\n",
    "radius = 5000 # define radius\n",
    "# create URL\n",
    "url = 'https://api.foursquare.com/v2/venues/explore?&client_id={}&client_secret={}&v={}&ll={},{}&radius={}&limit={}'.format(\n",
    "    CLIENT_ID, \n",
    "    CLIENT_SECRET, \n",
    "    VERSION, \n",
    "    neighborhood_latitude, \n",
    "    neighborhood_longitude, \n",
    "    radius, \n",
    "    LIMIT)\n",
    "url # display URL\n",
    "results = requests.get(url).json()"
   ]
  },
  {
   "cell_type": "code",
   "execution_count": 33,
   "metadata": {},
   "outputs": [],
   "source": [
    "#pull the actual data from the Foursquare API\n",
    "\n",
    "venues = results['response']['groups'][0]['items']\n",
    "nearby_venues = json_normalize(venues)\n",
    "filtered_columns = ['venue.name', 'venue.id', 'venue.categories', 'venue.location.lat', 'venue.location.lng']\n",
    "nearby_venues\n",
    "nearby_venues =nearby_venues.loc[:, filtered_columns]\n",
    "\n",
    "# filter the category for each row\n",
    "nearby_venues['venue.categories'] = nearby_venues.apply(get_category_type, axis=1)\n",
    "\n",
    "nearby_venues\n",
    "\n",
    "#column formatting\n",
    "nearby_venues.columns = [col.split(\".\")[-1] for col in nearby_venues.columns]\n",
    "#nearby_venues"
   ]
  },
  {
   "cell_type": "code",
   "execution_count": 34,
   "metadata": {},
   "outputs": [
    {
     "data": {
      "text/html": [
       "<div>\n",
       "<style scoped>\n",
       "    .dataframe tbody tr th:only-of-type {\n",
       "        vertical-align: middle;\n",
       "    }\n",
       "\n",
       "    .dataframe tbody tr th {\n",
       "        vertical-align: top;\n",
       "    }\n",
       "\n",
       "    .dataframe thead th {\n",
       "        text-align: right;\n",
       "    }\n",
       "</style>\n",
       "<table border=\"1\" class=\"dataframe\">\n",
       "  <thead>\n",
       "    <tr style=\"text-align: right;\">\n",
       "      <th></th>\n",
       "      <th>name</th>\n",
       "      <th>id</th>\n",
       "      <th>categories</th>\n",
       "      <th>lat</th>\n",
       "      <th>lng</th>\n",
       "      <th>Borough</th>\n",
       "    </tr>\n",
       "  </thead>\n",
       "  <tbody>\n",
       "    <tr>\n",
       "      <th>0</th>\n",
       "      <td>Sorvetes Capricho</td>\n",
       "      <td>4fa40bc0e4b098f42a2c06b7</td>\n",
       "      <td>Ice Cream Shop</td>\n",
       "      <td>-23.594139</td>\n",
       "      <td>-46.488128</td>\n",
       "      <td>São Mateus</td>\n",
       "    </tr>\n",
       "    <tr>\n",
       "      <th>1</th>\n",
       "      <td>Qshape Academia</td>\n",
       "      <td>53b5237d498e06cf1e56ad48</td>\n",
       "      <td>Martial Arts Dojo</td>\n",
       "      <td>-23.596814</td>\n",
       "      <td>-46.475840</td>\n",
       "      <td>São Mateus</td>\n",
       "    </tr>\n",
       "    <tr>\n",
       "      <th>2</th>\n",
       "      <td>Agutoli's</td>\n",
       "      <td>4f08ec66e4b0ad9c25c64311</td>\n",
       "      <td>Burger Joint</td>\n",
       "      <td>-23.598220</td>\n",
       "      <td>-46.477048</td>\n",
       "      <td>São Mateus</td>\n",
       "    </tr>\n",
       "    <tr>\n",
       "      <th>3</th>\n",
       "      <td>Fábrica de Cultura Sapopemba</td>\n",
       "      <td>4e05f31e52b165b7d7a4943f</td>\n",
       "      <td>General Entertainment</td>\n",
       "      <td>-23.614776</td>\n",
       "      <td>-46.485794</td>\n",
       "      <td>São Mateus</td>\n",
       "    </tr>\n",
       "    <tr>\n",
       "      <th>4</th>\n",
       "      <td>Feira Livre Sapopemba - Sábado</td>\n",
       "      <td>4ed0482561af476c08778a69</td>\n",
       "      <td>Food Truck</td>\n",
       "      <td>-23.596132</td>\n",
       "      <td>-46.481148</td>\n",
       "      <td>São Mateus</td>\n",
       "    </tr>\n",
       "  </tbody>\n",
       "</table>\n",
       "</div>"
      ],
      "text/plain": [
       "                             name                        id  \\\n",
       "0               Sorvetes Capricho  4fa40bc0e4b098f42a2c06b7   \n",
       "1                 Qshape Academia  53b5237d498e06cf1e56ad48   \n",
       "2                       Agutoli's  4f08ec66e4b0ad9c25c64311   \n",
       "3    Fábrica de Cultura Sapopemba  4e05f31e52b165b7d7a4943f   \n",
       "4  Feira Livre Sapopemba - Sábado  4ed0482561af476c08778a69   \n",
       "\n",
       "              categories        lat        lng     Borough  \n",
       "0         Ice Cream Shop -23.594139 -46.488128  São Mateus  \n",
       "1      Martial Arts Dojo -23.596814 -46.475840  São Mateus  \n",
       "2           Burger Joint -23.598220 -46.477048  São Mateus  \n",
       "3  General Entertainment -23.614776 -46.485794  São Mateus  \n",
       "4             Food Truck -23.596132 -46.481148  São Mateus  "
      ]
     },
     "execution_count": 34,
     "metadata": {},
     "output_type": "execute_result"
    }
   ],
   "source": [
    "nearby_venues['Borough'] = 'São Mateus'\n",
    "venues_it =nearby_venues\n",
    "all_venues = all_venues.append(nearby_venues)\n",
    "venues_it.head()"
   ]
  },
  {
   "cell_type": "code",
   "execution_count": 35,
   "metadata": {},
   "outputs": [
    {
     "data": {
      "text/html": [
       "<div>\n",
       "<style scoped>\n",
       "    .dataframe tbody tr th:only-of-type {\n",
       "        vertical-align: middle;\n",
       "    }\n",
       "\n",
       "    .dataframe tbody tr th {\n",
       "        vertical-align: top;\n",
       "    }\n",
       "\n",
       "    .dataframe thead th {\n",
       "        text-align: right;\n",
       "    }\n",
       "</style>\n",
       "<table border=\"1\" class=\"dataframe\">\n",
       "  <thead>\n",
       "    <tr style=\"text-align: right;\">\n",
       "      <th>categories</th>\n",
       "      <th>Theater</th>\n",
       "    </tr>\n",
       "  </thead>\n",
       "  <tbody>\n",
       "    <tr>\n",
       "      <th>Borough</th>\n",
       "      <td>1</td>\n",
       "    </tr>\n",
       "  </tbody>\n",
       "</table>\n",
       "</div>"
      ],
      "text/plain": [
       "categories  Theater\n",
       "Borough           1"
      ]
     },
     "execution_count": 35,
     "metadata": {},
     "output_type": "execute_result"
    }
   ],
   "source": [
    "#Selecionando Categorias a serem analisadas\n",
    "opt =  ['Cultural Center','Theater','Music Venue','Plaza','Art Gallery','Art Museum','Concert Hall','History Museum'] \n",
    "cultural_venues_sm = nearby_venues[nearby_venues['categories'].isin(opt)]\n",
    "cultural_venues_sm\n",
    "cultural_venues_Count_sm = pd.pivot_table(cultural_venues_sm, values='Borough', columns=['categories'], aggfunc=np.count_nonzero)\n",
    "cultural_venues_Count_sm"
   ]
  },
  {
   "cell_type": "markdown",
   "metadata": {},
   "source": [
    "<hr>"
   ]
  },
  {
   "cell_type": "markdown",
   "metadata": {},
   "source": [
    "## 4 - Discussion / Conclusion"
   ]
  },
  {
   "cell_type": "markdown",
   "metadata": {},
   "source": [
    "#### Cultural places by districts"
   ]
  },
  {
   "cell_type": "markdown",
   "metadata": {},
   "source": [
    "<BR><i>\n",
    "When we analyze the distribution of culture and entertainment establishments by district, it is easy to identify the large concentration in some districts of the city, leaving the outskirts of the city lacking in terms of these establishments.<BR>\n",
    "We note that the population distribution does not differ so much compared to the differences in the types of sites analyzed.\n",
    "</i><BR>\n",
    "    "
   ]
  },
  {
   "cell_type": "code",
   "execution_count": 36,
   "metadata": {},
   "outputs": [],
   "source": [
    "opt =  ['Cultural Center','Theater','Music Venue','Plaza','Art Gallery','Art Museum','Concert Hall','History Museum'] \n",
    "all_venues = all_venues[all_venues['categories'].isin(opt)]\n",
    "all_venues.to_csv(r'all_venue.csv')"
   ]
  },
  {
   "cell_type": "markdown",
   "metadata": {},
   "source": [
    "#### Location Venues"
   ]
  },
  {
   "cell_type": "code",
   "execution_count": 37,
   "metadata": {},
   "outputs": [
    {
     "data": {
      "text/html": [
       "<div style=\"width:100%;\"><div style=\"position:relative;width:100%;height:0;padding-bottom:60%;\"><iframe src=\"data:text/html;charset=utf-8;base64,PCFET0NUWVBFIGh0bWw+CjxoZWFkPiAgICAKICAgIDxtZXRhIGh0dHAtZXF1aXY9ImNvbnRlbnQtdHlwZSIgY29udGVudD0idGV4dC9odG1sOyBjaGFyc2V0PVVURi04IiAvPgogICAgPHNjcmlwdD5MX1BSRUZFUl9DQU5WQVMgPSBmYWxzZTsgTF9OT19UT1VDSCA9IGZhbHNlOyBMX0RJU0FCTEVfM0QgPSBmYWxzZTs8L3NjcmlwdD4KICAgIDxzY3JpcHQgc3JjPSJodHRwczovL2Nkbi5qc2RlbGl2ci5uZXQvbnBtL2xlYWZsZXRAMS4yLjAvZGlzdC9sZWFmbGV0LmpzIj48L3NjcmlwdD4KICAgIDxzY3JpcHQgc3JjPSJodHRwczovL2FqYXguZ29vZ2xlYXBpcy5jb20vYWpheC9saWJzL2pxdWVyeS8xLjExLjEvanF1ZXJ5Lm1pbi5qcyI+PC9zY3JpcHQ+CiAgICA8c2NyaXB0IHNyYz0iaHR0cHM6Ly9tYXhjZG4uYm9vdHN0cmFwY2RuLmNvbS9ib290c3RyYXAvMy4yLjAvanMvYm9vdHN0cmFwLm1pbi5qcyI+PC9zY3JpcHQ+CiAgICA8c2NyaXB0IHNyYz0iaHR0cHM6Ly9jZG5qcy5jbG91ZGZsYXJlLmNvbS9hamF4L2xpYnMvTGVhZmxldC5hd2Vzb21lLW1hcmtlcnMvMi4wLjIvbGVhZmxldC5hd2Vzb21lLW1hcmtlcnMuanMiPjwvc2NyaXB0PgogICAgPGxpbmsgcmVsPSJzdHlsZXNoZWV0IiBocmVmPSJodHRwczovL2Nkbi5qc2RlbGl2ci5uZXQvbnBtL2xlYWZsZXRAMS4yLjAvZGlzdC9sZWFmbGV0LmNzcyIvPgogICAgPGxpbmsgcmVsPSJzdHlsZXNoZWV0IiBocmVmPSJodHRwczovL21heGNkbi5ib290c3RyYXBjZG4uY29tL2Jvb3RzdHJhcC8zLjIuMC9jc3MvYm9vdHN0cmFwLm1pbi5jc3MiLz4KICAgIDxsaW5rIHJlbD0ic3R5bGVzaGVldCIgaHJlZj0iaHR0cHM6Ly9tYXhjZG4uYm9vdHN0cmFwY2RuLmNvbS9ib290c3RyYXAvMy4yLjAvY3NzL2Jvb3RzdHJhcC10aGVtZS5taW4uY3NzIi8+CiAgICA8bGluayByZWw9InN0eWxlc2hlZXQiIGhyZWY9Imh0dHBzOi8vbWF4Y2RuLmJvb3RzdHJhcGNkbi5jb20vZm9udC1hd2Vzb21lLzQuNi4zL2Nzcy9mb250LWF3ZXNvbWUubWluLmNzcyIvPgogICAgPGxpbmsgcmVsPSJzdHlsZXNoZWV0IiBocmVmPSJodHRwczovL2NkbmpzLmNsb3VkZmxhcmUuY29tL2FqYXgvbGlicy9MZWFmbGV0LmF3ZXNvbWUtbWFya2Vycy8yLjAuMi9sZWFmbGV0LmF3ZXNvbWUtbWFya2Vycy5jc3MiLz4KICAgIDxsaW5rIHJlbD0ic3R5bGVzaGVldCIgaHJlZj0iaHR0cHM6Ly9yYXdnaXQuY29tL3B5dGhvbi12aXN1YWxpemF0aW9uL2ZvbGl1bS9tYXN0ZXIvZm9saXVtL3RlbXBsYXRlcy9sZWFmbGV0LmF3ZXNvbWUucm90YXRlLmNzcyIvPgogICAgPHN0eWxlPmh0bWwsIGJvZHkge3dpZHRoOiAxMDAlO2hlaWdodDogMTAwJTttYXJnaW46IDA7cGFkZGluZzogMDt9PC9zdHlsZT4KICAgIDxzdHlsZT4jbWFwIHtwb3NpdGlvbjphYnNvbHV0ZTt0b3A6MDtib3R0b206MDtyaWdodDowO2xlZnQ6MDt9PC9zdHlsZT4KICAgIAogICAgICAgICAgICA8c3R5bGU+ICNtYXBfNGQ4YTBlYjY5ZTc2NDJjYTk2MDA2ZjdkNThhMjQzY2MgewogICAgICAgICAgICAgICAgcG9zaXRpb24gOiByZWxhdGl2ZTsKICAgICAgICAgICAgICAgIHdpZHRoIDogMTAwLjAlOwogICAgICAgICAgICAgICAgaGVpZ2h0OiAxMDAuMCU7CiAgICAgICAgICAgICAgICBsZWZ0OiAwLjAlOwogICAgICAgICAgICAgICAgdG9wOiAwLjAlOwogICAgICAgICAgICAgICAgfQogICAgICAgICAgICA8L3N0eWxlPgogICAgICAgIAo8L2hlYWQ+Cjxib2R5PiAgICAKICAgIAogICAgICAgICAgICA8ZGl2IGNsYXNzPSJmb2xpdW0tbWFwIiBpZD0ibWFwXzRkOGEwZWI2OWU3NjQyY2E5NjAwNmY3ZDU4YTI0M2NjIiA+PC9kaXY+CiAgICAgICAgCjwvYm9keT4KPHNjcmlwdD4gICAgCiAgICAKCiAgICAgICAgICAgIAogICAgICAgICAgICAgICAgdmFyIGJvdW5kcyA9IG51bGw7CiAgICAgICAgICAgIAoKICAgICAgICAgICAgdmFyIG1hcF80ZDhhMGViNjllNzY0MmNhOTYwMDZmN2Q1OGEyNDNjYyA9IEwubWFwKAogICAgICAgICAgICAgICAgICAgICAgICAgICAgICAgICAgJ21hcF80ZDhhMGViNjllNzY0MmNhOTYwMDZmN2Q1OGEyNDNjYycsCiAgICAgICAgICAgICAgICAgICAgICAgICAgICAgICAgICB7Y2VudGVyOiBbLTIzLjU1MDY1MDcsLTQ2LjYzMzM4MjRdLAogICAgICAgICAgICAgICAgICAgICAgICAgICAgICAgICAgem9vbTogMTAsCiAgICAgICAgICAgICAgICAgICAgICAgICAgICAgICAgICBtYXhCb3VuZHM6IGJvdW5kcywKICAgICAgICAgICAgICAgICAgICAgICAgICAgICAgICAgIGxheWVyczogW10sCiAgICAgICAgICAgICAgICAgICAgICAgICAgICAgICAgICB3b3JsZENvcHlKdW1wOiBmYWxzZSwKICAgICAgICAgICAgICAgICAgICAgICAgICAgICAgICAgIGNyczogTC5DUlMuRVBTRzM4NTcKICAgICAgICAgICAgICAgICAgICAgICAgICAgICAgICAgfSk7CiAgICAgICAgICAgIAogICAgICAgIAogICAgCiAgICAgICAgICAgIHZhciB0aWxlX2xheWVyXzU5MDA2N2Y1ZDBjMTQ2NmZhZmZkY2ZmZDZhYzllMGJjID0gTC50aWxlTGF5ZXIoCiAgICAgICAgICAgICAgICAnaHR0cHM6Ly97c30udGlsZS5vcGVuc3RyZWV0bWFwLm9yZy97en0ve3h9L3t5fS5wbmcnLAogICAgICAgICAgICAgICAgewogICJhdHRyaWJ1dGlvbiI6IG51bGwsCiAgImRldGVjdFJldGluYSI6IGZhbHNlLAogICJtYXhab29tIjogMTgsCiAgIm1pblpvb20iOiAxLAogICJub1dyYXAiOiBmYWxzZSwKICAic3ViZG9tYWlucyI6ICJhYmMiCn0KICAgICAgICAgICAgICAgICkuYWRkVG8obWFwXzRkOGEwZWI2OWU3NjQyY2E5NjAwNmY3ZDU4YTI0M2NjKTsKICAgICAgICAKICAgIAogICAgICAgICAgICB2YXIgY2lyY2xlX21hcmtlcl9mZTE4Y2Y1NWIyZTY0NDgyOGZmYmU5ZmQwYjU1YzViOCA9IEwuY2lyY2xlTWFya2VyKAogICAgICAgICAgICAgICAgWy0yMy41NzI2MzA1LC00Ni41MTgzMjA4ODQ1NzM3XSwKICAgICAgICAgICAgICAgIHsKICAiYnViYmxpbmdNb3VzZUV2ZW50cyI6IHRydWUsCiAgImNvbG9yIjogImJsdWUiLAogICJkYXNoQXJyYXkiOiBudWxsLAogICJkYXNoT2Zmc2V0IjogbnVsbCwKICAiZmlsbCI6IHRydWUsCiAgImZpbGxDb2xvciI6ICIjMzE4NmNjIiwKICAiZmlsbE9wYWNpdHkiOiAwLjcsCiAgImZpbGxSdWxlIjogImV2ZW5vZGQiLAogICJsaW5lQ2FwIjogInJvdW5kIiwKICAibGluZUpvaW4iOiAicm91bmQiLAogICJvcGFjaXR5IjogMS4wLAogICJyYWRpdXMiOiA1LAogICJzdHJva2UiOiB0cnVlLAogICJ3ZWlnaHQiOiAzCn0KICAgICAgICAgICAgICAgICkuYWRkVG8obWFwXzRkOGEwZWI2OWU3NjQyY2E5NjAwNmY3ZDU4YTI0M2NjKTsKICAgICAgICAgICAgCiAgICAKICAgICAgICAgICAgdmFyIHBvcHVwX2JhNGRlNTMyYTU0MDQ3MWM4ZWExMjZjYTFhMjM4MjRjID0gTC5wb3B1cCh7bWF4V2lkdGg6ICczMDAnfSk7CgogICAgICAgICAgICAKICAgICAgICAgICAgICAgIHZhciBodG1sXzczMmFhZTYwZGFmZjRkNjFhMmMyYWI4OTg5NjBhMGJjID0gJCgnPGRpdiBpZD0iaHRtbF83MzJhYWU2MGRhZmY0ZDYxYTJjMmFiODk4OTYwYTBiYyIgc3R5bGU9IndpZHRoOiAxMDAuMCU7IGhlaWdodDogMTAwLjAlOyI+QXJpY2FuZHV2YTwvZGl2PicpWzBdOwogICAgICAgICAgICAgICAgcG9wdXBfYmE0ZGU1MzJhNTQwNDcxYzhlYTEyNmNhMWEyMzgyNGMuc2V0Q29udGVudChodG1sXzczMmFhZTYwZGFmZjRkNjFhMmMyYWI4OTg5NjBhMGJjKTsKICAgICAgICAgICAgCgogICAgICAgICAgICBjaXJjbGVfbWFya2VyX2ZlMThjZjU1YjJlNjQ0ODI4ZmZiZTlmZDBiNTVjNWI4LmJpbmRQb3B1cChwb3B1cF9iYTRkZTUzMmE1NDA0NzFjOGVhMTI2Y2ExYTIzODI0Yyk7CgogICAgICAgICAgICAKICAgICAgICAKICAgIAogICAgICAgICAgICB2YXIgY2lyY2xlX21hcmtlcl9hN2IzN2IxYjA0YzE0OWI3YWNmN2UyYzI0MTVlODAzZiA9IEwuY2lyY2xlTWFya2VyKAogICAgICAgICAgICAgICAgWy0yMy41NjkxMzEsLTQ2LjcyMTg3Mzk1MzIxOTRdLAogICAgICAgICAgICAgICAgewogICJidWJibGluZ01vdXNlRXZlbnRzIjogdHJ1ZSwKICAiY29sb3IiOiAiYmx1ZSIsCiAgImRhc2hBcnJheSI6IG51bGwsCiAgImRhc2hPZmZzZXQiOiBudWxsLAogICJmaWxsIjogdHJ1ZSwKICAiZmlsbENvbG9yIjogIiMzMTg2Y2MiLAogICJmaWxsT3BhY2l0eSI6IDAuNywKICAiZmlsbFJ1bGUiOiAiZXZlbm9kZCIsCiAgImxpbmVDYXAiOiAicm91bmQiLAogICJsaW5lSm9pbiI6ICJyb3VuZCIsCiAgIm9wYWNpdHkiOiAxLjAsCiAgInJhZGl1cyI6IDUsCiAgInN0cm9rZSI6IHRydWUsCiAgIndlaWdodCI6IDMKfQogICAgICAgICAgICAgICAgKS5hZGRUbyhtYXBfNGQ4YTBlYjY5ZTc2NDJjYTk2MDA2ZjdkNThhMjQzY2MpOwogICAgICAgICAgICAKICAgIAogICAgICAgICAgICB2YXIgcG9wdXBfYWI3N2ExMTY5MDcyNGFiZThjNmE3ZjVhYWY4NzFhZjggPSBMLnBvcHVwKHttYXhXaWR0aDogJzMwMCd9KTsKCiAgICAgICAgICAgIAogICAgICAgICAgICAgICAgdmFyIGh0bWxfYjQxY2M5NDgyM2NiNDgxZmFhMTA4NTJkNTM3NDY1YzcgPSAkKCc8ZGl2IGlkPSJodG1sX2I0MWNjOTQ4MjNjYjQ4MWZhYTEwODUyZDUzNzQ2NWM3IiBzdHlsZT0id2lkdGg6IDEwMC4wJTsgaGVpZ2h0OiAxMDAuMCU7Ij5CdXRhbnTDozwvZGl2PicpWzBdOwogICAgICAgICAgICAgICAgcG9wdXBfYWI3N2ExMTY5MDcyNGFiZThjNmE3ZjVhYWY4NzFhZjguc2V0Q29udGVudChodG1sX2I0MWNjOTQ4MjNjYjQ4MWZhYTEwODUyZDUzNzQ2NWM3KTsKICAgICAgICAgICAgCgogICAgICAgICAgICBjaXJjbGVfbWFya2VyX2E3YjM3YjFiMDRjMTQ5YjdhY2Y3ZTJjMjQxNWU4MDNmLmJpbmRQb3B1cChwb3B1cF9hYjc3YTExNjkwNzI0YWJlOGM2YTdmNWFhZjg3MWFmOCk7CgogICAgICAgICAgICAKICAgICAgICAKICAgIAogICAgICAgICAgICB2YXIgY2lyY2xlX21hcmtlcl9hNmZlZWU0MWYyYzk0Yjc2YTMwZWIyZDRkMTQ1ZjM1MSA9IEwuY2lyY2xlTWFya2VyKAogICAgICAgICAgICAgICAgWy0yMy42MzI1NTc2NSwtNDYuNzU5NjY2MTI2MzcyNF0sCiAgICAgICAgICAgICAgICB7CiAgImJ1YmJsaW5nTW91c2VFdmVudHMiOiB0cnVlLAogICJjb2xvciI6ICJibHVlIiwKICAiZGFzaEFycmF5IjogbnVsbCwKICAiZGFzaE9mZnNldCI6IG51bGwsCiAgImZpbGwiOiB0cnVlLAogICJmaWxsQ29sb3IiOiAiIzMxODZjYyIsCiAgImZpbGxPcGFjaXR5IjogMC43LAogICJmaWxsUnVsZSI6ICJldmVub2RkIiwKICAibGluZUNhcCI6ICJyb3VuZCIsCiAgImxpbmVKb2luIjogInJvdW5kIiwKICAib3BhY2l0eSI6IDEuMCwKICAicmFkaXVzIjogNSwKICAic3Ryb2tlIjogdHJ1ZSwKICAid2VpZ2h0IjogMwp9CiAgICAgICAgICAgICAgICApLmFkZFRvKG1hcF80ZDhhMGViNjllNzY0MmNhOTYwMDZmN2Q1OGEyNDNjYyk7CiAgICAgICAgICAgIAogICAgCiAgICAgICAgICAgIHZhciBwb3B1cF8zODk0MzE4NmI1ZDQ0YjVhYjZjZjAwMDI3MmRkMmVkZSA9IEwucG9wdXAoe21heFdpZHRoOiAnMzAwJ30pOwoKICAgICAgICAgICAgCiAgICAgICAgICAgICAgICB2YXIgaHRtbF8wMjU0OTAyZWMxYWI0NTQzYmE3Yzc3MzNjNzkwN2YzOCA9ICQoJzxkaXYgaWQ9Imh0bWxfMDI1NDkwMmVjMWFiNDU0M2JhN2M3NzMzYzc5MDdmMzgiIHN0eWxlPSJ3aWR0aDogMTAwLjAlOyBoZWlnaHQ6IDEwMC4wJTsiPkNhbXBvIExpbXBvPC9kaXY+JylbMF07CiAgICAgICAgICAgICAgICBwb3B1cF8zODk0MzE4NmI1ZDQ0YjVhYjZjZjAwMDI3MmRkMmVkZS5zZXRDb250ZW50KGh0bWxfMDI1NDkwMmVjMWFiNDU0M2JhN2M3NzMzYzc5MDdmMzgpOwogICAgICAgICAgICAKCiAgICAgICAgICAgIGNpcmNsZV9tYXJrZXJfYTZmZWVlNDFmMmM5NGI3NmEzMGViMmQ0ZDE0NWYzNTEuYmluZFBvcHVwKHBvcHVwXzM4OTQzMTg2YjVkNDRiNWFiNmNmMDAwMjcyZGQyZWRlKTsKCiAgICAgICAgICAgIAogICAgICAgIAogICAgCiAgICAgICAgICAgIHZhciBjaXJjbGVfbWFya2VyX2M3M2IzZDhmN2ZhNDQ2Yzg5NzljZjU2YzQ4M2U1ZmQ1ID0gTC5jaXJjbGVNYXJrZXIoCiAgICAgICAgICAgICAgICBbLTIzLjQ5OTEyNCwtNDYuNjU0MDk4MjY2Mzc2N10sCiAgICAgICAgICAgICAgICB7CiAgImJ1YmJsaW5nTW91c2VFdmVudHMiOiB0cnVlLAogICJjb2xvciI6ICJibHVlIiwKICAiZGFzaEFycmF5IjogbnVsbCwKICAiZGFzaE9mZnNldCI6IG51bGwsCiAgImZpbGwiOiB0cnVlLAogICJmaWxsQ29sb3IiOiAiIzMxODZjYyIsCiAgImZpbGxPcGFjaXR5IjogMC43LAogICJmaWxsUnVsZSI6ICJldmVub2RkIiwKICAibGluZUNhcCI6ICJyb3VuZCIsCiAgImxpbmVKb2luIjogInJvdW5kIiwKICAib3BhY2l0eSI6IDEuMCwKICAicmFkaXVzIjogNSwKICAic3Ryb2tlIjogdHJ1ZSwKICAid2VpZ2h0IjogMwp9CiAgICAgICAgICAgICAgICApLmFkZFRvKG1hcF80ZDhhMGViNjllNzY0MmNhOTYwMDZmN2Q1OGEyNDNjYyk7CiAgICAgICAgICAgIAogICAgCiAgICAgICAgICAgIHZhciBwb3B1cF83MWUzNTllYjNiNGM0YTM5YTI2ODZkNmExODEyZTU2ZSA9IEwucG9wdXAoe21heFdpZHRoOiAnMzAwJ30pOwoKICAgICAgICAgICAgCiAgICAgICAgICAgICAgICB2YXIgaHRtbF9iMjBlYjZiZGJjNmM0ZmRlYTIyNDUzZGM5NjY0MjA0NiA9ICQoJzxkaXYgaWQ9Imh0bWxfYjIwZWI2YmRiYzZjNGZkZWEyMjQ1M2RjOTY2NDIwNDYiIHN0eWxlPSJ3aWR0aDogMTAwLjAlOyBoZWlnaHQ6IDEwMC4wJTsiPkNhc2EgVmVyZGU8L2Rpdj4nKVswXTsKICAgICAgICAgICAgICAgIHBvcHVwXzcxZTM1OWViM2I0YzRhMzlhMjY4NmQ2YTE4MTJlNTZlLnNldENvbnRlbnQoaHRtbF9iMjBlYjZiZGJjNmM0ZmRlYTIyNDUzZGM5NjY0MjA0Nik7CiAgICAgICAgICAgIAoKICAgICAgICAgICAgY2lyY2xlX21hcmtlcl9jNzNiM2Q4ZjdmYTQ0NmM4OTc5Y2Y1NmM0ODNlNWZkNS5iaW5kUG9wdXAocG9wdXBfNzFlMzU5ZWIzYjRjNGEzOWEyNjg2ZDZhMTgxMmU1NmUpOwoKICAgICAgICAgICAgCiAgICAgICAgCiAgICAKICAgICAgICAgICAgdmFyIGNpcmNsZV9tYXJrZXJfMzI4NmEzZmYyODNlNDc2MWE4MWYxNmRlOTg2MmRlMDMgPSBMLmNpcmNsZU1hcmtlcigKICAgICAgICAgICAgICAgIFstMjMuNjY5MTg2MSwtNDYuNjU4ODEwMTAxODUxOV0sCiAgICAgICAgICAgICAgICB7CiAgImJ1YmJsaW5nTW91c2VFdmVudHMiOiB0cnVlLAogICJjb2xvciI6ICJibHVlIiwKICAiZGFzaEFycmF5IjogbnVsbCwKICAiZGFzaE9mZnNldCI6IG51bGwsCiAgImZpbGwiOiB0cnVlLAogICJmaWxsQ29sb3IiOiAiIzMxODZjYyIsCiAgImZpbGxPcGFjaXR5IjogMC43LAogICJmaWxsUnVsZSI6ICJldmVub2RkIiwKICAibGluZUNhcCI6ICJyb3VuZCIsCiAgImxpbmVKb2luIjogInJvdW5kIiwKICAib3BhY2l0eSI6IDEuMCwKICAicmFkaXVzIjogNSwKICAic3Ryb2tlIjogdHJ1ZSwKICAid2VpZ2h0IjogMwp9CiAgICAgICAgICAgICAgICApLmFkZFRvKG1hcF80ZDhhMGViNjllNzY0MmNhOTYwMDZmN2Q1OGEyNDNjYyk7CiAgICAgICAgICAgIAogICAgCiAgICAgICAgICAgIHZhciBwb3B1cF8xZmRkOTk2YWEzYzQ0MTRjYTdlNDBlNmU0ODk1MWY0YSA9IEwucG9wdXAoe21heFdpZHRoOiAnMzAwJ30pOwoKICAgICAgICAgICAgCiAgICAgICAgICAgICAgICB2YXIgaHRtbF80MTZhNmZiODYxY2Y0YzFmOTY4NTlhYTBjYjJiZGQ4MyA9ICQoJzxkaXYgaWQ9Imh0bWxfNDE2YTZmYjg2MWNmNGMxZjk2ODU5YWEwY2IyYmRkODMiIHN0eWxlPSJ3aWR0aDogMTAwLjAlOyBoZWlnaHQ6IDEwMC4wJTsiPkNpZGFkZSBBZGVtYXI8L2Rpdj4nKVswXTsKICAgICAgICAgICAgICAgIHBvcHVwXzFmZGQ5OTZhYTNjNDQxNGNhN2U0MGU2ZTQ4OTUxZjRhLnNldENvbnRlbnQoaHRtbF80MTZhNmZiODYxY2Y0YzFmOTY4NTlhYTBjYjJiZGQ4Myk7CiAgICAgICAgICAgIAoKICAgICAgICAgICAgY2lyY2xlX21hcmtlcl8zMjg2YTNmZjI4M2U0NzYxYTgxZjE2ZGU5ODYyZGUwMy5iaW5kUG9wdXAocG9wdXBfMWZkZDk5NmFhM2M0NDE0Y2E3ZTQwZTZlNDg5NTFmNGEpOwoKICAgICAgICAgICAgCiAgICAgICAgCiAgICAKICAgICAgICAgICAgdmFyIGNpcmNsZV9tYXJrZXJfNTQ4MTM4YWZkNTIxNGI1Yzg5M2YzNjEwYjhjODFiOGEgPSBMLmNpcmNsZU1hcmtlcigKICAgICAgICAgICAgICAgIFstMjMuNTg5MTUxLC00Ni4zOTY0MjU2NzY1MjldLAogICAgICAgICAgICAgICAgewogICJidWJibGluZ01vdXNlRXZlbnRzIjogdHJ1ZSwKICAiY29sb3IiOiAiYmx1ZSIsCiAgImRhc2hBcnJheSI6IG51bGwsCiAgImRhc2hPZmZzZXQiOiBudWxsLAogICJmaWxsIjogdHJ1ZSwKICAiZmlsbENvbG9yIjogIiMzMTg2Y2MiLAogICJmaWxsT3BhY2l0eSI6IDAuNywKICAiZmlsbFJ1bGUiOiAiZXZlbm9kZCIsCiAgImxpbmVDYXAiOiAicm91bmQiLAogICJsaW5lSm9pbiI6ICJyb3VuZCIsCiAgIm9wYWNpdHkiOiAxLjAsCiAgInJhZGl1cyI6IDUsCiAgInN0cm9rZSI6IHRydWUsCiAgIndlaWdodCI6IDMKfQogICAgICAgICAgICAgICAgKS5hZGRUbyhtYXBfNGQ4YTBlYjY5ZTc2NDJjYTk2MDA2ZjdkNThhMjQzY2MpOwogICAgICAgICAgICAKICAgIAogICAgICAgICAgICB2YXIgcG9wdXBfMDZhMmNiZGVlOTQ3NDRhNjhiZTc3ZjU4YTU1MjA2M2EgPSBMLnBvcHVwKHttYXhXaWR0aDogJzMwMCd9KTsKCiAgICAgICAgICAgIAogICAgICAgICAgICAgICAgdmFyIGh0bWxfYTFjYTRjMDM1MTliNGIwZmFkODZlYjNiODM1NjQ5NDUgPSAkKCc8ZGl2IGlkPSJodG1sX2ExY2E0YzAzNTE5YjRiMGZhZDg2ZWIzYjgzNTY0OTQ1IiBzdHlsZT0id2lkdGg6IDEwMC4wJTsgaGVpZ2h0OiAxMDAuMCU7Ij5DaWRhZGUgVGlyYWRlbnRlczwvZGl2PicpWzBdOwogICAgICAgICAgICAgICAgcG9wdXBfMDZhMmNiZGVlOTQ3NDRhNjhiZTc3ZjU4YTU1MjA2M2Euc2V0Q29udGVudChodG1sX2ExY2E0YzAzNTE5YjRiMGZhZDg2ZWIzYjgzNTY0OTQ1KTsKICAgICAgICAgICAgCgogICAgICAgICAgICBjaXJjbGVfbWFya2VyXzU0ODEzOGFmZDUyMTRiNWM4OTNmMzYxMGI4YzgxYjhhLmJpbmRQb3B1cChwb3B1cF8wNmEyY2JkZWU5NDc0NGE2OGJlNzdmNThhNTUyMDYzYSk7CgogICAgICAgICAgICAKICAgICAgICAKICAgIAogICAgICAgICAgICB2YXIgY2lyY2xlX21hcmtlcl85YzU1Nzk4Y2UxZTk0YThmODhlNjZhNzQ5NWZhN2JmYiA9IEwuY2lyY2xlTWFya2VyKAogICAgICAgICAgICAgICAgWy0yMy40OTE2NzM1LC00Ni40ODQwNzAxNDM2Njg5XSwKICAgICAgICAgICAgICAgIHsKICAiYnViYmxpbmdNb3VzZUV2ZW50cyI6IHRydWUsCiAgImNvbG9yIjogImJsdWUiLAogICJkYXNoQXJyYXkiOiBudWxsLAogICJkYXNoT2Zmc2V0IjogbnVsbCwKICAiZmlsbCI6IHRydWUsCiAgImZpbGxDb2xvciI6ICIjMzE4NmNjIiwKICAiZmlsbE9wYWNpdHkiOiAwLjcsCiAgImZpbGxSdWxlIjogImV2ZW5vZGQiLAogICJsaW5lQ2FwIjogInJvdW5kIiwKICAibGluZUpvaW4iOiAicm91bmQiLAogICJvcGFjaXR5IjogMS4wLAogICJyYWRpdXMiOiA1LAogICJzdHJva2UiOiB0cnVlLAogICJ3ZWlnaHQiOiAzCn0KICAgICAgICAgICAgICAgICkuYWRkVG8obWFwXzRkOGEwZWI2OWU3NjQyY2E5NjAwNmY3ZDU4YTI0M2NjKTsKICAgICAgICAgICAgCiAgICAKICAgICAgICAgICAgdmFyIHBvcHVwXzU3M2RiNTdhZmU4MjQ1ZDZiYjM0OWMyYjBjZDgxYzdkID0gTC5wb3B1cCh7bWF4V2lkdGg6ICczMDAnfSk7CgogICAgICAgICAgICAKICAgICAgICAgICAgICAgIHZhciBodG1sX2U0NzI4OTU3MDk2MDQ0ZWE5OTA0MWE3MDg2ZTEwNmYyID0gJCgnPGRpdiBpZD0iaHRtbF9lNDcyODk1NzA5NjA0NGVhOTkwNDFhNzA4NmUxMDZmMiIgc3R5bGU9IndpZHRoOiAxMDAuMCU7IGhlaWdodDogMTAwLjAlOyI+RXJtZWxpbm8gTWF0YXJhenpvPC9kaXY+JylbMF07CiAgICAgICAgICAgICAgICBwb3B1cF81NzNkYjU3YWZlODI0NWQ2YmIzNDljMmIwY2Q4MWM3ZC5zZXRDb250ZW50KGh0bWxfZTQ3Mjg5NTcwOTYwNDRlYTk5MDQxYTcwODZlMTA2ZjIpOwogICAgICAgICAgICAKCiAgICAgICAgICAgIGNpcmNsZV9tYXJrZXJfOWM1NTc5OGNlMWU5NGE4Zjg4ZTY2YTc0OTVmYTdiZmIuYmluZFBvcHVwKHBvcHVwXzU3M2RiNTdhZmU4MjQ1ZDZiYjM0OWMyYjBjZDgxYzdkKTsKCiAgICAgICAgICAgIAogICAgICAgIAogICAgCiAgICAgICAgICAgIHZhciBjaXJjbGVfbWFya2VyXzJiYjFhNTdhMDljZDQwMmY5Y2UwZjljMjdkNDQyYmRhID0gTC5jaXJjbGVNYXJrZXIoCiAgICAgICAgICAgICAgICBbLTIzLjQ4MzQ5MzksLTQ2LjY4NzE0ODY1NTIyMjldLAogICAgICAgICAgICAgICAgewogICJidWJibGluZ01vdXNlRXZlbnRzIjogdHJ1ZSwKICAiY29sb3IiOiAiYmx1ZSIsCiAgImRhc2hBcnJheSI6IG51bGwsCiAgImRhc2hPZmZzZXQiOiBudWxsLAogICJmaWxsIjogdHJ1ZSwKICAiZmlsbENvbG9yIjogIiMzMTg2Y2MiLAogICJmaWxsT3BhY2l0eSI6IDAuNywKICAiZmlsbFJ1bGUiOiAiZXZlbm9kZCIsCiAgImxpbmVDYXAiOiAicm91bmQiLAogICJsaW5lSm9pbiI6ICJyb3VuZCIsCiAgIm9wYWNpdHkiOiAxLjAsCiAgInJhZGl1cyI6IDUsCiAgInN0cm9rZSI6IHRydWUsCiAgIndlaWdodCI6IDMKfQogICAgICAgICAgICAgICAgKS5hZGRUbyhtYXBfNGQ4YTBlYjY5ZTc2NDJjYTk2MDA2ZjdkNThhMjQzY2MpOwogICAgICAgICAgICAKICAgIAogICAgICAgICAgICB2YXIgcG9wdXBfMWYyOTYxOTM0MmJjNGZkYzllYTEwYjg0MTQyZmM1NTUgPSBMLnBvcHVwKHttYXhXaWR0aDogJzMwMCd9KTsKCiAgICAgICAgICAgIAogICAgICAgICAgICAgICAgdmFyIGh0bWxfMjdhZmUzYmFiYjM1NDViMjlmOTljNDhhMmI2MjA5MWQgPSAkKCc8ZGl2IGlkPSJodG1sXzI3YWZlM2JhYmIzNTQ1YjI5Zjk5YzQ4YTJiNjIwOTFkIiBzdHlsZT0id2lkdGg6IDEwMC4wJTsgaGVpZ2h0OiAxMDAuMCU7Ij5GcmVndWVzaWEtQnJhc2lsw6JuZGlhPC9kaXY+JylbMF07CiAgICAgICAgICAgICAgICBwb3B1cF8xZjI5NjE5MzQyYmM0ZmRjOWVhMTBiODQxNDJmYzU1NS5zZXRDb250ZW50KGh0bWxfMjdhZmUzYmFiYjM1NDViMjlmOTljNDhhMmI2MjA5MWQpOwogICAgICAgICAgICAKCiAgICAgICAgICAgIGNpcmNsZV9tYXJrZXJfMmJiMWE1N2EwOWNkNDAyZjljZTBmOWMyN2Q0NDJiZGEuYmluZFBvcHVwKHBvcHVwXzFmMjk2MTkzNDJiYzRmZGM5ZWExMGI4NDE0MmZjNTU1KTsKCiAgICAgICAgICAgIAogICAgICAgIAogICAgCiAgICAgICAgICAgIHZhciBjaXJjbGVfbWFya2VyXzk1NzgxMjMxZDZlMTQxN2M5ZDNkM2Q4NDdiNzgzYzdlID0gTC5jaXJjbGVNYXJrZXIoCiAgICAgICAgICAgICAgICBbLTIzLjU1NTY2NSwtNDYuNDA5MzI4ODE1NDkyMl0sCiAgICAgICAgICAgICAgICB7CiAgImJ1YmJsaW5nTW91c2VFdmVudHMiOiB0cnVlLAogICJjb2xvciI6ICJibHVlIiwKICAiZGFzaEFycmF5IjogbnVsbCwKICAiZGFzaE9mZnNldCI6IG51bGwsCiAgImZpbGwiOiB0cnVlLAogICJmaWxsQ29sb3IiOiAiIzMxODZjYyIsCiAgImZpbGxPcGFjaXR5IjogMC43LAogICJmaWxsUnVsZSI6ICJldmVub2RkIiwKICAibGluZUNhcCI6ICJyb3VuZCIsCiAgImxpbmVKb2luIjogInJvdW5kIiwKICAib3BhY2l0eSI6IDEuMCwKICAicmFkaXVzIjogNSwKICAic3Ryb2tlIjogdHJ1ZSwKICAid2VpZ2h0IjogMwp9CiAgICAgICAgICAgICAgICApLmFkZFRvKG1hcF80ZDhhMGViNjllNzY0MmNhOTYwMDZmN2Q1OGEyNDNjYyk7CiAgICAgICAgICAgIAogICAgCiAgICAgICAgICAgIHZhciBwb3B1cF8yM2VmMGY5YzhhZDc0ZWU4YTEyYzU0NDFiYjc2ZDI4MCA9IEwucG9wdXAoe21heFdpZHRoOiAnMzAwJ30pOwoKICAgICAgICAgICAgCiAgICAgICAgICAgICAgICB2YXIgaHRtbF9lYmVkZjUxNzVkMDI0OWRjYjQyMGY4YmUxNjQ0MGExNSA9ICQoJzxkaXYgaWQ9Imh0bWxfZWJlZGY1MTc1ZDAyNDlkY2I0MjBmOGJlMTY0NDBhMTUiIHN0eWxlPSJ3aWR0aDogMTAwLjAlOyBoZWlnaHQ6IDEwMC4wJTsiPkd1YWlhbmFzZXM8L2Rpdj4nKVswXTsKICAgICAgICAgICAgICAgIHBvcHVwXzIzZWYwZjljOGFkNzRlZThhMTJjNTQ0MWJiNzZkMjgwLnNldENvbnRlbnQoaHRtbF9lYmVkZjUxNzVkMDI0OWRjYjQyMGY4YmUxNjQ0MGExNSk7CiAgICAgICAgICAgIAoKICAgICAgICAgICAgY2lyY2xlX21hcmtlcl85NTc4MTIzMWQ2ZTE0MTdjOWQzZDNkODQ3Yjc4M2M3ZS5iaW5kUG9wdXAocG9wdXBfMjNlZjBmOWM4YWQ3NGVlOGExMmM1NDQxYmI3NmQyODApOwoKICAgICAgICAgICAgCiAgICAgICAgCiAgICAKICAgICAgICAgICAgdmFyIGNpcmNsZV9tYXJrZXJfYWMyZjZjZWI5Nzc2NDMwYTllNGM5ZDJhMzI0YTMwYzEgPSBMLmNpcmNsZU1hcmtlcigKICAgICAgICAgICAgICAgIFstMjMuNTg5MjcyNTUsLTQ2LjYwNjE2MjA2NjY3NjVdLAogICAgICAgICAgICAgICAgewogICJidWJibGluZ01vdXNlRXZlbnRzIjogdHJ1ZSwKICAiY29sb3IiOiAiYmx1ZSIsCiAgImRhc2hBcnJheSI6IG51bGwsCiAgImRhc2hPZmZzZXQiOiBudWxsLAogICJmaWxsIjogdHJ1ZSwKICAiZmlsbENvbG9yIjogIiMzMTg2Y2MiLAogICJmaWxsT3BhY2l0eSI6IDAuNywKICAiZmlsbFJ1bGUiOiAiZXZlbm9kZCIsCiAgImxpbmVDYXAiOiAicm91bmQiLAogICJsaW5lSm9pbiI6ICJyb3VuZCIsCiAgIm9wYWNpdHkiOiAxLjAsCiAgInJhZGl1cyI6IDUsCiAgInN0cm9rZSI6IHRydWUsCiAgIndlaWdodCI6IDMKfQogICAgICAgICAgICAgICAgKS5hZGRUbyhtYXBfNGQ4YTBlYjY5ZTc2NDJjYTk2MDA2ZjdkNThhMjQzY2MpOwogICAgICAgICAgICAKICAgIAogICAgICAgICAgICB2YXIgcG9wdXBfOTE0OTE0MDliNzVkNDM1ZjgzOTNhOWUwNWM3NmRlMjEgPSBMLnBvcHVwKHttYXhXaWR0aDogJzMwMCd9KTsKCiAgICAgICAgICAgIAogICAgICAgICAgICAgICAgdmFyIGh0bWxfMDMzN2E0N2M0MDUzNDg2ZWE0YWExMGRiZmNlMWM4YzAgPSAkKCc8ZGl2IGlkPSJodG1sXzAzMzdhNDdjNDA1MzQ4NmVhNGFhMTBkYmZjZTFjOGMwIiBzdHlsZT0id2lkdGg6IDEwMC4wJTsgaGVpZ2h0OiAxMDAuMCU7Ij5JcGlyYW5nYTwvZGl2PicpWzBdOwogICAgICAgICAgICAgICAgcG9wdXBfOTE0OTE0MDliNzVkNDM1ZjgzOTNhOWUwNWM3NmRlMjEuc2V0Q29udGVudChodG1sXzAzMzdhNDdjNDA1MzQ4NmVhNGFhMTBkYmZjZTFjOGMwKTsKICAgICAgICAgICAgCgogICAgICAgICAgICBjaXJjbGVfbWFya2VyX2FjMmY2Y2ViOTc3NjQzMGE5ZTRjOWQyYTMyNGEzMGMxLmJpbmRQb3B1cChwb3B1cF85MTQ5MTQwOWI3NWQ0MzVmODM5M2E5ZTA1Yzc2ZGUyMSk7CgogICAgICAgICAgICAKICAgICAgICAKICAgIAogICAgICAgICAgICB2YXIgY2lyY2xlX21hcmtlcl84NmQwYTU0YTMzY2Q0YTgyYTIwOWI5OGZlMjhiYmRmYyA9IEwuY2lyY2xlTWFya2VyKAogICAgICAgICAgICAgICAgWy0yMy41MDM0NTI0NSwtNDYuMzg1NDg3ODk0Njg3OV0sCiAgICAgICAgICAgICAgICB7CiAgImJ1YmJsaW5nTW91c2VFdmVudHMiOiB0cnVlLAogICJjb2xvciI6ICJibHVlIiwKICAiZGFzaEFycmF5IjogbnVsbCwKICAiZGFzaE9mZnNldCI6IG51bGwsCiAgImZpbGwiOiB0cnVlLAogICJmaWxsQ29sb3IiOiAiIzMxODZjYyIsCiAgImZpbGxPcGFjaXR5IjogMC43LAogICJmaWxsUnVsZSI6ICJldmVub2RkIiwKICAibGluZUNhcCI6ICJyb3VuZCIsCiAgImxpbmVKb2luIjogInJvdW5kIiwKICAib3BhY2l0eSI6IDEuMCwKICAicmFkaXVzIjogNSwKICAic3Ryb2tlIjogdHJ1ZSwKICAid2VpZ2h0IjogMwp9CiAgICAgICAgICAgICAgICApLmFkZFRvKG1hcF80ZDhhMGViNjllNzY0MmNhOTYwMDZmN2Q1OGEyNDNjYyk7CiAgICAgICAgICAgIAogICAgCiAgICAgICAgICAgIHZhciBwb3B1cF82YmNlNDhhNDk4NGM0MWNmOWQxNDlkYTBhM2NkYzA1ZiA9IEwucG9wdXAoe21heFdpZHRoOiAnMzAwJ30pOwoKICAgICAgICAgICAgCiAgICAgICAgICAgICAgICB2YXIgaHRtbF85YWFkNzFmY2JhM2U0ZmNiODkxZDMyZDMwM2FmYTNlMSA9ICQoJzxkaXYgaWQ9Imh0bWxfOWFhZDcxZmNiYTNlNGZjYjg5MWQzMmQzMDNhZmEzZTEiIHN0eWxlPSJ3aWR0aDogMTAwLjAlOyBoZWlnaHQ6IDEwMC4wJTsiPkl0YWltIFBhdWxpc3RhPC9kaXY+JylbMF07CiAgICAgICAgICAgICAgICBwb3B1cF82YmNlNDhhNDk4NGM0MWNmOWQxNDlkYTBhM2NkYzA1Zi5zZXRDb250ZW50KGh0bWxfOWFhZDcxZmNiYTNlNGZjYjg5MWQzMmQzMDNhZmEzZTEpOwogICAgICAgICAgICAKCiAgICAgICAgICAgIGNpcmNsZV9tYXJrZXJfODZkMGE1NGEzM2NkNGE4MmEyMDliOThmZTI4YmJkZmMuYmluZFBvcHVwKHBvcHVwXzZiY2U0OGE0OTg0YzQxY2Y5ZDE0OWRhMGEzY2RjMDVmKTsKCiAgICAgICAgICAgIAogICAgICAgIAogICAgCiAgICAgICAgICAgIHZhciBjaXJjbGVfbWFya2VyXzQ0OWQxYzVkNTViMTRhMjM5YWJlZTI2ZjhmOGE0ZmQ2ID0gTC5jaXJjbGVNYXJrZXIoCiAgICAgICAgICAgICAgICBbLTIzLjUzNTIxMjUsLTQ2LjQ1NDE4MTA3Njg3NzldLAogICAgICAgICAgICAgICAgewogICJidWJibGluZ01vdXNlRXZlbnRzIjogdHJ1ZSwKICAiY29sb3IiOiAiYmx1ZSIsCiAgImRhc2hBcnJheSI6IG51bGwsCiAgImRhc2hPZmZzZXQiOiBudWxsLAogICJmaWxsIjogdHJ1ZSwKICAiZmlsbENvbG9yIjogIiMzMTg2Y2MiLAogICJmaWxsT3BhY2l0eSI6IDAuNywKICAiZmlsbFJ1bGUiOiAiZXZlbm9kZCIsCiAgImxpbmVDYXAiOiAicm91bmQiLAogICJsaW5lSm9pbiI6ICJyb3VuZCIsCiAgIm9wYWNpdHkiOiAxLjAsCiAgInJhZGl1cyI6IDUsCiAgInN0cm9rZSI6IHRydWUsCiAgIndlaWdodCI6IDMKfQogICAgICAgICAgICAgICAgKS5hZGRUbyhtYXBfNGQ4YTBlYjY5ZTc2NDJjYTk2MDA2ZjdkNThhMjQzY2MpOwogICAgICAgICAgICAKICAgIAogICAgICAgICAgICB2YXIgcG9wdXBfOWYwOTk2YjEwZjYwNDUyNjg0YmFhMzVhNDBlNzJjOWEgPSBMLnBvcHVwKHttYXhXaWR0aDogJzMwMCd9KTsKCiAgICAgICAgICAgIAogICAgICAgICAgICAgICAgdmFyIGh0bWxfY2U4NDZjMzczZjNmNGNkOTk0ZmRhYmNlNGYxOTFkMGMgPSAkKCc8ZGl2IGlkPSJodG1sX2NlODQ2YzM3M2YzZjRjZDk5NGZkYWJjZTRmMTkxZDBjIiBzdHlsZT0id2lkdGg6IDEwMC4wJTsgaGVpZ2h0OiAxMDAuMCU7Ij5JdGFxdWVyYTwvZGl2PicpWzBdOwogICAgICAgICAgICAgICAgcG9wdXBfOWYwOTk2YjEwZjYwNDUyNjg0YmFhMzVhNDBlNzJjOWEuc2V0Q29udGVudChodG1sX2NlODQ2YzM3M2YzZjRjZDk5NGZkYWJjZTRmMTkxZDBjKTsKICAgICAgICAgICAgCgogICAgICAgICAgICBjaXJjbGVfbWFya2VyXzQ0OWQxYzVkNTViMTRhMjM5YWJlZTI2ZjhmOGE0ZmQ2LmJpbmRQb3B1cChwb3B1cF85ZjA5OTZiMTBmNjA0NTI2ODRiYWEzNWE0MGU3MmM5YSk7CgogICAgICAgICAgICAKICAgICAgICAKICAgIAogICAgICAgICAgICB2YXIgY2lyY2xlX21hcmtlcl84ODkwZDRmMzYyZGE0NmE1YjVkYWJlZTcwOTY1YTk2NiA9IEwuY2lyY2xlTWFya2VyKAogICAgICAgICAgICAgICAgWy0yMy42NTIwNjU2LC00Ni42NTAwMzczMjkwNzddLAogICAgICAgICAgICAgICAgewogICJidWJibGluZ01vdXNlRXZlbnRzIjogdHJ1ZSwKICAiY29sb3IiOiAiYmx1ZSIsCiAgImRhc2hBcnJheSI6IG51bGwsCiAgImRhc2hPZmZzZXQiOiBudWxsLAogICJmaWxsIjogdHJ1ZSwKICAiZmlsbENvbG9yIjogIiMzMTg2Y2MiLAogICJmaWxsT3BhY2l0eSI6IDAuNywKICAiZmlsbFJ1bGUiOiAiZXZlbm9kZCIsCiAgImxpbmVDYXAiOiAicm91bmQiLAogICJsaW5lSm9pbiI6ICJyb3VuZCIsCiAgIm9wYWNpdHkiOiAxLjAsCiAgInJhZGl1cyI6IDUsCiAgInN0cm9rZSI6IHRydWUsCiAgIndlaWdodCI6IDMKfQogICAgICAgICAgICAgICAgKS5hZGRUbyhtYXBfNGQ4YTBlYjY5ZTc2NDJjYTk2MDA2ZjdkNThhMjQzY2MpOwogICAgICAgICAgICAKICAgIAogICAgICAgICAgICB2YXIgcG9wdXBfNTE5YjVhZDk2YjlkNDRlNTg4YWEzYTgyZjU2YjdlNDQgPSBMLnBvcHVwKHttYXhXaWR0aDogJzMwMCd9KTsKCiAgICAgICAgICAgIAogICAgICAgICAgICAgICAgdmFyIGh0bWxfN2NjOTBmODIxMzA2NDk2Njg0YjI5NjkxYTk1YmQ4MGIgPSAkKCc8ZGl2IGlkPSJodG1sXzdjYzkwZjgyMTMwNjQ5NjY4NGIyOTY5MWE5NWJkODBiIiBzdHlsZT0id2lkdGg6IDEwMC4wJTsgaGVpZ2h0OiAxMDAuMCU7Ij5KYWJhcXVhcmE8L2Rpdj4nKVswXTsKICAgICAgICAgICAgICAgIHBvcHVwXzUxOWI1YWQ5NmI5ZDQ0ZTU4OGFhM2E4MmY1NmI3ZTQ0LnNldENvbnRlbnQoaHRtbF83Y2M5MGY4MjEzMDY0OTY2ODRiMjk2OTFhOTViZDgwYik7CiAgICAgICAgICAgIAoKICAgICAgICAgICAgY2lyY2xlX21hcmtlcl84ODkwZDRmMzYyZGE0NmE1YjVkYWJlZTcwOTY1YTk2Ni5iaW5kUG9wdXAocG9wdXBfNTE5YjVhZDk2YjlkNDRlNTg4YWEzYTgyZjU2YjdlNDQpOwoKICAgICAgICAgICAgCiAgICAgICAgCiAgICAKICAgICAgICAgICAgdmFyIGNpcmNsZV9tYXJrZXJfMDlhN2ZiODZlMDJmNDY5NWFmNzllYmRjOTAyNGRlM2UgPSBMLmNpcmNsZU1hcmtlcigKICAgICAgICAgICAgICAgIFstMjMuNTI0MjUzNSwtNDYuNzAzMzgxMjExMDYyOV0sCiAgICAgICAgICAgICAgICB7CiAgImJ1YmJsaW5nTW91c2VFdmVudHMiOiB0cnVlLAogICJjb2xvciI6ICJibHVlIiwKICAiZGFzaEFycmF5IjogbnVsbCwKICAiZGFzaE9mZnNldCI6IG51bGwsCiAgImZpbGwiOiB0cnVlLAogICJmaWxsQ29sb3IiOiAiIzMxODZjYyIsCiAgImZpbGxPcGFjaXR5IjogMC43LAogICJmaWxsUnVsZSI6ICJldmVub2RkIiwKICAibGluZUNhcCI6ICJyb3VuZCIsCiAgImxpbmVKb2luIjogInJvdW5kIiwKICAib3BhY2l0eSI6IDEuMCwKICAicmFkaXVzIjogNSwKICAic3Ryb2tlIjogdHJ1ZSwKICAid2VpZ2h0IjogMwp9CiAgICAgICAgICAgICAgICApLmFkZFRvKG1hcF80ZDhhMGViNjllNzY0MmNhOTYwMDZmN2Q1OGEyNDNjYyk7CiAgICAgICAgICAgIAogICAgCiAgICAgICAgICAgIHZhciBwb3B1cF84MTQzODQ3N2JmYmU0YWY0ODA3ZWExMmRlNDgxMWYxOSA9IEwucG9wdXAoe21heFdpZHRoOiAnMzAwJ30pOwoKICAgICAgICAgICAgCiAgICAgICAgICAgICAgICB2YXIgaHRtbF9lMTBkYmVlMjE4OTY0OWY5YmUwNWVlNzdkZjkzMjJmNiA9ICQoJzxkaXYgaWQ9Imh0bWxfZTEwZGJlZTIxODk2NDlmOWJlMDVlZTc3ZGY5MzIyZjYiIHN0eWxlPSJ3aWR0aDogMTAwLjAlOyBoZWlnaHQ6IDEwMC4wJTsiPkxhcGE8L2Rpdj4nKVswXTsKICAgICAgICAgICAgICAgIHBvcHVwXzgxNDM4NDc3YmZiZTRhZjQ4MDdlYTEyZGU0ODExZjE5LnNldENvbnRlbnQoaHRtbF9lMTBkYmVlMjE4OTY0OWY5YmUwNWVlNzdkZjkzMjJmNik7CiAgICAgICAgICAgIAoKICAgICAgICAgICAgY2lyY2xlX21hcmtlcl8wOWE3ZmI4NmUwMmY0Njk1YWY3OWViZGM5MDI0ZGUzZS5iaW5kUG9wdXAocG9wdXBfODE0Mzg0NzdiZmJlNGFmNDgwN2VhMTJkZTQ4MTFmMTkpOwoKICAgICAgICAgICAgCiAgICAgICAgCiAgICAKICAgICAgICAgICAgdmFyIGNpcmNsZV9tYXJrZXJfOTZjZThlYjY4ZThhNGRlNmJjMjUzMTVkMDczNDI0NmUgPSBMLmNpcmNsZU1hcmtlcigKICAgICAgICAgICAgICAgIFstMjMuNjY4ODg5OCwtNDYuNzMzNzI1OV0sCiAgICAgICAgICAgICAgICB7CiAgImJ1YmJsaW5nTW91c2VFdmVudHMiOiB0cnVlLAogICJjb2xvciI6ICJibHVlIiwKICAiZGFzaEFycmF5IjogbnVsbCwKICAiZGFzaE9mZnNldCI6IG51bGwsCiAgImZpbGwiOiB0cnVlLAogICJmaWxsQ29sb3IiOiAiIzMxODZjYyIsCiAgImZpbGxPcGFjaXR5IjogMC43LAogICJmaWxsUnVsZSI6ICJldmVub2RkIiwKICAibGluZUNhcCI6ICJyb3VuZCIsCiAgImxpbmVKb2luIjogInJvdW5kIiwKICAib3BhY2l0eSI6IDEuMCwKICAicmFkaXVzIjogNSwKICAic3Ryb2tlIjogdHJ1ZSwKICAid2VpZ2h0IjogMwp9CiAgICAgICAgICAgICAgICApLmFkZFRvKG1hcF80ZDhhMGViNjllNzY0MmNhOTYwMDZmN2Q1OGEyNDNjYyk7CiAgICAgICAgICAgIAogICAgCiAgICAgICAgICAgIHZhciBwb3B1cF82MjhiZTFmN2Q5ZjQ0ODY4OTI1YzdmZDAzMjIzODg3YyA9IEwucG9wdXAoe21heFdpZHRoOiAnMzAwJ30pOwoKICAgICAgICAgICAgCiAgICAgICAgICAgICAgICB2YXIgaHRtbF81NzU5NDNkOGQxMDU0ZGQwOWQ5MGVlOTYwNTI3NGEwMyA9ICQoJzxkaXYgaWQ9Imh0bWxfNTc1OTQzZDhkMTA1NGRkMDlkOTBlZTk2MDUyNzRhMDMiIHN0eWxlPSJ3aWR0aDogMTAwLjAlOyBoZWlnaHQ6IDEwMC4wJTsiPk0mIzM5O0JvaSBNaXJpbTwvZGl2PicpWzBdOwogICAgICAgICAgICAgICAgcG9wdXBfNjI4YmUxZjdkOWY0NDg2ODkyNWM3ZmQwMzIyMzg4N2Muc2V0Q29udGVudChodG1sXzU3NTk0M2Q4ZDEwNTRkZDA5ZDkwZWU5NjA1Mjc0YTAzKTsKICAgICAgICAgICAgCgogICAgICAgICAgICBjaXJjbGVfbWFya2VyXzk2Y2U4ZWI2OGU4YTRkZTZiYzI1MzE1ZDA3MzQyNDZlLmJpbmRQb3B1cChwb3B1cF82MjhiZTFmN2Q5ZjQ0ODY4OTI1YzdmZDAzMjIzODg3Yyk7CgogICAgICAgICAgICAKICAgICAgICAKICAgIAogICAgICAgICAgICB2YXIgY2lyY2xlX21hcmtlcl9mYzFkMzg3ODJjYzA0NTk5ODFiYWVjYjdjMGM2NzRiZSA9IEwuY2lyY2xlTWFya2VyKAogICAgICAgICAgICAgICAgWy0yMy41NjE3MzA1LC00Ni41OTcxNDA0MjMxMDc0XSwKICAgICAgICAgICAgICAgIHsKICAiYnViYmxpbmdNb3VzZUV2ZW50cyI6IHRydWUsCiAgImNvbG9yIjogImJsdWUiLAogICJkYXNoQXJyYXkiOiBudWxsLAogICJkYXNoT2Zmc2V0IjogbnVsbCwKICAiZmlsbCI6IHRydWUsCiAgImZpbGxDb2xvciI6ICIjMzE4NmNjIiwKICAiZmlsbE9wYWNpdHkiOiAwLjcsCiAgImZpbGxSdWxlIjogImV2ZW5vZGQiLAogICJsaW5lQ2FwIjogInJvdW5kIiwKICAibGluZUpvaW4iOiAicm91bmQiLAogICJvcGFjaXR5IjogMS4wLAogICJyYWRpdXMiOiA1LAogICJzdHJva2UiOiB0cnVlLAogICJ3ZWlnaHQiOiAzCn0KICAgICAgICAgICAgICAgICkuYWRkVG8obWFwXzRkOGEwZWI2OWU3NjQyY2E5NjAwNmY3ZDU4YTI0M2NjKTsKICAgICAgICAgICAgCiAgICAKICAgICAgICAgICAgdmFyIHBvcHVwX2M4OTRhNWZkM2VhNDQxNjM5YzU0ZDZkYWQ5M2RkZmU1ID0gTC5wb3B1cCh7bWF4V2lkdGg6ICczMDAnfSk7CgogICAgICAgICAgICAKICAgICAgICAgICAgICAgIHZhciBodG1sXzE4ZjhhMTFmYmZhYzQ0NTJhNTBmZmYyNTJmZWVjNzY4ID0gJCgnPGRpdiBpZD0iaHRtbF8xOGY4YTExZmJmYWM0NDUyYTUwZmZmMjUyZmVlYzc2OCIgc3R5bGU9IndpZHRoOiAxMDAuMCU7IGhlaWdodDogMTAwLjAlOyI+TW9vY2E8L2Rpdj4nKVswXTsKICAgICAgICAgICAgICAgIHBvcHVwX2M4OTRhNWZkM2VhNDQxNjM5YzU0ZDZkYWQ5M2RkZmU1LnNldENvbnRlbnQoaHRtbF8xOGY4YTExZmJmYWM0NDUyYTUwZmZmMjUyZmVlYzc2OCk7CiAgICAgICAgICAgIAoKICAgICAgICAgICAgY2lyY2xlX21hcmtlcl9mYzFkMzg3ODJjYzA0NTk5ODFiYWVjYjdjMGM2NzRiZS5iaW5kUG9wdXAocG9wdXBfYzg5NGE1ZmQzZWE0NDE2MzljNTRkNmRhZDkzZGRmZTUpOwoKICAgICAgICAgICAgCiAgICAgICAgCiAgICAKICAgICAgICAgICAgdmFyIGNpcmNsZV9tYXJrZXJfZmY3MzFiYjlkMGQ3NGE1ZjllZmMwMDc1MzY2ZTc5M2MgPSBMLmNpcmNsZU1hcmtlcigKICAgICAgICAgICAgICAgIFstMjMuODI0NzkwNzUsLTQ2LjczMzA3Nzg0OTcwMThdLAogICAgICAgICAgICAgICAgewogICJidWJibGluZ01vdXNlRXZlbnRzIjogdHJ1ZSwKICAiY29sb3IiOiAiYmx1ZSIsCiAgImRhc2hBcnJheSI6IG51bGwsCiAgImRhc2hPZmZzZXQiOiBudWxsLAogICJmaWxsIjogdHJ1ZSwKICAiZmlsbENvbG9yIjogIiMzMTg2Y2MiLAogICJmaWxsT3BhY2l0eSI6IDAuNywKICAiZmlsbFJ1bGUiOiAiZXZlbm9kZCIsCiAgImxpbmVDYXAiOiAicm91bmQiLAogICJsaW5lSm9pbiI6ICJyb3VuZCIsCiAgIm9wYWNpdHkiOiAxLjAsCiAgInJhZGl1cyI6IDUsCiAgInN0cm9rZSI6IHRydWUsCiAgIndlaWdodCI6IDMKfQogICAgICAgICAgICAgICAgKS5hZGRUbyhtYXBfNGQ4YTBlYjY5ZTc2NDJjYTk2MDA2ZjdkNThhMjQzY2MpOwogICAgICAgICAgICAKICAgIAogICAgICAgICAgICB2YXIgcG9wdXBfM2U4NDk5YTZiNDc0NGEwODljMmNmMjI3Nzg2MjM2OTIgPSBMLnBvcHVwKHttYXhXaWR0aDogJzMwMCd9KTsKCiAgICAgICAgICAgIAogICAgICAgICAgICAgICAgdmFyIGh0bWxfOWZiMzY5YTE3ODZiNDQzMDlmYjJlMzAwYzFhNjg2OWIgPSAkKCc8ZGl2IGlkPSJodG1sXzlmYjM2OWExNzg2YjQ0MzA5ZmIyZTMwMGMxYTY4NjliIiBzdHlsZT0id2lkdGg6IDEwMC4wJTsgaGVpZ2h0OiAxMDAuMCU7Ij5QYXJlbGhlaXJvczwvZGl2PicpWzBdOwogICAgICAgICAgICAgICAgcG9wdXBfM2U4NDk5YTZiNDc0NGEwODljMmNmMjI3Nzg2MjM2OTIuc2V0Q29udGVudChodG1sXzlmYjM2OWExNzg2YjQ0MzA5ZmIyZTMwMGMxYTY4NjliKTsKICAgICAgICAgICAgCgogICAgICAgICAgICBjaXJjbGVfbWFya2VyX2ZmNzMxYmI5ZDBkNzRhNWY5ZWZjMDA3NTM2NmU3OTNjLmJpbmRQb3B1cChwb3B1cF8zZTg0OTlhNmI0NzQ0YTA4OWMyY2YyMjc3ODYyMzY5Mik7CgogICAgICAgICAgICAKICAgICAgICAKICAgIAogICAgICAgICAgICB2YXIgY2lyY2xlX21hcmtlcl9kYzc5OTkyMWVmOGU0OTcwOTRiYjI2NGEwZTA5OTVlZiA9IEwuY2lyY2xlTWFya2VyKAogICAgICAgICAgICAgICAgWy0yMy41MjM2ODMsLTQ2LjU0Mzc4MTVdLAogICAgICAgICAgICAgICAgewogICJidWJibGluZ01vdXNlRXZlbnRzIjogdHJ1ZSwKICAiY29sb3IiOiAiYmx1ZSIsCiAgImRhc2hBcnJheSI6IG51bGwsCiAgImRhc2hPZmZzZXQiOiBudWxsLAogICJmaWxsIjogdHJ1ZSwKICAiZmlsbENvbG9yIjogIiMzMTg2Y2MiLAogICJmaWxsT3BhY2l0eSI6IDAuNywKICAiZmlsbFJ1bGUiOiAiZXZlbm9kZCIsCiAgImxpbmVDYXAiOiAicm91bmQiLAogICJsaW5lSm9pbiI6ICJyb3VuZCIsCiAgIm9wYWNpdHkiOiAxLjAsCiAgInJhZGl1cyI6IDUsCiAgInN0cm9rZSI6IHRydWUsCiAgIndlaWdodCI6IDMKfQogICAgICAgICAgICAgICAgKS5hZGRUbyhtYXBfNGQ4YTBlYjY5ZTc2NDJjYTk2MDA2ZjdkNThhMjQzY2MpOwogICAgICAgICAgICAKICAgIAogICAgICAgICAgICB2YXIgcG9wdXBfNGVkOTkwMDViZThjNDQ1Nzg2OWZlYzJlOWVkNzVlOTAgPSBMLnBvcHVwKHttYXhXaWR0aDogJzMwMCd9KTsKCiAgICAgICAgICAgIAogICAgICAgICAgICAgICAgdmFyIGh0bWxfZjk3NDNkMzRhN2ZmNDcxYTg0YTNhOTEyZDMxOGYxOWIgPSAkKCc8ZGl2IGlkPSJodG1sX2Y5NzQzZDM0YTdmZjQ3MWE4NGEzYTkxMmQzMThmMTliIiBzdHlsZT0id2lkdGg6IDEwMC4wJTsgaGVpZ2h0OiAxMDAuMCU7Ij5QZW5oYTwvZGl2PicpWzBdOwogICAgICAgICAgICAgICAgcG9wdXBfNGVkOTkwMDViZThjNDQ1Nzg2OWZlYzJlOWVkNzVlOTAuc2V0Q29udGVudChodG1sX2Y5NzQzZDM0YTdmZjQ3MWE4NGEzYTkxMmQzMThmMTliKTsKICAgICAgICAgICAgCgogICAgICAgICAgICBjaXJjbGVfbWFya2VyX2RjNzk5OTIxZWY4ZTQ5NzA5NGJiMjY0YTBlMDk5NWVmLmJpbmRQb3B1cChwb3B1cF80ZWQ5OTAwNWJlOGM0NDU3ODY5ZmVjMmU5ZWQ3NWU5MCk7CgogICAgICAgICAgICAKICAgICAgICAKICAgIAogICAgICAgICAgICB2YXIgY2lyY2xlX21hcmtlcl82ODA4MmZkYzY4NzY0NWNkOTYyNWZkNWZjYjgzYzRmYSA9IEwuY2lyY2xlTWFya2VyKAogICAgICAgICAgICAgICAgWy0yMy40MDg0OTE1LC00Ni43NDM2MzE5OTc1NjMxXSwKICAgICAgICAgICAgICAgIHsKICAiYnViYmxpbmdNb3VzZUV2ZW50cyI6IHRydWUsCiAgImNvbG9yIjogImJsdWUiLAogICJkYXNoQXJyYXkiOiBudWxsLAogICJkYXNoT2Zmc2V0IjogbnVsbCwKICAiZmlsbCI6IHRydWUsCiAgImZpbGxDb2xvciI6ICIjMzE4NmNjIiwKICAiZmlsbE9wYWNpdHkiOiAwLjcsCiAgImZpbGxSdWxlIjogImV2ZW5vZGQiLAogICJsaW5lQ2FwIjogInJvdW5kIiwKICAibGluZUpvaW4iOiAicm91bmQiLAogICJvcGFjaXR5IjogMS4wLAogICJyYWRpdXMiOiA1LAogICJzdHJva2UiOiB0cnVlLAogICJ3ZWlnaHQiOiAzCn0KICAgICAgICAgICAgICAgICkuYWRkVG8obWFwXzRkOGEwZWI2OWU3NjQyY2E5NjAwNmY3ZDU4YTI0M2NjKTsKICAgICAgICAgICAgCiAgICAKICAgICAgICAgICAgdmFyIHBvcHVwXzNmYjRkMzBiYzg4YzQ0N2I4MmYzMjBiOTdhMTlmMjllID0gTC5wb3B1cCh7bWF4V2lkdGg6ICczMDAnfSk7CgogICAgICAgICAgICAKICAgICAgICAgICAgICAgIHZhciBodG1sXzE3YWIxMWIxMzA5ZDRlZWFhZWZhNmJlNzk5YmY4MTlmID0gJCgnPGRpdiBpZD0iaHRtbF8xN2FiMTFiMTMwOWQ0ZWVhYWVmYTZiZTc5OWJmODE5ZiIgc3R5bGU9IndpZHRoOiAxMDAuMCU7IGhlaWdodDogMTAwLjAlOyI+UGVydXM8L2Rpdj4nKVswXTsKICAgICAgICAgICAgICAgIHBvcHVwXzNmYjRkMzBiYzg4YzQ0N2I4MmYzMjBiOTdhMTlmMjllLnNldENvbnRlbnQoaHRtbF8xN2FiMTFiMTMwOWQ0ZWVhYWVmYTZiZTc5OWJmODE5Zik7CiAgICAgICAgICAgIAoKICAgICAgICAgICAgY2lyY2xlX21hcmtlcl82ODA4MmZkYzY4NzY0NWNkOTYyNWZkNWZjYjgzYzRmYS5iaW5kUG9wdXAocG9wdXBfM2ZiNGQzMGJjODhjNDQ3YjgyZjMyMGI5N2ExOWYyOWUpOwoKICAgICAgICAgICAgCiAgICAgICAgCiAgICAKICAgICAgICAgICAgdmFyIGNpcmNsZV9tYXJrZXJfOTIxZTczODYzY2NiNGNmYmE3MTk0MWQ4Y2VkNTQwNzYgPSBMLmNpcmNsZU1hcmtlcigKICAgICAgICAgICAgICAgIFstMjMuNTY2NDQ3LC00Ni42OTA1NTQ4MTU4ODE1XSwKICAgICAgICAgICAgICAgIHsKICAiYnViYmxpbmdNb3VzZUV2ZW50cyI6IHRydWUsCiAgImNvbG9yIjogImJsdWUiLAogICJkYXNoQXJyYXkiOiBudWxsLAogICJkYXNoT2Zmc2V0IjogbnVsbCwKICAiZmlsbCI6IHRydWUsCiAgImZpbGxDb2xvciI6ICIjMzE4NmNjIiwKICAiZmlsbE9wYWNpdHkiOiAwLjcsCiAgImZpbGxSdWxlIjogImV2ZW5vZGQiLAogICJsaW5lQ2FwIjogInJvdW5kIiwKICAibGluZUpvaW4iOiAicm91bmQiLAogICJvcGFjaXR5IjogMS4wLAogICJyYWRpdXMiOiA1LAogICJzdHJva2UiOiB0cnVlLAogICJ3ZWlnaHQiOiAzCn0KICAgICAgICAgICAgICAgICkuYWRkVG8obWFwXzRkOGEwZWI2OWU3NjQyY2E5NjAwNmY3ZDU4YTI0M2NjKTsKICAgICAgICAgICAgCiAgICAKICAgICAgICAgICAgdmFyIHBvcHVwX2U1NjZjMjlhZmMzYzRiYWVhZWQ0N2YyMzMzZTFmNjNmID0gTC5wb3B1cCh7bWF4V2lkdGg6ICczMDAnfSk7CgogICAgICAgICAgICAKICAgICAgICAgICAgICAgIHZhciBodG1sXzRlMDc2MDJmYzE4NzRiNWQ4Mjg0ODc4NzVjYzY1ODVlID0gJCgnPGRpdiBpZD0iaHRtbF80ZTA3NjAyZmMxODc0YjVkODI4NDg3ODc1Y2M2NTg1ZSIgc3R5bGU9IndpZHRoOiAxMDAuMCU7IGhlaWdodDogMTAwLjAlOyI+UGluaGVpcm9zPC9kaXY+JylbMF07CiAgICAgICAgICAgICAgICBwb3B1cF9lNTY2YzI5YWZjM2M0YmFlYWVkNDdmMjMzM2UxZjYzZi5zZXRDb250ZW50KGh0bWxfNGUwNzYwMmZjMTg3NGI1ZDgyODQ4Nzg3NWNjNjU4NWUpOwogICAgICAgICAgICAKCiAgICAgICAgICAgIGNpcmNsZV9tYXJrZXJfOTIxZTczODYzY2NiNGNmYmE3MTk0MWQ4Y2VkNTQwNzYuYmluZFBvcHVwKHBvcHVwX2U1NjZjMjlhZmMzYzRiYWVhZWQ0N2YyMzMzZTFmNjNmKTsKCiAgICAgICAgICAgIAogICAgICAgIAogICAgCiAgICAgICAgICAgIHZhciBjaXJjbGVfbWFya2VyXzZhOGM3MmE1YTY2NzQyMzc4MTc0YTVkYjU3YTlhNzE0ID0gTC5jaXJjbGVNYXJrZXIoCiAgICAgICAgICAgICAgICBbLTIzLjQzNjc3OTksLTQ2LjcyMDUyODZdLAogICAgICAgICAgICAgICAgewogICJidWJibGluZ01vdXNlRXZlbnRzIjogdHJ1ZSwKICAiY29sb3IiOiAiYmx1ZSIsCiAgImRhc2hBcnJheSI6IG51bGwsCiAgImRhc2hPZmZzZXQiOiBudWxsLAogICJmaWxsIjogdHJ1ZSwKICAiZmlsbENvbG9yIjogIiMzMTg2Y2MiLAogICJmaWxsT3BhY2l0eSI6IDAuNywKICAiZmlsbFJ1bGUiOiAiZXZlbm9kZCIsCiAgImxpbmVDYXAiOiAicm91bmQiLAogICJsaW5lSm9pbiI6ICJyb3VuZCIsCiAgIm9wYWNpdHkiOiAxLjAsCiAgInJhZGl1cyI6IDUsCiAgInN0cm9rZSI6IHRydWUsCiAgIndlaWdodCI6IDMKfQogICAgICAgICAgICAgICAgKS5hZGRUbyhtYXBfNGQ4YTBlYjY5ZTc2NDJjYTk2MDA2ZjdkNThhMjQzY2MpOwogICAgICAgICAgICAKICAgIAogICAgICAgICAgICB2YXIgcG9wdXBfZGE1ZjM3YmM0YjFlNGY0MGJkMDdlMmI1NjY2ODdhNjEgPSBMLnBvcHVwKHttYXhXaWR0aDogJzMwMCd9KTsKCiAgICAgICAgICAgIAogICAgICAgICAgICAgICAgdmFyIGh0bWxfNzZkZmQ0YThiNmY4NGQwOGJjNWY5ZmJjYjhiNDdlYjEgPSAkKCc8ZGl2IGlkPSJodG1sXzc2ZGZkNGE4YjZmODRkMDhiYzVmOWZiY2I4YjQ3ZWIxIiBzdHlsZT0id2lkdGg6IDEwMC4wJTsgaGVpZ2h0OiAxMDAuMCU7Ij5QaXJpdHViYS1KYXJhZ3XDoTwvZGl2PicpWzBdOwogICAgICAgICAgICAgICAgcG9wdXBfZGE1ZjM3YmM0YjFlNGY0MGJkMDdlMmI1NjY2ODdhNjEuc2V0Q29udGVudChodG1sXzc2ZGZkNGE4YjZmODRkMDhiYzVmOWZiY2I4YjQ3ZWIxKTsKICAgICAgICAgICAgCgogICAgICAgICAgICBjaXJjbGVfbWFya2VyXzZhOGM3MmE1YTY2NzQyMzc4MTc0YTVkYjU3YTlhNzE0LmJpbmRQb3B1cChwb3B1cF9kYTVmMzdiYzRiMWU0ZjQwYmQwN2UyYjU2NjY4N2E2MSk7CgogICAgICAgICAgICAKICAgICAgICAKICAgIAogICAgICAgICAgICB2YXIgY2lyY2xlX21hcmtlcl8xYjg3ODRiMDU0OTY0NWI4ODI0MzJmNmM2NDRlYTUwMCA9IEwuY2lyY2xlTWFya2VyKAogICAgICAgICAgICAgICAgWy0yMy41MDIxMzM5LC00Ni42MjY1MDM5XSwKICAgICAgICAgICAgICAgIHsKICAiYnViYmxpbmdNb3VzZUV2ZW50cyI6IHRydWUsCiAgImNvbG9yIjogImJsdWUiLAogICJkYXNoQXJyYXkiOiBudWxsLAogICJkYXNoT2Zmc2V0IjogbnVsbCwKICAiZmlsbCI6IHRydWUsCiAgImZpbGxDb2xvciI6ICIjMzE4NmNjIiwKICAiZmlsbE9wYWNpdHkiOiAwLjcsCiAgImZpbGxSdWxlIjogImV2ZW5vZGQiLAogICJsaW5lQ2FwIjogInJvdW5kIiwKICAibGluZUpvaW4iOiAicm91bmQiLAogICJvcGFjaXR5IjogMS4wLAogICJyYWRpdXMiOiA1LAogICJzdHJva2UiOiB0cnVlLAogICJ3ZWlnaHQiOiAzCn0KICAgICAgICAgICAgICAgICkuYWRkVG8obWFwXzRkOGEwZWI2OWU3NjQyY2E5NjAwNmY3ZDU4YTI0M2NjKTsKICAgICAgICAgICAgCiAgICAKICAgICAgICAgICAgdmFyIHBvcHVwXzk3NDMxN2QyNDRkNjQ4MTJiOWU0ZThmZDE2ODY4NTUyID0gTC5wb3B1cCh7bWF4V2lkdGg6ICczMDAnfSk7CgogICAgICAgICAgICAKICAgICAgICAgICAgICAgIHZhciBodG1sXzg0MDFjOTg5N2FkNTQzOWRhMzkxMzBlNGQ5MWY4ZTRiID0gJCgnPGRpdiBpZD0iaHRtbF84NDAxYzk4OTdhZDU0MzlkYTM5MTMwZTRkOTFmOGU0YiIgc3R5bGU9IndpZHRoOiAxMDAuMCU7IGhlaWdodDogMTAwLjAlOyI+U2FudGFuYS1UdWN1cnV2aTwvZGl2PicpWzBdOwogICAgICAgICAgICAgICAgcG9wdXBfOTc0MzE3ZDI0NGQ2NDgxMmI5ZTRlOGZkMTY4Njg1NTIuc2V0Q29udGVudChodG1sXzg0MDFjOTg5N2FkNTQzOWRhMzkxMzBlNGQ5MWY4ZTRiKTsKICAgICAgICAgICAgCgogICAgICAgICAgICBjaXJjbGVfbWFya2VyXzFiODc4NGIwNTQ5NjQ1Yjg4MjQzMmY2YzY0NGVhNTAwLmJpbmRQb3B1cChwb3B1cF85NzQzMTdkMjQ0ZDY0ODEyYjllNGU4ZmQxNjg2ODU1Mik7CgogICAgICAgICAgICAKICAgICAgICAKICAgIAogICAgICAgICAgICB2YXIgY2lyY2xlX21hcmtlcl83YmM1MGQ3ZjUwZjE0NmE3YmE3NDg1MTBjODkxMTdiNiA9IEwuY2lyY2xlTWFya2VyKAogICAgICAgICAgICAgICAgWy0yMy42NDI1MTU0NSwtNDYuNjk5ODkwMjcwMjYyXSwKICAgICAgICAgICAgICAgIHsKICAiYnViYmxpbmdNb3VzZUV2ZW50cyI6IHRydWUsCiAgImNvbG9yIjogImJsdWUiLAogICJkYXNoQXJyYXkiOiBudWxsLAogICJkYXNoT2Zmc2V0IjogbnVsbCwKICAiZmlsbCI6IHRydWUsCiAgImZpbGxDb2xvciI6ICIjMzE4NmNjIiwKICAiZmlsbE9wYWNpdHkiOiAwLjcsCiAgImZpbGxSdWxlIjogImV2ZW5vZGQiLAogICJsaW5lQ2FwIjogInJvdW5kIiwKICAibGluZUpvaW4iOiAicm91bmQiLAogICJvcGFjaXR5IjogMS4wLAogICJyYWRpdXMiOiA1LAogICJzdHJva2UiOiB0cnVlLAogICJ3ZWlnaHQiOiAzCn0KICAgICAgICAgICAgICAgICkuYWRkVG8obWFwXzRkOGEwZWI2OWU3NjQyY2E5NjAwNmY3ZDU4YTI0M2NjKTsKICAgICAgICAgICAgCiAgICAKICAgICAgICAgICAgdmFyIHBvcHVwX2JlZjY5MDFmZTU2ODQ3Njk4ZmM2MDVmNzZmYzFlYWE3ID0gTC5wb3B1cCh7bWF4V2lkdGg6ICczMDAnfSk7CgogICAgICAgICAgICAKICAgICAgICAgICAgICAgIHZhciBodG1sXzQwMzIwZDZhNTVhMDQyNDc5NmI2ZmQ4YmUxMjE4YjVlID0gJCgnPGRpdiBpZD0iaHRtbF80MDMyMGQ2YTU1YTA0MjQ3OTZiNmZkOGJlMTIxOGI1ZSIgc3R5bGU9IndpZHRoOiAxMDAuMCU7IGhlaWdodDogMTAwLjAlOyI+U2FudG8gQW1hcm88L2Rpdj4nKVswXTsKICAgICAgICAgICAgICAgIHBvcHVwX2JlZjY5MDFmZTU2ODQ3Njk4ZmM2MDVmNzZmYzFlYWE3LnNldENvbnRlbnQoaHRtbF80MDMyMGQ2YTU1YTA0MjQ3OTZiNmZkOGJlMTIxOGI1ZSk7CiAgICAgICAgICAgIAoKICAgICAgICAgICAgY2lyY2xlX21hcmtlcl83YmM1MGQ3ZjUwZjE0NmE3YmE3NDg1MTBjODkxMTdiNi5iaW5kUG9wdXAocG9wdXBfYmVmNjkwMWZlNTY4NDc2OThmYzYwNWY3NmZjMWVhYTcpOwoKICAgICAgICAgICAgCiAgICAgICAgCiAgICAKICAgICAgICAgICAgdmFyIGNpcmNsZV9tYXJrZXJfNWYwZDUwZTE2YWU5NGE1ZmI4MzNkNjdhNTA0NTRkY2UgPSBMLmNpcmNsZU1hcmtlcigKICAgICAgICAgICAgICAgIFstMjMuNTk4Mjk5NSwtNDYuNDgxNzA0Nl0sCiAgICAgICAgICAgICAgICB7CiAgImJ1YmJsaW5nTW91c2VFdmVudHMiOiB0cnVlLAogICJjb2xvciI6ICJibHVlIiwKICAiZGFzaEFycmF5IjogbnVsbCwKICAiZGFzaE9mZnNldCI6IG51bGwsCiAgImZpbGwiOiB0cnVlLAogICJmaWxsQ29sb3IiOiAiIzMxODZjYyIsCiAgImZpbGxPcGFjaXR5IjogMC43LAogICJmaWxsUnVsZSI6ICJldmVub2RkIiwKICAibGluZUNhcCI6ICJyb3VuZCIsCiAgImxpbmVKb2luIjogInJvdW5kIiwKICAib3BhY2l0eSI6IDEuMCwKICAicmFkaXVzIjogNSwKICAic3Ryb2tlIjogdHJ1ZSwKICAid2VpZ2h0IjogMwp9CiAgICAgICAgICAgICAgICApLmFkZFRvKG1hcF80ZDhhMGViNjllNzY0MmNhOTYwMDZmN2Q1OGEyNDNjYyk7CiAgICAgICAgICAgIAogICAgCiAgICAgICAgICAgIHZhciBwb3B1cF9lYjM0OTRhYzhmZjQ0YTM4OTc4MGZjODMxM2JjNDBjOCA9IEwucG9wdXAoe21heFdpZHRoOiAnMzAwJ30pOwoKICAgICAgICAgICAgCiAgICAgICAgICAgICAgICB2YXIgaHRtbF84YzA5ZDkzY2RkMzk0MmVmOTY4ODI2MWZlYjY3YWExOSA9ICQoJzxkaXYgaWQ9Imh0bWxfOGMwOWQ5M2NkZDM5NDJlZjk2ODgyNjFmZWI2N2FhMTkiIHN0eWxlPSJ3aWR0aDogMTAwLjAlOyBoZWlnaHQ6IDEwMC4wJTsiPlPDo28gTWF0ZXVzPC9kaXY+JylbMF07CiAgICAgICAgICAgICAgICBwb3B1cF9lYjM0OTRhYzhmZjQ0YTM4OTc4MGZjODMxM2JjNDBjOC5zZXRDb250ZW50KGh0bWxfOGMwOWQ5M2NkZDM5NDJlZjk2ODgyNjFmZWI2N2FhMTkpOwogICAgICAgICAgICAKCiAgICAgICAgICAgIGNpcmNsZV9tYXJrZXJfNWYwZDUwZTE2YWU5NGE1ZmI4MzNkNjdhNTA0NTRkY2UuYmluZFBvcHVwKHBvcHVwX2ViMzQ5NGFjOGZmNDRhMzg5NzgwZmM4MzEzYmM0MGM4KTsKCiAgICAgICAgICAgIAogICAgICAgIAogICAgCiAgICAgICAgICAgIHZhciBjaXJjbGVfbWFya2VyXzhjMzM5OGI1NGY4ZTQ1MGQ4ZjVmMzc0Njc1Y2Q3YTUzID0gTC5jaXJjbGVNYXJrZXIoCiAgICAgICAgICAgICAgICBbLTIzLjUwMjkzOTUsLTQ2LjQzODI4MzE3NTgwNTNdLAogICAgICAgICAgICAgICAgewogICJidWJibGluZ01vdXNlRXZlbnRzIjogdHJ1ZSwKICAiY29sb3IiOiAiYmx1ZSIsCiAgImRhc2hBcnJheSI6IG51bGwsCiAgImRhc2hPZmZzZXQiOiBudWxsLAogICJmaWxsIjogdHJ1ZSwKICAiZmlsbENvbG9yIjogIiMzMTg2Y2MiLAogICJmaWxsT3BhY2l0eSI6IDAuNywKICAiZmlsbFJ1bGUiOiAiZXZlbm9kZCIsCiAgImxpbmVDYXAiOiAicm91bmQiLAogICJsaW5lSm9pbiI6ICJyb3VuZCIsCiAgIm9wYWNpdHkiOiAxLjAsCiAgInJhZGl1cyI6IDUsCiAgInN0cm9rZSI6IHRydWUsCiAgIndlaWdodCI6IDMKfQogICAgICAgICAgICAgICAgKS5hZGRUbyhtYXBfNGQ4YTBlYjY5ZTc2NDJjYTk2MDA2ZjdkNThhMjQzY2MpOwogICAgICAgICAgICAKICAgIAogICAgICAgICAgICB2YXIgcG9wdXBfNzk3YjQ4YTJjOWJhNGY4OGJjODUxODU5Y2NjNTg4NmMgPSBMLnBvcHVwKHttYXhXaWR0aDogJzMwMCd9KTsKCiAgICAgICAgICAgIAogICAgICAgICAgICAgICAgdmFyIGh0bWxfMGMxYjkwN2MzNzY5NGRkMDk1ODViNzk5NjI5OTAyY2QgPSAkKCc8ZGl2IGlkPSJodG1sXzBjMWI5MDdjMzc2OTRkZDA5NTg1Yjc5OTYyOTkwMmNkIiBzdHlsZT0id2lkdGg6IDEwMC4wJTsgaGVpZ2h0OiAxMDAuMCU7Ij5Tw6NvIE1pZ3VlbCBQYXVsaXN0YTwvZGl2PicpWzBdOwogICAgICAgICAgICAgICAgcG9wdXBfNzk3YjQ4YTJjOWJhNGY4OGJjODUxODU5Y2NjNTg4NmMuc2V0Q29udGVudChodG1sXzBjMWI5MDdjMzc2OTRkZDA5NTg1Yjc5OTYyOTkwMmNkKTsKICAgICAgICAgICAgCgogICAgICAgICAgICBjaXJjbGVfbWFya2VyXzhjMzM5OGI1NGY4ZTQ1MGQ4ZjVmMzc0Njc1Y2Q3YTUzLmJpbmRQb3B1cChwb3B1cF83OTdiNDhhMmM5YmE0Zjg4YmM4NTE4NTljY2M1ODg2Yyk7CgogICAgICAgICAgICAKICAgICAgICAKICAgIAogICAgICAgICAgICB2YXIgY2lyY2xlX21hcmtlcl85NDU0OTg3MmZmZGU0NDJjOTRhZmM4NTNlMWRlMTExZCA9IEwuY2lyY2xlTWFya2VyKAogICAgICAgICAgICAgICAgWy0yMy42MDQ1NTksLTQ2LjUwOTgyMzI1NzkzNTJdLAogICAgICAgICAgICAgICAgewogICJidWJibGluZ01vdXNlRXZlbnRzIjogdHJ1ZSwKICAiY29sb3IiOiAiYmx1ZSIsCiAgImRhc2hBcnJheSI6IG51bGwsCiAgImRhc2hPZmZzZXQiOiBudWxsLAogICJmaWxsIjogdHJ1ZSwKICAiZmlsbENvbG9yIjogIiMzMTg2Y2MiLAogICJmaWxsT3BhY2l0eSI6IDAuNywKICAiZmlsbFJ1bGUiOiAiZXZlbm9kZCIsCiAgImxpbmVDYXAiOiAicm91bmQiLAogICJsaW5lSm9pbiI6ICJyb3VuZCIsCiAgIm9wYWNpdHkiOiAxLjAsCiAgInJhZGl1cyI6IDUsCiAgInN0cm9rZSI6IHRydWUsCiAgIndlaWdodCI6IDMKfQogICAgICAgICAgICAgICAgKS5hZGRUbyhtYXBfNGQ4YTBlYjY5ZTc2NDJjYTk2MDA2ZjdkNThhMjQzY2MpOwogICAgICAgICAgICAKICAgIAogICAgICAgICAgICB2YXIgcG9wdXBfYTk1MGQwZTgxOGY3NDZmNThkYTZkMWJmZmYzM2JhZDEgPSBMLnBvcHVwKHttYXhXaWR0aDogJzMwMCd9KTsKCiAgICAgICAgICAgIAogICAgICAgICAgICAgICAgdmFyIGh0bWxfYzk1YmJlYzhmYmMwNGEzZjgzODQxYWVmNjQwZDMxOTAgPSAkKCc8ZGl2IGlkPSJodG1sX2M5NWJiZWM4ZmJjMDRhM2Y4Mzg0MWFlZjY0MGQzMTkwIiBzdHlsZT0id2lkdGg6IDEwMC4wJTsgaGVpZ2h0OiAxMDAuMCU7Ij5TYXBvcGVtYmE8L2Rpdj4nKVswXTsKICAgICAgICAgICAgICAgIHBvcHVwX2E5NTBkMGU4MThmNzQ2ZjU4ZGE2ZDFiZmZmMzNiYWQxLnNldENvbnRlbnQoaHRtbF9jOTViYmVjOGZiYzA0YTNmODM4NDFhZWY2NDBkMzE5MCk7CiAgICAgICAgICAgIAoKICAgICAgICAgICAgY2lyY2xlX21hcmtlcl85NDU0OTg3MmZmZGU0NDJjOTRhZmM4NTNlMWRlMTExZC5iaW5kUG9wdXAocG9wdXBfYTk1MGQwZTgxOGY3NDZmNThkYTZkMWJmZmYzM2JhZDEpOwoKICAgICAgICAgICAgCiAgICAgICAgCiAgICAKICAgICAgICAgICAgdmFyIGNpcmNsZV9tYXJrZXJfNzYzMmRhODhmYjFkNDFjZWJmYjA1NzM1YjY4MGZiNzIgPSBMLmNpcmNsZU1hcmtlcigKICAgICAgICAgICAgICAgIFstMjMuNTUwNDQyOCwtNDYuNjMzNDQ2M10sCiAgICAgICAgICAgICAgICB7CiAgImJ1YmJsaW5nTW91c2VFdmVudHMiOiB0cnVlLAogICJjb2xvciI6ICJibHVlIiwKICAiZGFzaEFycmF5IjogbnVsbCwKICAiZGFzaE9mZnNldCI6IG51bGwsCiAgImZpbGwiOiB0cnVlLAogICJmaWxsQ29sb3IiOiAiIzMxODZjYyIsCiAgImZpbGxPcGFjaXR5IjogMC43LAogICJmaWxsUnVsZSI6ICJldmVub2RkIiwKICAibGluZUNhcCI6ICJyb3VuZCIsCiAgImxpbmVKb2luIjogInJvdW5kIiwKICAib3BhY2l0eSI6IDEuMCwKICAicmFkaXVzIjogNSwKICAic3Ryb2tlIjogdHJ1ZSwKICAid2VpZ2h0IjogMwp9CiAgICAgICAgICAgICAgICApLmFkZFRvKG1hcF80ZDhhMGViNjllNzY0MmNhOTYwMDZmN2Q1OGEyNDNjYyk7CiAgICAgICAgICAgIAogICAgCiAgICAgICAgICAgIHZhciBwb3B1cF8wMDNiNTUzZmYzZjU0MjQxYjhlYzAzMDVkMTljZWIwOSA9IEwucG9wdXAoe21heFdpZHRoOiAnMzAwJ30pOwoKICAgICAgICAgICAgCiAgICAgICAgICAgICAgICB2YXIgaHRtbF81YmZkYjg2NGQ2YWI0ODI3OWNmNGM3ZjZjOWI1ODU5NSA9ICQoJzxkaXYgaWQ9Imh0bWxfNWJmZGI4NjRkNmFiNDgyNzljZjRjN2Y2YzliNTg1OTUiIHN0eWxlPSJ3aWR0aDogMTAwLjAlOyBoZWlnaHQ6IDEwMC4wJTsiPlPDqTwvZGl2PicpWzBdOwogICAgICAgICAgICAgICAgcG9wdXBfMDAzYjU1M2ZmM2Y1NDI0MWI4ZWMwMzA1ZDE5Y2ViMDkuc2V0Q29udGVudChodG1sXzViZmRiODY0ZDZhYjQ4Mjc5Y2Y0YzdmNmM5YjU4NTk1KTsKICAgICAgICAgICAgCgogICAgICAgICAgICBjaXJjbGVfbWFya2VyXzc2MzJkYTg4ZmIxZDQxY2ViZmIwNTczNWI2ODBmYjcyLmJpbmRQb3B1cChwb3B1cF8wMDNiNTUzZmYzZjU0MjQxYjhlYzAzMDVkMTljZWIwOSk7CgogICAgICAgICAgICAKICAgICAgICAKICAgIAogICAgICAgICAgICB2YXIgY2lyY2xlX21hcmtlcl84NmZhYTYxZGIwMTc0Mzk5YTdiNTU0ODA1N2M3MDkyNCA9IEwuY2lyY2xlTWFya2VyKAogICAgICAgICAgICAgICAgWy0yMy41MjAyMzE1LC00Ni41OTYwMzM5XSwKICAgICAgICAgICAgICAgIHsKICAiYnViYmxpbmdNb3VzZUV2ZW50cyI6IHRydWUsCiAgImNvbG9yIjogImJsdWUiLAogICJkYXNoQXJyYXkiOiBudWxsLAogICJkYXNoT2Zmc2V0IjogbnVsbCwKICAiZmlsbCI6IHRydWUsCiAgImZpbGxDb2xvciI6ICIjMzE4NmNjIiwKICAiZmlsbE9wYWNpdHkiOiAwLjcsCiAgImZpbGxSdWxlIjogImV2ZW5vZGQiLAogICJsaW5lQ2FwIjogInJvdW5kIiwKICAibGluZUpvaW4iOiAicm91bmQiLAogICJvcGFjaXR5IjogMS4wLAogICJyYWRpdXMiOiA1LAogICJzdHJva2UiOiB0cnVlLAogICJ3ZWlnaHQiOiAzCn0KICAgICAgICAgICAgICAgICkuYWRkVG8obWFwXzRkOGEwZWI2OWU3NjQyY2E5NjAwNmY3ZDU4YTI0M2NjKTsKICAgICAgICAgICAgCiAgICAKICAgICAgICAgICAgdmFyIHBvcHVwX2Y4NDk3MTI2MWQwZjQ1ZjI5ZWFhMDMzODQyZWQ0ZWQ5ID0gTC5wb3B1cCh7bWF4V2lkdGg6ICczMDAnfSk7CgogICAgICAgICAgICAKICAgICAgICAgICAgICAgIHZhciBodG1sXzY1MjkyZjQwMGRhMjRlZDA5YmExMGI3OTExYjFhNTY1ID0gJCgnPGRpdiBpZD0iaHRtbF82NTI5MmY0MDBkYTI0ZWQwOWJhMTBiNzkxMWIxYTU2NSIgc3R5bGU9IndpZHRoOiAxMDAuMCU7IGhlaWdodDogMTAwLjAlOyI+VmlsYSBNYXJpYS1WaWxhIEd1aWxoZXJtZTwvZGl2PicpWzBdOwogICAgICAgICAgICAgICAgcG9wdXBfZjg0OTcxMjYxZDBmNDVmMjllYWEwMzM4NDJlZDRlZDkuc2V0Q29udGVudChodG1sXzY1MjkyZjQwMGRhMjRlZDA5YmExMGI3OTExYjFhNTY1KTsKICAgICAgICAgICAgCgogICAgICAgICAgICBjaXJjbGVfbWFya2VyXzg2ZmFhNjFkYjAxNzQzOTlhN2I1NTQ4MDU3YzcwOTI0LmJpbmRQb3B1cChwb3B1cF9mODQ5NzEyNjFkMGY0NWYyOWVhYTAzMzg0MmVkNGVkOSk7CgogICAgICAgICAgICAKICAgICAgICAKICAgIAogICAgICAgICAgICB2YXIgY2lyY2xlX21hcmtlcl8xMzA3OGU5ZWU2MGY0ZmYzYThhNmYyZGU4ZWFkOWQ0MiA9IEwuY2lyY2xlTWFya2VyKAogICAgICAgICAgICAgICAgWy0yMy41ODM3LC00Ni42MzI3NDA4MjQyMDY5XSwKICAgICAgICAgICAgICAgIHsKICAiYnViYmxpbmdNb3VzZUV2ZW50cyI6IHRydWUsCiAgImNvbG9yIjogImJsdWUiLAogICJkYXNoQXJyYXkiOiBudWxsLAogICJkYXNoT2Zmc2V0IjogbnVsbCwKICAiZmlsbCI6IHRydWUsCiAgImZpbGxDb2xvciI6ICIjMzE4NmNjIiwKICAiZmlsbE9wYWNpdHkiOiAwLjcsCiAgImZpbGxSdWxlIjogImV2ZW5vZGQiLAogICJsaW5lQ2FwIjogInJvdW5kIiwKICAibGluZUpvaW4iOiAicm91bmQiLAogICJvcGFjaXR5IjogMS4wLAogICJyYWRpdXMiOiA1LAogICJzdHJva2UiOiB0cnVlLAogICJ3ZWlnaHQiOiAzCn0KICAgICAgICAgICAgICAgICkuYWRkVG8obWFwXzRkOGEwZWI2OWU3NjQyY2E5NjAwNmY3ZDU4YTI0M2NjKTsKICAgICAgICAgICAgCiAgICAKICAgICAgICAgICAgdmFyIHBvcHVwXzYxZDk1NjdlY2ZlMDRlMzhiNDExNmNmYjNiOGVmZTA0ID0gTC5wb3B1cCh7bWF4V2lkdGg6ICczMDAnfSk7CgogICAgICAgICAgICAKICAgICAgICAgICAgICAgIHZhciBodG1sXzVkZWNiZGZmNzZhYjQ2NjNiZmQyMWQ1MWNiYzQwNThhID0gJCgnPGRpdiBpZD0iaHRtbF81ZGVjYmRmZjc2YWI0NjYzYmZkMjFkNTFjYmM0MDU4YSIgc3R5bGU9IndpZHRoOiAxMDAuMCU7IGhlaWdodDogMTAwLjAlOyI+VmlsYSBNYXJpYW5hPC9kaXY+JylbMF07CiAgICAgICAgICAgICAgICBwb3B1cF82MWQ5NTY3ZWNmZTA0ZTM4YjQxMTZjZmIzYjhlZmUwNC5zZXRDb250ZW50KGh0bWxfNWRlY2JkZmY3NmFiNDY2M2JmZDIxZDUxY2JjNDA1OGEpOwogICAgICAgICAgICAKCiAgICAgICAgICAgIGNpcmNsZV9tYXJrZXJfMTMwNzhlOWVlNjBmNGZmM2E4YTZmMmRlOGVhZDlkNDIuYmluZFBvcHVwKHBvcHVwXzYxZDk1NjdlY2ZlMDRlMzhiNDExNmNmYjNiOGVmZTA0KTsKCiAgICAgICAgICAgIAogICAgICAgIAogICAgCiAgICAgICAgICAgIHZhciBjaXJjbGVfbWFya2VyX2I3NWE0MGVhZTdjMzRjMjNhNWJiMzczNGQyMTljZDIzID0gTC5jaXJjbGVNYXJrZXIoCiAgICAgICAgICAgICAgICBbLTIzLjU5MjMzNSwtNDYuNTc0OTYxNDE4MzUyXSwKICAgICAgICAgICAgICAgIHsKICAiYnViYmxpbmdNb3VzZUV2ZW50cyI6IHRydWUsCiAgImNvbG9yIjogImJsdWUiLAogICJkYXNoQXJyYXkiOiBudWxsLAogICJkYXNoT2Zmc2V0IjogbnVsbCwKICAiZmlsbCI6IHRydWUsCiAgImZpbGxDb2xvciI6ICIjMzE4NmNjIiwKICAiZmlsbE9wYWNpdHkiOiAwLjcsCiAgImZpbGxSdWxlIjogImV2ZW5vZGQiLAogICJsaW5lQ2FwIjogInJvdW5kIiwKICAibGluZUpvaW4iOiAicm91bmQiLAogICJvcGFjaXR5IjogMS4wLAogICJyYWRpdXMiOiA1LAogICJzdHJva2UiOiB0cnVlLAogICJ3ZWlnaHQiOiAzCn0KICAgICAgICAgICAgICAgICkuYWRkVG8obWFwXzRkOGEwZWI2OWU3NjQyY2E5NjAwNmY3ZDU4YTI0M2NjKTsKICAgICAgICAgICAgCiAgICAKICAgICAgICAgICAgdmFyIHBvcHVwX2Q5YjJiMzQ0NDJhNzRjNzY5ZThjODIxMmQxYzE3ZDkzID0gTC5wb3B1cCh7bWF4V2lkdGg6ICczMDAnfSk7CgogICAgICAgICAgICAKICAgICAgICAgICAgICAgIHZhciBodG1sXzAzNzg4ZDdhODgxMzQ3NDU5ZDIyNmE2ZTY5NTljYWQ5ID0gJCgnPGRpdiBpZD0iaHRtbF8wMzc4OGQ3YTg4MTM0NzQ1OWQyMjZhNmU2OTU5Y2FkOSIgc3R5bGU9IndpZHRoOiAxMDAuMCU7IGhlaWdodDogMTAwLjAlOyI+VmlsYSBQcnVkZW50ZTwvZGl2PicpWzBdOwogICAgICAgICAgICAgICAgcG9wdXBfZDliMmIzNDQ0MmE3NGM3NjllOGM4MjEyZDFjMTdkOTMuc2V0Q29udGVudChodG1sXzAzNzg4ZDdhODgxMzQ3NDU5ZDIyNmE2ZTY5NTljYWQ5KTsKICAgICAgICAgICAgCgogICAgICAgICAgICBjaXJjbGVfbWFya2VyX2I3NWE0MGVhZTdjMzRjMjNhNWJiMzczNGQyMTljZDIzLmJpbmRQb3B1cChwb3B1cF9kOWIyYjM0NDQyYTc0Yzc2OWU4YzgyMTJkMWMxN2Q5Myk7CgogICAgICAgICAgICAKICAgICAgICAKICAgIAogICAgICAgICAgICB2YXIgY2lyY2xlX21hcmtlcl9hMjBjYzBmMTJkYzM0NzU4OGI3NDcwZTI4ZjIxNzU0NyA9IEwuY2lyY2xlTWFya2VyKAogICAgICAgICAgICAgICAgWy0yMy41NDg3MzMzOTM3Njg3NCwtNDYuNjM0NzYzNDc5MjMyNzhdLAogICAgICAgICAgICAgICAgewogICJidWJibGluZ01vdXNlRXZlbnRzIjogdHJ1ZSwKICAiY29sb3IiOiAiYmx1ZSIsCiAgImRhc2hBcnJheSI6IG51bGwsCiAgImRhc2hPZmZzZXQiOiBudWxsLAogICJmaWxsIjogdHJ1ZSwKICAiZmlsbENvbG9yIjogIiMzMTg2Y2MiLAogICJmaWxsT3BhY2l0eSI6IDAuNywKICAiZmlsbFJ1bGUiOiAiZXZlbm9kZCIsCiAgImxpbmVDYXAiOiAicm91bmQiLAogICJsaW5lSm9pbiI6ICJyb3VuZCIsCiAgIm9wYWNpdHkiOiAxLjAsCiAgInJhZGl1cyI6IDUsCiAgInN0cm9rZSI6IHRydWUsCiAgIndlaWdodCI6IDMKfQogICAgICAgICAgICAgICAgKS5hZGRUbyhtYXBfNGQ4YTBlYjY5ZTc2NDJjYTk2MDA2ZjdkNThhMjQzY2MpOwogICAgICAgICAgICAKICAgIAogICAgICAgICAgICB2YXIgcG9wdXBfMWE4N2RlY2Y5NzRlNDgzOTgwZTgwNDk1MDIzNzdmMGUgPSBMLnBvcHVwKHttYXhXaWR0aDogJzMwMCd9KTsKCiAgICAgICAgICAgIAogICAgICAgICAgICAgICAgdmFyIGh0bWxfOTAwYjhjZmQxZDBhNDYzZjkxNjhlZWU0NDM3NjMwMjIgPSAkKCc8ZGl2IGlkPSJodG1sXzkwMGI4Y2ZkMWQwYTQ2M2Y5MTY4ZWVlNDQzNzYzMDIyIiBzdHlsZT0id2lkdGg6IDEwMC4wJTsgaGVpZ2h0OiAxMDAuMCU7Ij5DYXNhIGRlIEZyYW5jaXNjYSwgTXVzaWMgVmVudWU8L2Rpdj4nKVswXTsKICAgICAgICAgICAgICAgIHBvcHVwXzFhODdkZWNmOTc0ZTQ4Mzk4MGU4MDQ5NTAyMzc3ZjBlLnNldENvbnRlbnQoaHRtbF85MDBiOGNmZDFkMGE0NjNmOTE2OGVlZTQ0Mzc2MzAyMik7CiAgICAgICAgICAgIAoKICAgICAgICAgICAgY2lyY2xlX21hcmtlcl9hMjBjYzBmMTJkYzM0NzU4OGI3NDcwZTI4ZjIxNzU0Ny5iaW5kUG9wdXAocG9wdXBfMWE4N2RlY2Y5NzRlNDgzOTgwZTgwNDk1MDIzNzdmMGUpOwoKICAgICAgICAgICAgCiAgICAgICAgCiAgICAKICAgICAgICAgICAgdmFyIGNpcmNsZV9tYXJrZXJfYjNmYjM4MDM0MmZkNGU4ZWFjYzY5OGJjYzg4ZTkwZTggPSBMLmNpcmNsZU1hcmtlcigKICAgICAgICAgICAgICAgIFstMjMuNTQ3NTg4MTkwMzk2MzU4LC00Ni42MzQ2ODMxMTc0NjcyXSwKICAgICAgICAgICAgICAgIHsKICAiYnViYmxpbmdNb3VzZUV2ZW50cyI6IHRydWUsCiAgImNvbG9yIjogImJsdWUiLAogICJkYXNoQXJyYXkiOiBudWxsLAogICJkYXNoT2Zmc2V0IjogbnVsbCwKICAiZmlsbCI6IHRydWUsCiAgImZpbGxDb2xvciI6ICIjMzE4NmNjIiwKICAiZmlsbE9wYWNpdHkiOiAwLjcsCiAgImZpbGxSdWxlIjogImV2ZW5vZGQiLAogICJsaW5lQ2FwIjogInJvdW5kIiwKICAibGluZUpvaW4iOiAicm91bmQiLAogICJvcGFjaXR5IjogMS4wLAogICJyYWRpdXMiOiA1LAogICJzdHJva2UiOiB0cnVlLAogICJ3ZWlnaHQiOiAzCn0KICAgICAgICAgICAgICAgICkuYWRkVG8obWFwXzRkOGEwZWI2OWU3NjQyY2E5NjAwNmY3ZDU4YTI0M2NjKTsKICAgICAgICAgICAgCiAgICAKICAgICAgICAgICAgdmFyIHBvcHVwXzEyMzIwZDY4ZmFmNzRkZDI4MDZlM2FkYmRhYWE3ZjQyID0gTC5wb3B1cCh7bWF4V2lkdGg6ICczMDAnfSk7CgogICAgICAgICAgICAKICAgICAgICAgICAgICAgIHZhciBodG1sX2QzMjQ3YzY2ZGVhYzRmMzg5NGY2NDM3NGU1NTZkODI2ID0gJCgnPGRpdiBpZD0iaHRtbF9kMzI0N2M2NmRlYWM0ZjM4OTRmNjQzNzRlNTU2ZDgyNiIgc3R5bGU9IndpZHRoOiAxMDAuMCU7IGhlaWdodDogMTAwLjAlOyI+Q2VudHJvIEN1bHR1cmFsIEJhbmNvIGRvIEJyYXNpbCAoQ0NCQiksIEN1bHR1cmFsIENlbnRlcjwvZGl2PicpWzBdOwogICAgICAgICAgICAgICAgcG9wdXBfMTIzMjBkNjhmYWY3NGRkMjgwNmUzYWRiZGFhYTdmNDIuc2V0Q29udGVudChodG1sX2QzMjQ3YzY2ZGVhYzRmMzg5NGY2NDM3NGU1NTZkODI2KTsKICAgICAgICAgICAgCgogICAgICAgICAgICBjaXJjbGVfbWFya2VyX2IzZmIzODAzNDJmZDRlOGVhY2M2OThiY2M4OGU5MGU4LmJpbmRQb3B1cChwb3B1cF8xMjMyMGQ2OGZhZjc0ZGQyODA2ZTNhZGJkYWFhN2Y0Mik7CgogICAgICAgICAgICAKICAgICAgICAKICAgIAogICAgICAgICAgICB2YXIgY2lyY2xlX21hcmtlcl9kYzU3MzYwMDgxYmU0OTFjYjNmNDkzYjQ0NWQ2MmEwZCA9IEwuY2lyY2xlTWFya2VyKAogICAgICAgICAgICAgICAgWy0yMy41NDc2NDQzNzAzNDEzMzgsLTQ2LjYzNDczMjY4MjY2NTE1XSwKICAgICAgICAgICAgICAgIHsKICAiYnViYmxpbmdNb3VzZUV2ZW50cyI6IHRydWUsCiAgImNvbG9yIjogImJsdWUiLAogICJkYXNoQXJyYXkiOiBudWxsLAogICJkYXNoT2Zmc2V0IjogbnVsbCwKICAiZmlsbCI6IHRydWUsCiAgImZpbGxDb2xvciI6ICIjMzE4NmNjIiwKICAiZmlsbE9wYWNpdHkiOiAwLjcsCiAgImZpbGxSdWxlIjogImV2ZW5vZGQiLAogICJsaW5lQ2FwIjogInJvdW5kIiwKICAibGluZUpvaW4iOiAicm91bmQiLAogICJvcGFjaXR5IjogMS4wLAogICJyYWRpdXMiOiA1LAogICJzdHJva2UiOiB0cnVlLAogICJ3ZWlnaHQiOiAzCn0KICAgICAgICAgICAgICAgICkuYWRkVG8obWFwXzRkOGEwZWI2OWU3NjQyY2E5NjAwNmY3ZDU4YTI0M2NjKTsKICAgICAgICAgICAgCiAgICAKICAgICAgICAgICAgdmFyIHBvcHVwXzRjMjI5ZDdjNTZlNzQ4Zjk4ZmNlNTA1MWNmZDkxNDJkID0gTC5wb3B1cCh7bWF4V2lkdGg6ICczMDAnfSk7CgogICAgICAgICAgICAKICAgICAgICAgICAgICAgIHZhciBodG1sX2U4M2U1ZmJiMDc2NDQyMWM4MDgxNzJiZjFjOGIwZDJjID0gJCgnPGRpdiBpZD0iaHRtbF9lODNlNWZiYjA3NjQ0MjFjODA4MTcyYmYxYzhiMGQyYyIgc3R5bGU9IndpZHRoOiAxMDAuMCU7IGhlaWdodDogMTAwLjAlOyI+VGVhdHJvIENDQkIsIFRoZWF0ZXI8L2Rpdj4nKVswXTsKICAgICAgICAgICAgICAgIHBvcHVwXzRjMjI5ZDdjNTZlNzQ4Zjk4ZmNlNTA1MWNmZDkxNDJkLnNldENvbnRlbnQoaHRtbF9lODNlNWZiYjA3NjQ0MjFjODA4MTcyYmYxYzhiMGQyYyk7CiAgICAgICAgICAgIAoKICAgICAgICAgICAgY2lyY2xlX21hcmtlcl9kYzU3MzYwMDgxYmU0OTFjYjNmNDkzYjQ0NWQ2MmEwZC5iaW5kUG9wdXAocG9wdXBfNGMyMjlkN2M1NmU3NDhmOThmY2U1MDUxY2ZkOTE0MmQpOwoKICAgICAgICAgICAgCiAgICAgICAgCiAgICAKICAgICAgICAgICAgdmFyIGNpcmNsZV9tYXJrZXJfYjJiODZlMzBhZTkwNDFlNzk5ZTE0YjFhNDU1Njk0NjQgPSBMLmNpcmNsZU1hcmtlcigKICAgICAgICAgICAgICAgIFstMjMuNTU0MTIwMzI2MzgwNzEsLTQ2LjYzODY5NDU0MTU3OTIzXSwKICAgICAgICAgICAgICAgIHsKICAiYnViYmxpbmdNb3VzZUV2ZW50cyI6IHRydWUsCiAgImNvbG9yIjogImJsdWUiLAogICJkYXNoQXJyYXkiOiBudWxsLAogICJkYXNoT2Zmc2V0IjogbnVsbCwKICAiZmlsbCI6IHRydWUsCiAgImZpbGxDb2xvciI6ICIjMzE4NmNjIiwKICAiZmlsbE9wYWNpdHkiOiAwLjcsCiAgImZpbGxSdWxlIjogImV2ZW5vZGQiLAogICJsaW5lQ2FwIjogInJvdW5kIiwKICAibGluZUpvaW4iOiAicm91bmQiLAogICJvcGFjaXR5IjogMS4wLAogICJyYWRpdXMiOiA1LAogICJzdHJva2UiOiB0cnVlLAogICJ3ZWlnaHQiOiAzCn0KICAgICAgICAgICAgICAgICkuYWRkVG8obWFwXzRkOGEwZWI2OWU3NjQyY2E5NjAwNmY3ZDU4YTI0M2NjKTsKICAgICAgICAgICAgCiAgICAKICAgICAgICAgICAgdmFyIHBvcHVwXzE4ZThlZmFiMjI0YTRjZjg4MjYwNjE1MzQ3NjRjN2E4ID0gTC5wb3B1cCh7bWF4V2lkdGg6ICczMDAnfSk7CgogICAgICAgICAgICAKICAgICAgICAgICAgICAgIHZhciBodG1sXzExMmI1NTk2Y2NlNjQwMzFhZmIyY2YyZGFjZDIzM2I2ID0gJCgnPGRpdiBpZD0iaHRtbF8xMTJiNTU5NmNjZTY0MDMxYWZiMmNmMmRhY2QyMzNiNiIgc3R5bGU9IndpZHRoOiAxMDAuMCU7IGhlaWdodDogMTAwLjAlOyI+VGVhdHJvIFJlbmF1bHQsIFRoZWF0ZXI8L2Rpdj4nKVswXTsKICAgICAgICAgICAgICAgIHBvcHVwXzE4ZThlZmFiMjI0YTRjZjg4MjYwNjE1MzQ3NjRjN2E4LnNldENvbnRlbnQoaHRtbF8xMTJiNTU5NmNjZTY0MDMxYWZiMmNmMmRhY2QyMzNiNik7CiAgICAgICAgICAgIAoKICAgICAgICAgICAgY2lyY2xlX21hcmtlcl9iMmI4NmUzMGFlOTA0MWU3OTllMTRiMWE0NTU2OTQ2NC5iaW5kUG9wdXAocG9wdXBfMThlOGVmYWIyMjRhNGNmODgyNjA2MTUzNDc2NGM3YTgpOwoKICAgICAgICAgICAgCiAgICAgICAgCiAgICAKICAgICAgICAgICAgdmFyIGNpcmNsZV9tYXJrZXJfYjdjMDc4MTQzNTEwNGY3MTg2YTFkZmNhNGU0ZTU4NmUgPSBMLmNpcmNsZU1hcmtlcigKICAgICAgICAgICAgICAgIFstMjMuNTU0MjUzNDI0MzUxOTU1LC00Ni42MzgxMjQwMDU2MjgxNl0sCiAgICAgICAgICAgICAgICB7CiAgImJ1YmJsaW5nTW91c2VFdmVudHMiOiB0cnVlLAogICJjb2xvciI6ICJibHVlIiwKICAiZGFzaEFycmF5IjogbnVsbCwKICAiZGFzaE9mZnNldCI6IG51bGwsCiAgImZpbGwiOiB0cnVlLAogICJmaWxsQ29sb3IiOiAiIzMxODZjYyIsCiAgImZpbGxPcGFjaXR5IjogMC43LAogICJmaWxsUnVsZSI6ICJldmVub2RkIiwKICAibGluZUNhcCI6ICJyb3VuZCIsCiAgImxpbmVKb2luIjogInJvdW5kIiwKICAib3BhY2l0eSI6IDEuMCwKICAicmFkaXVzIjogNSwKICAic3Ryb2tlIjogdHJ1ZSwKICAid2VpZ2h0IjogMwp9CiAgICAgICAgICAgICAgICApLmFkZFRvKG1hcF80ZDhhMGViNjllNzY0MmNhOTYwMDZmN2Q1OGEyNDNjYyk7CiAgICAgICAgICAgIAogICAgCiAgICAgICAgICAgIHZhciBwb3B1cF9kNWU4M2JiMGE1YTA0ODY1OWU2ZGVkYmY1MjQ0NjgxNiA9IEwucG9wdXAoe21heFdpZHRoOiAnMzAwJ30pOwoKICAgICAgICAgICAgCiAgICAgICAgICAgICAgICB2YXIgaHRtbF9lMzNlM2FhNGE0NGI0NDQ1OTFjNGNmMmIzY2MxMzI2NiA9ICQoJzxkaXYgaWQ9Imh0bWxfZTMzZTNhYTRhNDRiNDQ0NTkxYzRjZjJiM2NjMTMyNjYiIHN0eWxlPSJ3aWR0aDogMTAwLjAlOyBoZWlnaHQ6IDEwMC4wJTsiPk8gRmFudGFzbWEgRGEgT3BlcmEsIFRoZWF0ZXI8L2Rpdj4nKVswXTsKICAgICAgICAgICAgICAgIHBvcHVwX2Q1ZTgzYmIwYTVhMDQ4NjU5ZTZkZWRiZjUyNDQ2ODE2LnNldENvbnRlbnQoaHRtbF9lMzNlM2FhNGE0NGI0NDQ1OTFjNGNmMmIzY2MxMzI2Nik7CiAgICAgICAgICAgIAoKICAgICAgICAgICAgY2lyY2xlX21hcmtlcl9iN2MwNzgxNDM1MTA0ZjcxODZhMWRmY2E0ZTRlNTg2ZS5iaW5kUG9wdXAocG9wdXBfZDVlODNiYjBhNWEwNDg2NTllNmRlZGJmNTI0NDY4MTYpOwoKICAgICAgICAgICAgCiAgICAgICAgCiAgICAKICAgICAgICAgICAgdmFyIGNpcmNsZV9tYXJrZXJfMzEwYWEzN2VjZmU5NDkwY2IyYTE1ZmJiM2I0NjdkNmYgPSBMLmNpcmNsZU1hcmtlcigKICAgICAgICAgICAgICAgIFstMjMuNTU1MjYyMDIyNTc4ODczLC00Ni42MzUzMjU0ODIzODgwN10sCiAgICAgICAgICAgICAgICB7CiAgImJ1YmJsaW5nTW91c2VFdmVudHMiOiB0cnVlLAogICJjb2xvciI6ICJibHVlIiwKICAiZGFzaEFycmF5IjogbnVsbCwKICAiZGFzaE9mZnNldCI6IG51bGwsCiAgImZpbGwiOiB0cnVlLAogICJmaWxsQ29sb3IiOiAiIzMxODZjYyIsCiAgImZpbGxPcGFjaXR5IjogMC43LAogICJmaWxsUnVsZSI6ICJldmVub2RkIiwKICAibGluZUNhcCI6ICJyb3VuZCIsCiAgImxpbmVKb2luIjogInJvdW5kIiwKICAib3BhY2l0eSI6IDEuMCwKICAicmFkaXVzIjogNSwKICAic3Ryb2tlIjogdHJ1ZSwKICAid2VpZ2h0IjogMwp9CiAgICAgICAgICAgICAgICApLmFkZFRvKG1hcF80ZDhhMGViNjllNzY0MmNhOTYwMDZmN2Q1OGEyNDNjYyk7CiAgICAgICAgICAgIAogICAgCiAgICAgICAgICAgIHZhciBwb3B1cF8yNGVlNGI3MWM3ZDM0ZjliYWY0MjhhNGRjMGIyNGY3MCA9IEwucG9wdXAoe21heFdpZHRoOiAnMzAwJ30pOwoKICAgICAgICAgICAgCiAgICAgICAgICAgICAgICB2YXIgaHRtbF82NjhmM2MyNjdmOTE0ODJjOGY1MTNiNjdmMzAxZjU5ZSA9ICQoJzxkaXYgaWQ9Imh0bWxfNjY4ZjNjMjY3ZjkxNDgyYzhmNTEzYjY3ZjMwMWY1OWUiIHN0eWxlPSJ3aWR0aDogMTAwLjAlOyBoZWlnaHQ6IDEwMC4wJTsiPlByYcOnYSBkYSBMaWJlcmRhZGUsIFBsYXphPC9kaXY+JylbMF07CiAgICAgICAgICAgICAgICBwb3B1cF8yNGVlNGI3MWM3ZDM0ZjliYWY0MjhhNGRjMGIyNGY3MC5zZXRDb250ZW50KGh0bWxfNjY4ZjNjMjY3ZjkxNDgyYzhmNTEzYjY3ZjMwMWY1OWUpOwogICAgICAgICAgICAKCiAgICAgICAgICAgIGNpcmNsZV9tYXJrZXJfMzEwYWEzN2VjZmU5NDkwY2IyYTE1ZmJiM2I0NjdkNmYuYmluZFBvcHVwKHBvcHVwXzI0ZWU0YjcxYzdkMzRmOWJhZjQyOGE0ZGMwYjI0ZjcwKTsKCiAgICAgICAgICAgIAogICAgICAgIAogICAgCiAgICAgICAgICAgIHZhciBjaXJjbGVfbWFya2VyX2U1OGY4M2ZmNzU5YjRlMGI5OTE0NGZjYzk3NTc1YmJhID0gTC5jaXJjbGVNYXJrZXIoCiAgICAgICAgICAgICAgICBbLTIzLjU0NTQ3Njk0MzQxNjMwOCwtNDYuNjM4ODEyNDY5MTkwNDRdLAogICAgICAgICAgICAgICAgewogICJidWJibGluZ01vdXNlRXZlbnRzIjogdHJ1ZSwKICAiY29sb3IiOiAiYmx1ZSIsCiAgImRhc2hBcnJheSI6IG51bGwsCiAgImRhc2hPZmZzZXQiOiBudWxsLAogICJmaWxsIjogdHJ1ZSwKICAiZmlsbENvbG9yIjogIiMzMTg2Y2MiLAogICJmaWxsT3BhY2l0eSI6IDAuNywKICAiZmlsbFJ1bGUiOiAiZXZlbm9kZCIsCiAgImxpbmVDYXAiOiAicm91bmQiLAogICJsaW5lSm9pbiI6ICJyb3VuZCIsCiAgIm9wYWNpdHkiOiAxLjAsCiAgInJhZGl1cyI6IDUsCiAgInN0cm9rZSI6IHRydWUsCiAgIndlaWdodCI6IDMKfQogICAgICAgICAgICAgICAgKS5hZGRUbyhtYXBfNGQ4YTBlYjY5ZTc2NDJjYTk2MDA2ZjdkNThhMjQzY2MpOwogICAgICAgICAgICAKICAgIAogICAgICAgICAgICB2YXIgcG9wdXBfOTkxNGE1YTMzMzM3NGU3Yjk1ODdjY2NlNWJiMGNiMWQgPSBMLnBvcHVwKHttYXhXaWR0aDogJzMwMCd9KTsKCiAgICAgICAgICAgIAogICAgICAgICAgICAgICAgdmFyIGh0bWxfMWRiMmExZDkwMTE4NDJmNWIyNzFjZjZhY2IzOGEwMGEgPSAkKCc8ZGl2IGlkPSJodG1sXzFkYjJhMWQ5MDExODQyZjViMjcxY2Y2YWNiMzhhMDBhIiBzdHlsZT0id2lkdGg6IDEwMC4wJTsgaGVpZ2h0OiAxMDAuMCU7Ij5UaGVhdHJvIE11bmljaXBhbCBkZSBTw6NvIFBhdWxvLCBUaGVhdGVyPC9kaXY+JylbMF07CiAgICAgICAgICAgICAgICBwb3B1cF85OTE0YTVhMzMzMzc0ZTdiOTU4N2NjY2U1YmIwY2IxZC5zZXRDb250ZW50KGh0bWxfMWRiMmExZDkwMTE4NDJmNWIyNzFjZjZhY2IzOGEwMGEpOwogICAgICAgICAgICAKCiAgICAgICAgICAgIGNpcmNsZV9tYXJrZXJfZTU4ZjgzZmY3NTliNGUwYjk5MTQ0ZmNjOTc1NzViYmEuYmluZFBvcHVwKHBvcHVwXzk5MTRhNWEzMzMzNzRlN2I5NTg3Y2NjZTViYjBjYjFkKTsKCiAgICAgICAgICAgIAogICAgICAgIAogICAgCiAgICAgICAgICAgIHZhciBjaXJjbGVfbWFya2VyXzU5ODRlMTllMDYxNDQwYzZiYjcyOTc1OTRhOTVmZDk5ID0gTC5jaXJjbGVNYXJrZXIoCiAgICAgICAgICAgICAgICBbLTIzLjU0NDM2NTQxNzk5NjMxNCwtNDYuNjI3NDMzNTQwOTEwMzc0XSwKICAgICAgICAgICAgICAgIHsKICAiYnViYmxpbmdNb3VzZUV2ZW50cyI6IHRydWUsCiAgImNvbG9yIjogImJsdWUiLAogICJkYXNoQXJyYXkiOiBudWxsLAogICJkYXNoT2Zmc2V0IjogbnVsbCwKICAiZmlsbCI6IHRydWUsCiAgImZpbGxDb2xvciI6ICIjMzE4NmNjIiwKICAiZmlsbE9wYWNpdHkiOiAwLjcsCiAgImZpbGxSdWxlIjogImV2ZW5vZGQiLAogICJsaW5lQ2FwIjogInJvdW5kIiwKICAibGluZUpvaW4iOiAicm91bmQiLAogICJvcGFjaXR5IjogMS4wLAogICJyYWRpdXMiOiA1LAogICJzdHJva2UiOiB0cnVlLAogICJ3ZWlnaHQiOiAzCn0KICAgICAgICAgICAgICAgICkuYWRkVG8obWFwXzRkOGEwZWI2OWU3NjQyY2E5NjAwNmY3ZDU4YTI0M2NjKTsKICAgICAgICAgICAgCiAgICAKICAgICAgICAgICAgdmFyIHBvcHVwXzBkMjhmNjM0NjI5ODQzMmY5YjExODk5NjdkMDYxYzkyID0gTC5wb3B1cCh7bWF4V2lkdGg6ICczMDAnfSk7CgogICAgICAgICAgICAKICAgICAgICAgICAgICAgIHZhciBodG1sX2EzNzIyMDU2YWM1MTQ2MzY5MmZjYTQ1MGNiOWU2MWQ3ID0gJCgnPGRpdiBpZD0iaHRtbF9hMzcyMjA1NmFjNTE0NjM2OTJmY2E0NTBjYjllNjFkNyIgc3R5bGU9IndpZHRoOiAxMDAuMCU7IGhlaWdodDogMTAwLjAlOyI+Q2F0YXZlbnRvIEN1bHR1cmFsIGUgRWR1Y2FjaW9uYWwsIEN1bHR1cmFsIENlbnRlcjwvZGl2PicpWzBdOwogICAgICAgICAgICAgICAgcG9wdXBfMGQyOGY2MzQ2Mjk4NDMyZjliMTE4OTk2N2QwNjFjOTIuc2V0Q29udGVudChodG1sX2EzNzIyMDU2YWM1MTQ2MzY5MmZjYTQ1MGNiOWU2MWQ3KTsKICAgICAgICAgICAgCgogICAgICAgICAgICBjaXJjbGVfbWFya2VyXzU5ODRlMTllMDYxNDQwYzZiYjcyOTc1OTRhOTVmZDk5LmJpbmRQb3B1cChwb3B1cF8wZDI4ZjYzNDYyOTg0MzJmOWIxMTg5OTY3ZDA2MWM5Mik7CgogICAgICAgICAgICAKICAgICAgICAKICAgIAogICAgICAgICAgICB2YXIgY2lyY2xlX21hcmtlcl9hZWYyNWE5YzFmZjU0ZTYyOGQ3NGNjNTNmNGZmYjljOCA9IEwuY2lyY2xlTWFya2VyKAogICAgICAgICAgICAgICAgWy0yMy41NTMxNTI2OTg4NDk4MTQsLTQ2LjY0Mjg5MDE5Njg2OF0sCiAgICAgICAgICAgICAgICB7CiAgImJ1YmJsaW5nTW91c2VFdmVudHMiOiB0cnVlLAogICJjb2xvciI6ICJibHVlIiwKICAiZGFzaEFycmF5IjogbnVsbCwKICAiZGFzaE9mZnNldCI6IG51bGwsCiAgImZpbGwiOiB0cnVlLAogICJmaWxsQ29sb3IiOiAiIzMxODZjYyIsCiAgImZpbGxPcGFjaXR5IjogMC43LAogICJmaWxsUnVsZSI6ICJldmVub2RkIiwKICAibGluZUNhcCI6ICJyb3VuZCIsCiAgImxpbmVKb2luIjogInJvdW5kIiwKICAib3BhY2l0eSI6IDEuMCwKICAicmFkaXVzIjogNSwKICAic3Ryb2tlIjogdHJ1ZSwKICAid2VpZ2h0IjogMwp9CiAgICAgICAgICAgICAgICApLmFkZFRvKG1hcF80ZDhhMGViNjllNzY0MmNhOTYwMDZmN2Q1OGEyNDNjYyk7CiAgICAgICAgICAgIAogICAgCiAgICAgICAgICAgIHZhciBwb3B1cF85ZmM1NTI4ZjM0Mjk0YzI0YTI3YzgyZDk5NzIyZTUxMyA9IEwucG9wdXAoe21heFdpZHRoOiAnMzAwJ30pOwoKICAgICAgICAgICAgCiAgICAgICAgICAgICAgICB2YXIgaHRtbF9hMjZjZDhmZTgwMGI0NDMxODJhZTExOTk1MzYyNmQyZSA9ICQoJzxkaXYgaWQ9Imh0bWxfYTI2Y2Q4ZmU4MDBiNDQzMTgyYWUxMTk5NTM2MjZkMmUiIHN0eWxlPSJ3aWR0aDogMTAwLjAlOyBoZWlnaHQ6IDEwMC4wJTsiPkVzcGHDp28gWmVicmEsIEFydCBHYWxsZXJ5PC9kaXY+JylbMF07CiAgICAgICAgICAgICAgICBwb3B1cF85ZmM1NTI4ZjM0Mjk0YzI0YTI3YzgyZDk5NzIyZTUxMy5zZXRDb250ZW50KGh0bWxfYTI2Y2Q4ZmU4MDBiNDQzMTgyYWUxMTk5NTM2MjZkMmUpOwogICAgICAgICAgICAKCiAgICAgICAgICAgIGNpcmNsZV9tYXJrZXJfYWVmMjVhOWMxZmY1NGU2MjhkNzRjYzUzZjRmZmI5YzguYmluZFBvcHVwKHBvcHVwXzlmYzU1MjhmMzQyOTRjMjRhMjdjODJkOTk3MjJlNTEzKTsKCiAgICAgICAgICAgIAogICAgICAgIAogICAgCiAgICAgICAgICAgIHZhciBjaXJjbGVfbWFya2VyX2ViMTA0MDYzYjNiZjQ4NGJhNTUzMTkzY2M4Yzc3MDU4ID0gTC5jaXJjbGVNYXJrZXIoCiAgICAgICAgICAgICAgICBbLTIzLjUzNDYzNzc1NDI2NjU0LC00Ni42MzM4Njk1MDE5Mjg3M10sCiAgICAgICAgICAgICAgICB7CiAgImJ1YmJsaW5nTW91c2VFdmVudHMiOiB0cnVlLAogICJjb2xvciI6ICJibHVlIiwKICAiZGFzaEFycmF5IjogbnVsbCwKICAiZGFzaE9mZnNldCI6IG51bGwsCiAgImZpbGwiOiB0cnVlLAogICJmaWxsQ29sb3IiOiAiIzMxODZjYyIsCiAgImZpbGxPcGFjaXR5IjogMC43LAogICJmaWxsUnVsZSI6ICJldmVub2RkIiwKICAibGluZUNhcCI6ICJyb3VuZCIsCiAgImxpbmVKb2luIjogInJvdW5kIiwKICAib3BhY2l0eSI6IDEuMCwKICAicmFkaXVzIjogNSwKICAic3Ryb2tlIjogdHJ1ZSwKICAid2VpZ2h0IjogMwp9CiAgICAgICAgICAgICAgICApLmFkZFRvKG1hcF80ZDhhMGViNjllNzY0MmNhOTYwMDZmN2Q1OGEyNDNjYyk7CiAgICAgICAgICAgIAogICAgCiAgICAgICAgICAgIHZhciBwb3B1cF8wMTM1MGYxNjNjMjY0ZDgyYjVjODkyNTdjMDhkNzE0ZSA9IEwucG9wdXAoe21heFdpZHRoOiAnMzAwJ30pOwoKICAgICAgICAgICAgCiAgICAgICAgICAgICAgICB2YXIgaHRtbF8zNGYwNDg1ZDcyYTU0MzNkYTBiOGJjMDhjNDM1OTM5ZSA9ICQoJzxkaXYgaWQ9Imh0bWxfMzRmMDQ4NWQ3MmE1NDMzZGEwYjhiYzA4YzQzNTkzOWUiIHN0eWxlPSJ3aWR0aDogMTAwLjAlOyBoZWlnaHQ6IDEwMC4wJTsiPlBpbmFjb3RlY2EgZG8gRXN0YWRvIGRlIFPDo28gUGF1bG8sIEFydCBNdXNldW08L2Rpdj4nKVswXTsKICAgICAgICAgICAgICAgIHBvcHVwXzAxMzUwZjE2M2MyNjRkODJiNWM4OTI1N2MwOGQ3MTRlLnNldENvbnRlbnQoaHRtbF8zNGYwNDg1ZDcyYTU0MzNkYTBiOGJjMDhjNDM1OTM5ZSk7CiAgICAgICAgICAgIAoKICAgICAgICAgICAgY2lyY2xlX21hcmtlcl9lYjEwNDA2M2IzYmY0ODRiYTU1MzE5M2NjOGM3NzA1OC5iaW5kUG9wdXAocG9wdXBfMDEzNTBmMTYzYzI2NGQ4MmI1Yzg5MjU3YzA4ZDcxNGUpOwoKICAgICAgICAgICAgCiAgICAgICAgCiAgICAKICAgICAgICAgICAgdmFyIGNpcmNsZV9tYXJrZXJfYzc2YTQ5OTA1YjZiNGVlMzkyNmIzODAyYWQyZTNlNDEgPSBMLmNpcmNsZU1hcmtlcigKICAgICAgICAgICAgICAgIFstMjMuNTM0MzAzMDQ4NzQ0OTksLTQ2LjYzOTk1NzU3MzQyMTE2NF0sCiAgICAgICAgICAgICAgICB7CiAgImJ1YmJsaW5nTW91c2VFdmVudHMiOiB0cnVlLAogICJjb2xvciI6ICJibHVlIiwKICAiZGFzaEFycmF5IjogbnVsbCwKICAiZGFzaE9mZnNldCI6IG51bGwsCiAgImZpbGwiOiB0cnVlLAogICJmaWxsQ29sb3IiOiAiIzMxODZjYyIsCiAgImZpbGxPcGFjaXR5IjogMC43LAogICJmaWxsUnVsZSI6ICJldmVub2RkIiwKICAibGluZUNhcCI6ICJyb3VuZCIsCiAgImxpbmVKb2luIjogInJvdW5kIiwKICAib3BhY2l0eSI6IDEuMCwKICAicmFkaXVzIjogNSwKICAic3Ryb2tlIjogdHJ1ZSwKICAid2VpZ2h0IjogMwp9CiAgICAgICAgICAgICAgICApLmFkZFRvKG1hcF80ZDhhMGViNjllNzY0MmNhOTYwMDZmN2Q1OGEyNDNjYyk7CiAgICAgICAgICAgIAogICAgCiAgICAgICAgICAgIHZhciBwb3B1cF9mZmQzMmIzMjAxM2Y0NjU1YjNmNWYwNWY5NDEwZTE0NyA9IEwucG9wdXAoe21heFdpZHRoOiAnMzAwJ30pOwoKICAgICAgICAgICAgCiAgICAgICAgICAgICAgICB2YXIgaHRtbF9mOGRkN2EzNjNmMTI0ZTYzODRjYzYxNDM2NzlkMWQ2MSA9ICQoJzxkaXYgaWQ9Imh0bWxfZjhkZDdhMzYzZjEyNGU2Mzg0Y2M2MTQzNjc5ZDFkNjEiIHN0eWxlPSJ3aWR0aDogMTAwLjAlOyBoZWlnaHQ6IDEwMC4wJTsiPlNhbGEgU8OjbyBQYXVsbywgQ29uY2VydCBIYWxsPC9kaXY+JylbMF07CiAgICAgICAgICAgICAgICBwb3B1cF9mZmQzMmIzMjAxM2Y0NjU1YjNmNWYwNWY5NDEwZTE0Ny5zZXRDb250ZW50KGh0bWxfZjhkZDdhMzYzZjEyNGU2Mzg0Y2M2MTQzNjc5ZDFkNjEpOwogICAgICAgICAgICAKCiAgICAgICAgICAgIGNpcmNsZV9tYXJrZXJfYzc2YTQ5OTA1YjZiNGVlMzkyNmIzODAyYWQyZTNlNDEuYmluZFBvcHVwKHBvcHVwX2ZmZDMyYjMyMDEzZjQ2NTViM2Y1ZjA1Zjk0MTBlMTQ3KTsKCiAgICAgICAgICAgIAogICAgICAgIAogICAgCiAgICAgICAgICAgIHZhciBjaXJjbGVfbWFya2VyXzZmOTc2OTgxZDM5OTRiYjg4M2E5ZTQ4ZjM1ZjJmMTI1ID0gTC5jaXJjbGVNYXJrZXIoCiAgICAgICAgICAgICAgICBbLTIzLjU0OTM3MDg5ODc1MjUwMywtNDYuNjEzMTAwMDcyMzAwMzNdLAogICAgICAgICAgICAgICAgewogICJidWJibGluZ01vdXNlRXZlbnRzIjogdHJ1ZSwKICAiY29sb3IiOiAiYmx1ZSIsCiAgImRhc2hBcnJheSI6IG51bGwsCiAgImRhc2hPZmZzZXQiOiBudWxsLAogICJmaWxsIjogdHJ1ZSwKICAiZmlsbENvbG9yIjogIiMzMTg2Y2MiLAogICJmaWxsT3BhY2l0eSI6IDAuNywKICAiZmlsbFJ1bGUiOiAiZXZlbm9kZCIsCiAgImxpbmVDYXAiOiAicm91bmQiLAogICJsaW5lSm9pbiI6ICJyb3VuZCIsCiAgIm9wYWNpdHkiOiAxLjAsCiAgInJhZGl1cyI6IDUsCiAgInN0cm9rZSI6IHRydWUsCiAgIndlaWdodCI6IDMKfQogICAgICAgICAgICAgICAgKS5hZGRUbyhtYXBfNGQ4YTBlYjY5ZTc2NDJjYTk2MDA2ZjdkNThhMjQzY2MpOwogICAgICAgICAgICAKICAgIAogICAgICAgICAgICB2YXIgcG9wdXBfZGFmY2RiNjk0MWYxNGJjNTgzZWY3NWRmYzhjMWYwMDMgPSBMLnBvcHVwKHttYXhXaWR0aDogJzMwMCd9KTsKCiAgICAgICAgICAgIAogICAgICAgICAgICAgICAgdmFyIGh0bWxfMWNkYzRmYzE2ZWIxNGVlYTk0YTI2NGRhZTJmMGU2NGQgPSAkKCc8ZGl2IGlkPSJodG1sXzFjZGM0ZmMxNmViMTRlZWE5NGEyNjRkYWUyZjBlNjRkIiBzdHlsZT0id2lkdGg6IDEwMC4wJTsgaGVpZ2h0OiAxMDAuMCU7Ij5NdXNldSBkYSBJbWlncmHDp8OjbywgSGlzdG9yeSBNdXNldW08L2Rpdj4nKVswXTsKICAgICAgICAgICAgICAgIHBvcHVwX2RhZmNkYjY5NDFmMTRiYzU4M2VmNzVkZmM4YzFmMDAzLnNldENvbnRlbnQoaHRtbF8xY2RjNGZjMTZlYjE0ZWVhOTRhMjY0ZGFlMmYwZTY0ZCk7CiAgICAgICAgICAgIAoKICAgICAgICAgICAgY2lyY2xlX21hcmtlcl82Zjk3Njk4MWQzOTk0YmI4ODNhOWU0OGYzNWYyZjEyNS5iaW5kUG9wdXAocG9wdXBfZGFmY2RiNjk0MWYxNGJjNTgzZWY3NWRmYzhjMWYwMDMpOwoKICAgICAgICAgICAgCiAgICAgICAgCiAgICAKICAgICAgICAgICAgdmFyIGNpcmNsZV9tYXJrZXJfMTk0MDBmNWEzZTQ4NDc2MDg3MjNhNGM5YTVmMDQ2ZGIgPSBMLmNpcmNsZU1hcmtlcigKICAgICAgICAgICAgICAgIFstMjMuNTMwOTk2NDM4MDAxMDM2LC00Ni42NDMzNjY3NjIyNjg4OF0sCiAgICAgICAgICAgICAgICB7CiAgImJ1YmJsaW5nTW91c2VFdmVudHMiOiB0cnVlLAogICJjb2xvciI6ICJibHVlIiwKICAiZGFzaEFycmF5IjogbnVsbCwKICAiZGFzaE9mZnNldCI6IG51bGwsCiAgImZpbGwiOiB0cnVlLAogICJmaWxsQ29sb3IiOiAiIzMxODZjYyIsCiAgImZpbGxPcGFjaXR5IjogMC43LAogICJmaWxsUnVsZSI6ICJldmVub2RkIiwKICAibGluZUNhcCI6ICJyb3VuZCIsCiAgImxpbmVKb2luIjogInJvdW5kIiwKICAib3BhY2l0eSI6IDEuMCwKICAicmFkaXVzIjogNSwKICAic3Ryb2tlIjogdHJ1ZSwKICAid2VpZ2h0IjogMwp9CiAgICAgICAgICAgICAgICApLmFkZFRvKG1hcF80ZDhhMGViNjllNzY0MmNhOTYwMDZmN2Q1OGEyNDNjYyk7CiAgICAgICAgICAgIAogICAgCiAgICAgICAgICAgIHZhciBwb3B1cF9iNzRkNzg5YjEyNjg0NWQ4YmU1ZDI5ODBhNzc5MzMzZiA9IEwucG9wdXAoe21heFdpZHRoOiAnMzAwJ30pOwoKICAgICAgICAgICAgCiAgICAgICAgICAgICAgICB2YXIgaHRtbF9hMDU5NGM4NzAxYmU0ODZjYWViMDA3ZDA0Mzc2MDY0MyA9ICQoJzxkaXYgaWQ9Imh0bWxfYTA1OTRjODcwMWJlNDg2Y2FlYjAwN2QwNDM3NjA2NDMiIHN0eWxlPSJ3aWR0aDogMTAwLjAlOyBoZWlnaHQ6IDEwMC4wJTsiPlRlYXRybyBTRVNDIEJvbSBSZXRpcm8sIFRoZWF0ZXI8L2Rpdj4nKVswXTsKICAgICAgICAgICAgICAgIHBvcHVwX2I3NGQ3ODliMTI2ODQ1ZDhiZTVkMjk4MGE3NzkzMzNmLnNldENvbnRlbnQoaHRtbF9hMDU5NGM4NzAxYmU0ODZjYWViMDA3ZDA0Mzc2MDY0Myk7CiAgICAgICAgICAgIAoKICAgICAgICAgICAgY2lyY2xlX21hcmtlcl8xOTQwMGY1YTNlNDg0NzYwODcyM2E0YzlhNWYwNDZkYi5iaW5kUG9wdXAocG9wdXBfYjc0ZDc4OWIxMjY4NDVkOGJlNWQyOTgwYTc3OTMzM2YpOwoKICAgICAgICAgICAgCiAgICAgICAgCiAgICAKICAgICAgICAgICAgdmFyIGNpcmNsZV9tYXJrZXJfMTBmNzk0OGFiODRhNGE5OTk3Y2ExYzdjMjhmMmJhN2MgPSBMLmNpcmNsZU1hcmtlcigKICAgICAgICAgICAgICAgIFstMjMuNTMxMjM2NjA2NzUyNjkyLC00Ni42NDQ3ODU2NDcxNjY3XSwKICAgICAgICAgICAgICAgIHsKICAiYnViYmxpbmdNb3VzZUV2ZW50cyI6IHRydWUsCiAgImNvbG9yIjogImJsdWUiLAogICJkYXNoQXJyYXkiOiBudWxsLAogICJkYXNoT2Zmc2V0IjogbnVsbCwKICAiZmlsbCI6IHRydWUsCiAgImZpbGxDb2xvciI6ICIjMzE4NmNjIiwKICAiZmlsbE9wYWNpdHkiOiAwLjcsCiAgImZpbGxSdWxlIjogImV2ZW5vZGQiLAogICJsaW5lQ2FwIjogInJvdW5kIiwKICAibGluZUpvaW4iOiAicm91bmQiLAogICJvcGFjaXR5IjogMS4wLAogICJyYWRpdXMiOiA1LAogICJzdHJva2UiOiB0cnVlLAogICJ3ZWlnaHQiOiAzCn0KICAgICAgICAgICAgICAgICkuYWRkVG8obWFwXzRkOGEwZWI2OWU3NjQyY2E5NjAwNmY3ZDU4YTI0M2NjKTsKICAgICAgICAgICAgCiAgICAKICAgICAgICAgICAgdmFyIHBvcHVwXzYyOGZmNjUyYzRhYTQ4OGM5ZWVhZjgwYjEwYWJlMDExID0gTC5wb3B1cCh7bWF4V2lkdGg6ICczMDAnfSk7CgogICAgICAgICAgICAKICAgICAgICAgICAgICAgIHZhciBodG1sXzM2YzM2ODNlMjhhYzRjOTE4YzEzNjQ4ZDhkMWNhYjZmID0gJCgnPGRpdiBpZD0iaHRtbF8zNmMzNjgzZTI4YWM0YzkxOGMxMzY0OGQ4ZDFjYWI2ZiIgc3R5bGU9IndpZHRoOiAxMDAuMCU7IGhlaWdodDogMTAwLjAlOyI+RXNwYcOnbyBDdWx0dXJhbCBQb3J0byBTZWd1cm8sIEFydCBHYWxsZXJ5PC9kaXY+JylbMF07CiAgICAgICAgICAgICAgICBwb3B1cF82MjhmZjY1MmM0YWE0ODhjOWVlYWY4MGIxMGFiZTAxMS5zZXRDb250ZW50KGh0bWxfMzZjMzY4M2UyOGFjNGM5MThjMTM2NDhkOGQxY2FiNmYpOwogICAgICAgICAgICAKCiAgICAgICAgICAgIGNpcmNsZV9tYXJrZXJfMTBmNzk0OGFiODRhNGE5OTk3Y2ExYzdjMjhmMmJhN2MuYmluZFBvcHVwKHBvcHVwXzYyOGZmNjUyYzRhYTQ4OGM5ZWVhZjgwYjEwYWJlMDExKTsKCiAgICAgICAgICAgIAogICAgICAgIAogICAgCiAgICAgICAgICAgIHZhciBjaXJjbGVfbWFya2VyXzdkMGY2NWRlNzZmMjQyOGFhODc5NTA3MGYzODY1Y2E3ID0gTC5jaXJjbGVNYXJrZXIoCiAgICAgICAgICAgICAgICBbLTIzLjUzMDE4NjgyMzg3NDI1LC00Ni42NDU0NjI2OTY4ODE5N10sCiAgICAgICAgICAgICAgICB7CiAgImJ1YmJsaW5nTW91c2VFdmVudHMiOiB0cnVlLAogICJjb2xvciI6ICJibHVlIiwKICAiZGFzaEFycmF5IjogbnVsbCwKICAiZGFzaE9mZnNldCI6IG51bGwsCiAgImZpbGwiOiB0cnVlLAogICJmaWxsQ29sb3IiOiAiIzMxODZjYyIsCiAgImZpbGxPcGFjaXR5IjogMC43LAogICJmaWxsUnVsZSI6ICJldmVub2RkIiwKICAibGluZUNhcCI6ICJyb3VuZCIsCiAgImxpbmVKb2luIjogInJvdW5kIiwKICAib3BhY2l0eSI6IDEuMCwKICAicmFkaXVzIjogNSwKICAic3Ryb2tlIjogdHJ1ZSwKICAid2VpZ2h0IjogMwp9CiAgICAgICAgICAgICAgICApLmFkZFRvKG1hcF80ZDhhMGViNjllNzY0MmNhOTYwMDZmN2Q1OGEyNDNjYyk7CiAgICAgICAgICAgIAogICAgCiAgICAgICAgICAgIHZhciBwb3B1cF9mMmE5ZWZkMjlmMWI0NmQ4OTEwNTY0ODk0ZGZhZGQ1NSA9IEwucG9wdXAoe21heFdpZHRoOiAnMzAwJ30pOwoKICAgICAgICAgICAgCiAgICAgICAgICAgICAgICB2YXIgaHRtbF8xZGE1NDU3ZGNlY2Q0ODFiOTA0NGEwOTRjZTg5Mjg4ZCA9ICQoJzxkaXYgaWQ9Imh0bWxfMWRhNTQ1N2RjZWNkNDgxYjkwNDRhMDk0Y2U4OTI4OGQiIHN0eWxlPSJ3aWR0aDogMTAwLjAlOyBoZWlnaHQ6IDEwMC4wJTsiPlRlYXRybyBQb3J0byBTZWd1cm8sIFRoZWF0ZXI8L2Rpdj4nKVswXTsKICAgICAgICAgICAgICAgIHBvcHVwX2YyYTllZmQyOWYxYjQ2ZDg5MTA1NjQ4OTRkZmFkZDU1LnNldENvbnRlbnQoaHRtbF8xZGE1NDU3ZGNlY2Q0ODFiOTA0NGEwOTRjZTg5Mjg4ZCk7CiAgICAgICAgICAgIAoKICAgICAgICAgICAgY2lyY2xlX21hcmtlcl83ZDBmNjVkZTc2ZjI0MjhhYTg3OTUwNzBmMzg2NWNhNy5iaW5kUG9wdXAocG9wdXBfZjJhOWVmZDI5ZjFiNDZkODkxMDU2NDg5NGRmYWRkNTUpOwoKICAgICAgICAgICAgCiAgICAgICAgCiAgICAKICAgICAgICAgICAgdmFyIGNpcmNsZV9tYXJrZXJfNDUyY2E3ZWRkZGExNDcxN2I2OWRkNTlhNTU2OGQ3MmMgPSBMLmNpcmNsZU1hcmtlcigKICAgICAgICAgICAgICAgIFstMjMuNTcwNDE4MTIwMDUyOTk1LC00Ni42NDU4MzA1NDMzNzIzNl0sCiAgICAgICAgICAgICAgICB7CiAgImJ1YmJsaW5nTW91c2VFdmVudHMiOiB0cnVlLAogICJjb2xvciI6ICJibHVlIiwKICAiZGFzaEFycmF5IjogbnVsbCwKICAiZGFzaE9mZnNldCI6IG51bGwsCiAgImZpbGwiOiB0cnVlLAogICJmaWxsQ29sb3IiOiAiIzMxODZjYyIsCiAgImZpbGxPcGFjaXR5IjogMC43LAogICJmaWxsUnVsZSI6ICJldmVub2RkIiwKICAibGluZUNhcCI6ICJyb3VuZCIsCiAgImxpbmVKb2luIjogInJvdW5kIiwKICAib3BhY2l0eSI6IDEuMCwKICAicmFkaXVzIjogNSwKICAic3Ryb2tlIjogdHJ1ZSwKICAid2VpZ2h0IjogMwp9CiAgICAgICAgICAgICAgICApLmFkZFRvKG1hcF80ZDhhMGViNjllNzY0MmNhOTYwMDZmN2Q1OGEyNDNjYyk7CiAgICAgICAgICAgIAogICAgCiAgICAgICAgICAgIHZhciBwb3B1cF85NmMxM2U0YTI2MDQ0NDk1YWNkMmZkZDA2Nzc5ZDY0NiA9IEwucG9wdXAoe21heFdpZHRoOiAnMzAwJ30pOwoKICAgICAgICAgICAgCiAgICAgICAgICAgICAgICB2YXIgaHRtbF9mZTVmY2NjNTE1Y2Y0MGM5ODQyNzEzYjlmMDU5ZDgyZiA9ICQoJzxkaXYgaWQ9Imh0bWxfZmU1ZmNjYzUxNWNmNDBjOTg0MjcxM2I5ZjA1OWQ4MmYiIHN0eWxlPSJ3aWR0aDogMTAwLjAlOyBoZWlnaHQ6IDEwMC4wJTsiPkl0YcO6IEN1bHR1cmFsLCBDdWx0dXJhbCBDZW50ZXI8L2Rpdj4nKVswXTsKICAgICAgICAgICAgICAgIHBvcHVwXzk2YzEzZTRhMjYwNDQ0OTVhY2QyZmRkMDY3NzlkNjQ2LnNldENvbnRlbnQoaHRtbF9mZTVmY2NjNTE1Y2Y0MGM5ODQyNzEzYjlmMDU5ZDgyZik7CiAgICAgICAgICAgIAoKICAgICAgICAgICAgY2lyY2xlX21hcmtlcl80NTJjYTdlZGRkYTE0NzE3YjY5ZGQ1OWE1NTY4ZDcyYy5iaW5kUG9wdXAocG9wdXBfOTZjMTNlNGEyNjA0NDQ5NWFjZDJmZGQwNjc3OWQ2NDYpOwoKICAgICAgICAgICAgCiAgICAgICAgCiAgICAKICAgICAgICAgICAgdmFyIGNpcmNsZV9tYXJrZXJfODhlZjRjYjljMmY0NDA4ZWI0ODMyOGQ5N2U3OTBjMWMgPSBMLmNpcmNsZU1hcmtlcigKICAgICAgICAgICAgICAgIFstMjMuNTYxNTg0OTY3NjA2NjYsLTQ2LjY1NTgzMTUxODYyODUzXSwKICAgICAgICAgICAgICAgIHsKICAiYnViYmxpbmdNb3VzZUV2ZW50cyI6IHRydWUsCiAgImNvbG9yIjogImJsdWUiLAogICJkYXNoQXJyYXkiOiBudWxsLAogICJkYXNoT2Zmc2V0IjogbnVsbCwKICAiZmlsbCI6IHRydWUsCiAgImZpbGxDb2xvciI6ICIjMzE4NmNjIiwKICAiZmlsbE9wYWNpdHkiOiAwLjcsCiAgImZpbGxSdWxlIjogImV2ZW5vZGQiLAogICJsaW5lQ2FwIjogInJvdW5kIiwKICAibGluZUpvaW4iOiAicm91bmQiLAogICJvcGFjaXR5IjogMS4wLAogICJyYWRpdXMiOiA1LAogICJzdHJva2UiOiB0cnVlLAogICJ3ZWlnaHQiOiAzCn0KICAgICAgICAgICAgICAgICkuYWRkVG8obWFwXzRkOGEwZWI2OWU3NjQyY2E5NjAwNmY3ZDU4YTI0M2NjKTsKICAgICAgICAgICAgCiAgICAKICAgICAgICAgICAgdmFyIHBvcHVwX2FkZGNmYzZjMzBhMjQ2ZjVhZjgzNTU1OGVhNTZhYzE1ID0gTC5wb3B1cCh7bWF4V2lkdGg6ICczMDAnfSk7CgogICAgICAgICAgICAKICAgICAgICAgICAgICAgIHZhciBodG1sX2Q1Y2E4ZjA4Yzg5NjQzOThiMTU5MDgxMjIxYjRmODFmID0gJCgnPGRpdiBpZD0iaHRtbF9kNWNhOGYwOGM4OTY0Mzk4YjE1OTA4MTIyMWI0ZjgxZiIgc3R5bGU9IndpZHRoOiAxMDAuMCU7IGhlaWdodDogMTAwLjAlOyI+TXVzZXUgZGUgQXJ0ZSBkZSBTw6NvIFBhdWxvIChNQVNQKSwgQXJ0IE11c2V1bTwvZGl2PicpWzBdOwogICAgICAgICAgICAgICAgcG9wdXBfYWRkY2ZjNmMzMGEyNDZmNWFmODM1NTU4ZWE1NmFjMTUuc2V0Q29udGVudChodG1sX2Q1Y2E4ZjA4Yzg5NjQzOThiMTU5MDgxMjIxYjRmODFmKTsKICAgICAgICAgICAgCgogICAgICAgICAgICBjaXJjbGVfbWFya2VyXzg4ZWY0Y2I5YzJmNDQwOGViNDgzMjhkOTdlNzkwYzFjLmJpbmRQb3B1cChwb3B1cF9hZGRjZmM2YzMwYTI0NmY1YWY4MzU1NThlYTU2YWMxNSk7CgogICAgICAgICAgICAKICAgICAgICAKICAgIAogICAgICAgICAgICB2YXIgY2lyY2xlX21hcmtlcl9kZjQxZGM2OTkzODQ0ZTYxYjY4MTk3ZDIwYWZlYmI1NiA9IEwuY2lyY2xlTWFya2VyKAogICAgICAgICAgICAgICAgWy0yMy41NzExMDEwMDI3ODE1NiwtNDYuNjQ1MzI2MjU2OTc4NzRdLAogICAgICAgICAgICAgICAgewogICJidWJibGluZ01vdXNlRXZlbnRzIjogdHJ1ZSwKICAiY29sb3IiOiAiYmx1ZSIsCiAgImRhc2hBcnJheSI6IG51bGwsCiAgImRhc2hPZmZzZXQiOiBudWxsLAogICJmaWxsIjogdHJ1ZSwKICAiZmlsbENvbG9yIjogIiMzMTg2Y2MiLAogICJmaWxsT3BhY2l0eSI6IDAuNywKICAiZmlsbFJ1bGUiOiAiZXZlbm9kZCIsCiAgImxpbmVDYXAiOiAicm91bmQiLAogICJsaW5lSm9pbiI6ICJyb3VuZCIsCiAgIm9wYWNpdHkiOiAxLjAsCiAgInJhZGl1cyI6IDUsCiAgInN0cm9rZSI6IHRydWUsCiAgIndlaWdodCI6IDMKfQogICAgICAgICAgICAgICAgKS5hZGRUbyhtYXBfNGQ4YTBlYjY5ZTc2NDJjYTk2MDA2ZjdkNThhMjQzY2MpOwogICAgICAgICAgICAKICAgIAogICAgICAgICAgICB2YXIgcG9wdXBfODNmMjVhNTM1NDNiNDIzOGI3NDJhOWMzZDFjYWM4YzQgPSBMLnBvcHVwKHttYXhXaWR0aDogJzMwMCd9KTsKCiAgICAgICAgICAgIAogICAgICAgICAgICAgICAgdmFyIGh0bWxfOTY1NDcyZmZjODM4NDAyMGI4MWZhMTEzM2JiMDcyZGYgPSAkKCc8ZGl2IGlkPSJodG1sXzk2NTQ3MmZmYzgzODQwMjBiODFmYTExMzNiYjA3MmRmIiBzdHlsZT0id2lkdGg6IDEwMC4wJTsgaGVpZ2h0OiAxMDAuMCU7Ij5DYXNhIGRhcyBSb3NhcywgQ3VsdHVyYWwgQ2VudGVyPC9kaXY+JylbMF07CiAgICAgICAgICAgICAgICBwb3B1cF84M2YyNWE1MzU0M2I0MjM4Yjc0MmE5YzNkMWNhYzhjNC5zZXRDb250ZW50KGh0bWxfOTY1NDcyZmZjODM4NDAyMGI4MWZhMTEzM2JiMDcyZGYpOwogICAgICAgICAgICAKCiAgICAgICAgICAgIGNpcmNsZV9tYXJrZXJfZGY0MWRjNjk5Mzg0NGU2MWI2ODE5N2QyMGFmZWJiNTYuYmluZFBvcHVwKHBvcHVwXzgzZjI1YTUzNTQzYjQyMzhiNzQyYTljM2QxY2FjOGM0KTsKCiAgICAgICAgICAgIAogICAgICAgIAogICAgCiAgICAgICAgICAgIHZhciBjaXJjbGVfbWFya2VyXzM2ZDY3YmQwYjhiYjQ4MGY5MDcwOWRiYTE0MDE4YmZkID0gTC5jaXJjbGVNYXJrZXIoCiAgICAgICAgICAgICAgICBbLTIzLjU2MzM3NjM1MzkxNjgzNywtNDYuNjU0MjQ1MTU4NTQ4Mzg1XSwKICAgICAgICAgICAgICAgIHsKICAiYnViYmxpbmdNb3VzZUV2ZW50cyI6IHRydWUsCiAgImNvbG9yIjogImJsdWUiLAogICJkYXNoQXJyYXkiOiBudWxsLAogICJkYXNoT2Zmc2V0IjogbnVsbCwKICAiZmlsbCI6IHRydWUsCiAgImZpbGxDb2xvciI6ICIjMzE4NmNjIiwKICAiZmlsbE9wYWNpdHkiOiAwLjcsCiAgImZpbGxSdWxlIjogImV2ZW5vZGQiLAogICJsaW5lQ2FwIjogInJvdW5kIiwKICAibGluZUpvaW4iOiAicm91bmQiLAogICJvcGFjaXR5IjogMS4wLAogICJyYWRpdXMiOiA1LAogICJzdHJva2UiOiB0cnVlLAogICJ3ZWlnaHQiOiAzCn0KICAgICAgICAgICAgICAgICkuYWRkVG8obWFwXzRkOGEwZWI2OWU3NjQyY2E5NjAwNmY3ZDU4YTI0M2NjKTsKICAgICAgICAgICAgCiAgICAKICAgICAgICAgICAgdmFyIHBvcHVwX2Q0ZTgzMTk2NGYyMDQ4NDM4MGNmZGYzNDVhMjY5MzVjID0gTC5wb3B1cCh7bWF4V2lkdGg6ICczMDAnfSk7CgogICAgICAgICAgICAKICAgICAgICAgICAgICAgIHZhciBodG1sXzJjYTllOGRhM2Q3MzQ2YzlhYjVhODAxYzA1M2Q4ZDY3ID0gJCgnPGRpdiBpZD0iaHRtbF8yY2E5ZThkYTNkNzM0NmM5YWI1YTgwMWMwNTNkOGQ2NyIgc3R5bGU9IndpZHRoOiAxMDAuMCU7IGhlaWdodDogMTAwLjAlOyI+Q2VudHJvIEN1bHR1cmFsIEZJRVNQIC0gUnV0aCBDYXJkb3NvLCBDdWx0dXJhbCBDZW50ZXI8L2Rpdj4nKVswXTsKICAgICAgICAgICAgICAgIHBvcHVwX2Q0ZTgzMTk2NGYyMDQ4NDM4MGNmZGYzNDVhMjY5MzVjLnNldENvbnRlbnQoaHRtbF8yY2E5ZThkYTNkNzM0NmM5YWI1YTgwMWMwNTNkOGQ2Nyk7CiAgICAgICAgICAgIAoKICAgICAgICAgICAgY2lyY2xlX21hcmtlcl8zNmQ2N2JkMGI4YmI0ODBmOTA3MDlkYmExNDAxOGJmZC5iaW5kUG9wdXAocG9wdXBfZDRlODMxOTY0ZjIwNDg0MzgwY2ZkZjM0NWEyNjkzNWMpOwoKICAgICAgICAgICAgCiAgICAgICAgCiAgICAKICAgICAgICAgICAgdmFyIGNpcmNsZV9tYXJrZXJfMDBhYTNkODI0M2Y5NGZkZDkyODE4M2ZjOWRhMmNlOWMgPSBMLmNpcmNsZU1hcmtlcigKICAgICAgICAgICAgICAgIFstMjMuNTU2MjQyNDY1MDgxMDczLC00Ni42NjE5MDc0MzQ0NjM0OTRdLAogICAgICAgICAgICAgICAgewogICJidWJibGluZ01vdXNlRXZlbnRzIjogdHJ1ZSwKICAiY29sb3IiOiAiYmx1ZSIsCiAgImRhc2hBcnJheSI6IG51bGwsCiAgImRhc2hPZmZzZXQiOiBudWxsLAogICJmaWxsIjogdHJ1ZSwKICAiZmlsbENvbG9yIjogIiMzMTg2Y2MiLAogICJmaWxsT3BhY2l0eSI6IDAuNywKICAiZmlsbFJ1bGUiOiAiZXZlbm9kZCIsCiAgImxpbmVDYXAiOiAicm91bmQiLAogICJsaW5lSm9pbiI6ICJyb3VuZCIsCiAgIm9wYWNpdHkiOiAxLjAsCiAgInJhZGl1cyI6IDUsCiAgInN0cm9rZSI6IHRydWUsCiAgIndlaWdodCI6IDMKfQogICAgICAgICAgICAgICAgKS5hZGRUbyhtYXBfNGQ4YTBlYjY5ZTc2NDJjYTk2MDA2ZjdkNThhMjQzY2MpOwogICAgICAgICAgICAKICAgIAogICAgICAgICAgICB2YXIgcG9wdXBfNmM5YTQzOWM3ZDllNDhmODkyYzc3YThhOTVlY2QyNjMgPSBMLnBvcHVwKHttYXhXaWR0aDogJzMwMCd9KTsKCiAgICAgICAgICAgIAogICAgICAgICAgICAgICAgdmFyIGh0bWxfMzk5OTdlYjYzN2JiNDg5M2FjOTEyODg1ZjAwYzg2YjkgPSAkKCc8ZGl2IGlkPSJodG1sXzM5OTk3ZWI2MzdiYjQ4OTNhYzkxMjg4NWYwMGM4NmI5IiBzdHlsZT0id2lkdGg6IDEwMC4wJTsgaGVpZ2h0OiAxMDAuMCU7Ij5JbnN0aXR1dG8gTW9yZWlyYSBTYWxsZXMgKElNUyksIEN1bHR1cmFsIENlbnRlcjwvZGl2PicpWzBdOwogICAgICAgICAgICAgICAgcG9wdXBfNmM5YTQzOWM3ZDllNDhmODkyYzc3YThhOTVlY2QyNjMuc2V0Q29udGVudChodG1sXzM5OTk3ZWI2MzdiYjQ4OTNhYzkxMjg4NWYwMGM4NmI5KTsKICAgICAgICAgICAgCgogICAgICAgICAgICBjaXJjbGVfbWFya2VyXzAwYWEzZDgyNDNmOTRmZGQ5MjgxODNmYzlkYTJjZTljLmJpbmRQb3B1cChwb3B1cF82YzlhNDM5YzdkOWU0OGY4OTJjNzdhOGE5NWVjZDI2Myk7CgogICAgICAgICAgICAKICAgICAgICAKICAgIAogICAgICAgICAgICB2YXIgY2lyY2xlX21hcmtlcl81ZGM3MDlkYmVlNWQ0OTM5OTJjMDczZTBkODQ4MGIzNyA9IEwuY2lyY2xlTWFya2VyKAogICAgICAgICAgICAgICAgWy0yMy40ODk1Mzg0MTI0MDgyOTcsLTQ2LjYyNjI2NTE2ODU1NV0sCiAgICAgICAgICAgICAgICB7CiAgImJ1YmJsaW5nTW91c2VFdmVudHMiOiB0cnVlLAogICJjb2xvciI6ICJibHVlIiwKICAiZGFzaEFycmF5IjogbnVsbCwKICAiZGFzaE9mZnNldCI6IG51bGwsCiAgImZpbGwiOiB0cnVlLAogICJmaWxsQ29sb3IiOiAiIzMxODZjYyIsCiAgImZpbGxPcGFjaXR5IjogMC43LAogICJmaWxsUnVsZSI6ICJldmVub2RkIiwKICAibGluZUNhcCI6ICJyb3VuZCIsCiAgImxpbmVKb2luIjogInJvdW5kIiwKICAib3BhY2l0eSI6IDEuMCwKICAicmFkaXVzIjogNSwKICAic3Ryb2tlIjogdHJ1ZSwKICAid2VpZ2h0IjogMwp9CiAgICAgICAgICAgICAgICApLmFkZFRvKG1hcF80ZDhhMGViNjllNzY0MmNhOTYwMDZmN2Q1OGEyNDNjYyk7CiAgICAgICAgICAgIAogICAgCiAgICAgICAgICAgIHZhciBwb3B1cF82NzgzNTk3YzU5OTQ0OWMwOWYyM2I5ZGRiOTA4NGNmNiA9IEwucG9wdXAoe21heFdpZHRoOiAnMzAwJ30pOwoKICAgICAgICAgICAgCiAgICAgICAgICAgICAgICB2YXIgaHRtbF81NTM0Y2MwNGE2NzE0MDdjYTUwNzkyNWYwN2RlMjU3OCA9ICQoJzxkaXYgaWQ9Imh0bWxfNTUzNGNjMDRhNjcxNDA3Y2E1MDc5MjVmMDdkZTI1NzgiIHN0eWxlPSJ3aWR0aDogMTAwLjAlOyBoZWlnaHQ6IDEwMC4wJTsiPkNvaXNhU2ltcGxlcyBFc3R1ZGlvLCBNdXNpYyBWZW51ZTwvZGl2PicpWzBdOwogICAgICAgICAgICAgICAgcG9wdXBfNjc4MzU5N2M1OTk0NDljMDlmMjNiOWRkYjkwODRjZjYuc2V0Q29udGVudChodG1sXzU1MzRjYzA0YTY3MTQwN2NhNTA3OTI1ZjA3ZGUyNTc4KTsKICAgICAgICAgICAgCgogICAgICAgICAgICBjaXJjbGVfbWFya2VyXzVkYzcwOWRiZWU1ZDQ5Mzk5MmMwNzNlMGQ4NDgwYjM3LmJpbmRQb3B1cChwb3B1cF82NzgzNTk3YzU5OTQ0OWMwOWYyM2I5ZGRiOTA4NGNmNik7CgogICAgICAgICAgICAKICAgICAgICAKICAgIAogICAgICAgICAgICB2YXIgY2lyY2xlX21hcmtlcl82MjcyYTM0ODUyMWU0MWYwYmRkYTM4ZDJmMzZmYTZiYyA9IEwuY2lyY2xlTWFya2VyKAogICAgICAgICAgICAgICAgWy0yMy40OTY3NTI0MTg3MDgyMywtNDYuNjEyNDY0OTc5NDg3MzhdLAogICAgICAgICAgICAgICAgewogICJidWJibGluZ01vdXNlRXZlbnRzIjogdHJ1ZSwKICAiY29sb3IiOiAiYmx1ZSIsCiAgImRhc2hBcnJheSI6IG51bGwsCiAgImRhc2hPZmZzZXQiOiBudWxsLAogICJmaWxsIjogdHJ1ZSwKICAiZmlsbENvbG9yIjogIiMzMTg2Y2MiLAogICJmaWxsT3BhY2l0eSI6IDAuNywKICAiZmlsbFJ1bGUiOiAiZXZlbm9kZCIsCiAgImxpbmVDYXAiOiAicm91bmQiLAogICJsaW5lSm9pbiI6ICJyb3VuZCIsCiAgIm9wYWNpdHkiOiAxLjAsCiAgInJhZGl1cyI6IDUsCiAgInN0cm9rZSI6IHRydWUsCiAgIndlaWdodCI6IDMKfQogICAgICAgICAgICAgICAgKS5hZGRUbyhtYXBfNGQ4YTBlYjY5ZTc2NDJjYTk2MDA2ZjdkNThhMjQzY2MpOwogICAgICAgICAgICAKICAgIAogICAgICAgICAgICB2YXIgcG9wdXBfNzY5NmFlNjAyYjk5NDExNWFkMzc1MWRlYmFlODQ2MzggPSBMLnBvcHVwKHttYXhXaWR0aDogJzMwMCd9KTsKCiAgICAgICAgICAgIAogICAgICAgICAgICAgICAgdmFyIGh0bWxfNjRjODU2M2M2NGJlNDE3Y2ExZTMyZDgyYjFmNGY5MjEgPSAkKCc8ZGl2IGlkPSJodG1sXzY0Yzg1NjNjNjRiZTQxN2NhMWUzMmQ4MmIxZjRmOTIxIiBzdHlsZT0id2lkdGg6IDEwMC4wJTsgaGVpZ2h0OiAxMDAuMCU7Ij5TZXNjIFNhbnRhbmEsIEN1bHR1cmFsIENlbnRlcjwvZGl2PicpWzBdOwogICAgICAgICAgICAgICAgcG9wdXBfNzY5NmFlNjAyYjk5NDExNWFkMzc1MWRlYmFlODQ2Mzguc2V0Q29udGVudChodG1sXzY0Yzg1NjNjNjRiZTQxN2NhMWUzMmQ4MmIxZjRmOTIxKTsKICAgICAgICAgICAgCgogICAgICAgICAgICBjaXJjbGVfbWFya2VyXzYyNzJhMzQ4NTIxZTQxZjBiZGRhMzhkMmYzNmZhNmJjLmJpbmRQb3B1cChwb3B1cF83Njk2YWU2MDJiOTk0MTE1YWQzNzUxZGViYWU4NDYzOCk7CgogICAgICAgICAgICAKICAgICAgICAKICAgIAogICAgICAgICAgICB2YXIgY2lyY2xlX21hcmtlcl9jNDBkM2I5MTYwZjY0NDY5YjM5YzJlYWYwYTRkNDI1YiA9IEwuY2lyY2xlTWFya2VyKAogICAgICAgICAgICAgICAgWy0yMy40OTY4NDc5NDQxNjQ0NTgsLTQ2LjYxMjI3NDI5Nzc0NDkzXSwKICAgICAgICAgICAgICAgIHsKICAiYnViYmxpbmdNb3VzZUV2ZW50cyI6IHRydWUsCiAgImNvbG9yIjogImJsdWUiLAogICJkYXNoQXJyYXkiOiBudWxsLAogICJkYXNoT2Zmc2V0IjogbnVsbCwKICAiZmlsbCI6IHRydWUsCiAgImZpbGxDb2xvciI6ICIjMzE4NmNjIiwKICAiZmlsbE9wYWNpdHkiOiAwLjcsCiAgImZpbGxSdWxlIjogImV2ZW5vZGQiLAogICJsaW5lQ2FwIjogInJvdW5kIiwKICAibGluZUpvaW4iOiAicm91bmQiLAogICJvcGFjaXR5IjogMS4wLAogICJyYWRpdXMiOiA1LAogICJzdHJva2UiOiB0cnVlLAogICJ3ZWlnaHQiOiAzCn0KICAgICAgICAgICAgICAgICkuYWRkVG8obWFwXzRkOGEwZWI2OWU3NjQyY2E5NjAwNmY3ZDU4YTI0M2NjKTsKICAgICAgICAgICAgCiAgICAKICAgICAgICAgICAgdmFyIHBvcHVwX2M0MDNiYmQxNTRiMjQ2NjRhMTViZjQ2ZDBhZmY1ZTYwID0gTC5wb3B1cCh7bWF4V2lkdGg6ICczMDAnfSk7CgogICAgICAgICAgICAKICAgICAgICAgICAgICAgIHZhciBodG1sXzFlYzE3NDg3MWQ5MDQ5MGY5YzAyNmIxMjM2ZGE5MTNjID0gJCgnPGRpdiBpZD0iaHRtbF8xZWMxNzQ4NzFkOTA0OTBmOWMwMjZiMTIzNmRhOTEzYyIgc3R5bGU9IndpZHRoOiAxMDAuMCU7IGhlaWdodDogMTAwLjAlOyI+VGVhdHJvIFNFU0MgU2FudGFuYSwgVGhlYXRlcjwvZGl2PicpWzBdOwogICAgICAgICAgICAgICAgcG9wdXBfYzQwM2JiZDE1NGIyNDY2NGExNWJmNDZkMGFmZjVlNjAuc2V0Q29udGVudChodG1sXzFlYzE3NDg3MWQ5MDQ5MGY5YzAyNmIxMjM2ZGE5MTNjKTsKICAgICAgICAgICAgCgogICAgICAgICAgICBjaXJjbGVfbWFya2VyX2M0MGQzYjkxNjBmNjQ0NjliMzljMmVhZjBhNGQ0MjViLmJpbmRQb3B1cChwb3B1cF9jNDAzYmJkMTU0YjI0NjY0YTE1YmY0NmQwYWZmNWU2MCk7CgogICAgICAgICAgICAKICAgICAgICAKICAgIAogICAgICAgICAgICB2YXIgY2lyY2xlX21hcmtlcl9mMTIzYTNlZjI2YmY0MDJjYjMzZTZlMDdkMmI0ODNiYyA9IEwuY2lyY2xlTWFya2VyKAogICAgICAgICAgICAgICAgWy0yMy41NjA4NTM5NjI1MjQ5NSwtNDYuNjk0MzQzMDAxMjE1MjJdLAogICAgICAgICAgICAgICAgewogICJidWJibGluZ01vdXNlRXZlbnRzIjogdHJ1ZSwKICAiY29sb3IiOiAiYmx1ZSIsCiAgImRhc2hBcnJheSI6IG51bGwsCiAgImRhc2hPZmZzZXQiOiBudWxsLAogICJmaWxsIjogdHJ1ZSwKICAiZmlsbENvbG9yIjogIiMzMTg2Y2MiLAogICJmaWxsT3BhY2l0eSI6IDAuNywKICAiZmlsbFJ1bGUiOiAiZXZlbm9kZCIsCiAgImxpbmVDYXAiOiAicm91bmQiLAogICJsaW5lSm9pbiI6ICJyb3VuZCIsCiAgIm9wYWNpdHkiOiAxLjAsCiAgInJhZGl1cyI6IDUsCiAgInN0cm9rZSI6IHRydWUsCiAgIndlaWdodCI6IDMKfQogICAgICAgICAgICAgICAgKS5hZGRUbyhtYXBfNGQ4YTBlYjY5ZTc2NDJjYTk2MDA2ZjdkNThhMjQzY2MpOwogICAgICAgICAgICAKICAgIAogICAgICAgICAgICB2YXIgcG9wdXBfYzZkMmIwYjhlNjg0NDgyOWFiOTFjZDhjZWI0MDY4MDAgPSBMLnBvcHVwKHttYXhXaWR0aDogJzMwMCd9KTsKCiAgICAgICAgICAgIAogICAgICAgICAgICAgICAgdmFyIGh0bWxfMWM0YTJiZmMyYzlkNGMwMjgyYTFhZTVmN2VhMDNjYWIgPSAkKCc8ZGl2IGlkPSJodG1sXzFjNGEyYmZjMmM5ZDRjMDI4MmExYWU1ZjdlYTAzY2FiIiBzdHlsZT0id2lkdGg6IDEwMC4wJTsgaGVpZ2h0OiAxMDAuMCU7Ij5JbnN0aXR1dG8gVG9taWUgT2h0YWtlLCBBcnQgR2FsbGVyeTwvZGl2PicpWzBdOwogICAgICAgICAgICAgICAgcG9wdXBfYzZkMmIwYjhlNjg0NDgyOWFiOTFjZDhjZWI0MDY4MDAuc2V0Q29udGVudChodG1sXzFjNGEyYmZjMmM5ZDRjMDI4MmExYWU1ZjdlYTAzY2FiKTsKICAgICAgICAgICAgCgogICAgICAgICAgICBjaXJjbGVfbWFya2VyX2YxMjNhM2VmMjZiZjQwMmNiMzNlNmUwN2QyYjQ4M2JjLmJpbmRQb3B1cChwb3B1cF9jNmQyYjBiOGU2ODQ0ODI5YWI5MWNkOGNlYjQwNjgwMCk7CgogICAgICAgICAgICAKICAgICAgICAKICAgIAogICAgICAgICAgICB2YXIgY2lyY2xlX21hcmtlcl9lYmY4NWY5MzJhZDI0YWQwYTE0NDliZjU3YjU4YzZiOSA9IEwuY2lyY2xlTWFya2VyKAogICAgICAgICAgICAgICAgWy0yMy41Njc3Mzc4MDc5NjY1MjcsLTQ2LjY5NzgwMTk1MzIzNTYxXSwKICAgICAgICAgICAgICAgIHsKICAiYnViYmxpbmdNb3VzZUV2ZW50cyI6IHRydWUsCiAgImNvbG9yIjogImJsdWUiLAogICJkYXNoQXJyYXkiOiBudWxsLAogICJkYXNoT2Zmc2V0IjogbnVsbCwKICAiZmlsbCI6IHRydWUsCiAgImZpbGxDb2xvciI6ICIjMzE4NmNjIiwKICAiZmlsbE9wYWNpdHkiOiAwLjcsCiAgImZpbGxSdWxlIjogImV2ZW5vZGQiLAogICJsaW5lQ2FwIjogInJvdW5kIiwKICAibGluZUpvaW4iOiAicm91bmQiLAogICJvcGFjaXR5IjogMS4wLAogICJyYWRpdXMiOiA1LAogICJzdHJva2UiOiB0cnVlLAogICJ3ZWlnaHQiOiAzCn0KICAgICAgICAgICAgICAgICkuYWRkVG8obWFwXzRkOGEwZWI2OWU3NjQyY2E5NjAwNmY3ZDU4YTI0M2NjKTsKICAgICAgICAgICAgCiAgICAKICAgICAgICAgICAgdmFyIHBvcHVwXzI1Y2E2YTBmNDRiNjQ5ZjE4OWM2NzY4ZDE2YzhmN2ZiID0gTC5wb3B1cCh7bWF4V2lkdGg6ICczMDAnfSk7CgogICAgICAgICAgICAKICAgICAgICAgICAgICAgIHZhciBodG1sXzliMjZmZGJiZDhlNDRmMDc4ODNiZjA2NDYyZGMzOGRkID0gJCgnPGRpdiBpZD0iaHRtbF85YjI2ZmRiYmQ4ZTQ0ZjA3ODgzYmYwNjQ2MmRjMzhkZCIgc3R5bGU9IndpZHRoOiAxMDAuMCU7IGhlaWdodDogMTAwLjAlOyI+VGVhdHJvIFBhdWxvIEF1dHJhbiwgVGhlYXRlcjwvZGl2PicpWzBdOwogICAgICAgICAgICAgICAgcG9wdXBfMjVjYTZhMGY0NGI2NDlmMTg5YzY3NjhkMTZjOGY3ZmIuc2V0Q29udGVudChodG1sXzliMjZmZGJiZDhlNDRmMDc4ODNiZjA2NDYyZGMzOGRkKTsKICAgICAgICAgICAgCgogICAgICAgICAgICBjaXJjbGVfbWFya2VyX2ViZjg1ZjkzMmFkMjRhZDBhMTQ0OWJmNTdiNThjNmI5LmJpbmRQb3B1cChwb3B1cF8yNWNhNmEwZjQ0YjY0OWYxODljNjc2OGQxNmM4ZjdmYik7CgogICAgICAgICAgICAKICAgICAgICAKICAgIAogICAgICAgICAgICB2YXIgY2lyY2xlX21hcmtlcl8yMWNjYmFiY2ZiMDc0ODQ4YjA3YzA0OTlkMjNjMjZjYiA9IEwuY2lyY2xlTWFya2VyKAogICAgICAgICAgICAgICAgWy0yMy41NTgyNzgzMzcwMjAxODcsLTQ2LjY4MDY0MjMwNDc0MDA0XSwKICAgICAgICAgICAgICAgIHsKICAiYnViYmxpbmdNb3VzZUV2ZW50cyI6IHRydWUsCiAgImNvbG9yIjogImJsdWUiLAogICJkYXNoQXJyYXkiOiBudWxsLAogICJkYXNoT2Zmc2V0IjogbnVsbCwKICAiZmlsbCI6IHRydWUsCiAgImZpbGxDb2xvciI6ICIjMzE4NmNjIiwKICAiZmlsbE9wYWNpdHkiOiAwLjcsCiAgImZpbGxSdWxlIjogImV2ZW5vZGQiLAogICJsaW5lQ2FwIjogInJvdW5kIiwKICAibGluZUpvaW4iOiAicm91bmQiLAogICJvcGFjaXR5IjogMS4wLAogICJyYWRpdXMiOiA1LAogICJzdHJva2UiOiB0cnVlLAogICJ3ZWlnaHQiOiAzCn0KICAgICAgICAgICAgICAgICkuYWRkVG8obWFwXzRkOGEwZWI2OWU3NjQyY2E5NjAwNmY3ZDU4YTI0M2NjKTsKICAgICAgICAgICAgCiAgICAKICAgICAgICAgICAgdmFyIHBvcHVwXzc2ZWNjMGVjOGY4OTQzZTk5ZGIwYTU4Mjc1ZTZjODRhID0gTC5wb3B1cCh7bWF4V2lkdGg6ICczMDAnfSk7CgogICAgICAgICAgICAKICAgICAgICAgICAgICAgIHZhciBodG1sXzc5MTdhNThkZjFlMjRjM2JhODg4ZTFlMDM4MjczODhlID0gJCgnPGRpdiBpZD0iaHRtbF83OTE3YTU4ZGYxZTI0YzNiYTg4OGUxZTAzODI3Mzg4ZSIgc3R5bGU9IndpZHRoOiAxMDAuMCU7IGhlaWdodDogMTAwLjAlOyI+UHJhw6dhIEJlbmVkaXRvIENhbGl4dG8sIFBsYXphPC9kaXY+JylbMF07CiAgICAgICAgICAgICAgICBwb3B1cF83NmVjYzBlYzhmODk0M2U5OWRiMGE1ODI3NWU2Yzg0YS5zZXRDb250ZW50KGh0bWxfNzkxN2E1OGRmMWUyNGMzYmE4ODhlMWUwMzgyNzM4OGUpOwogICAgICAgICAgICAKCiAgICAgICAgICAgIGNpcmNsZV9tYXJrZXJfMjFjY2JhYmNmYjA3NDg0OGIwN2MwNDk5ZDIzYzI2Y2IuYmluZFBvcHVwKHBvcHVwXzc2ZWNjMGVjOGY4OTQzZTk5ZGIwYTU4Mjc1ZTZjODRhKTsKCiAgICAgICAgICAgIAogICAgICAgIAogICAgCiAgICAgICAgICAgIHZhciBjaXJjbGVfbWFya2VyX2IzZWUwNzFkZDg0NTQ4ZDBiNmNmODAwMGIyNGU1OTFkID0gTC5jaXJjbGVNYXJrZXIoCiAgICAgICAgICAgICAgICBbLTIzLjU2MDAzNTQ0MzkxOTMyNSwtNDYuNjc3MTk5NTI3OTg2OTJdLAogICAgICAgICAgICAgICAgewogICJidWJibGluZ01vdXNlRXZlbnRzIjogdHJ1ZSwKICAiY29sb3IiOiAiYmx1ZSIsCiAgImRhc2hBcnJheSI6IG51bGwsCiAgImRhc2hPZmZzZXQiOiBudWxsLAogICJmaWxsIjogdHJ1ZSwKICAiZmlsbENvbG9yIjogIiMzMTg2Y2MiLAogICJmaWxsT3BhY2l0eSI6IDAuNywKICAiZmlsbFJ1bGUiOiAiZXZlbm9kZCIsCiAgImxpbmVDYXAiOiAicm91bmQiLAogICJsaW5lSm9pbiI6ICJyb3VuZCIsCiAgIm9wYWNpdHkiOiAxLjAsCiAgInJhZGl1cyI6IDUsCiAgInN0cm9rZSI6IHRydWUsCiAgIndlaWdodCI6IDMKfQogICAgICAgICAgICAgICAgKS5hZGRUbyhtYXBfNGQ4YTBlYjY5ZTc2NDJjYTk2MDA2ZjdkNThhMjQzY2MpOwogICAgICAgICAgICAKICAgIAogICAgICAgICAgICB2YXIgcG9wdXBfMzJmZGY4ZjhmNjJhNGI4MWI0NDhmMzA3N2JkYzAxYjggPSBMLnBvcHVwKHttYXhXaWR0aDogJzMwMCd9KTsKCiAgICAgICAgICAgIAogICAgICAgICAgICAgICAgdmFyIGh0bWxfODg4NThhZjk3NmY5NDQ4NWFiNmFhZmEwNTVlNWQ2MzcgPSAkKCc8ZGl2IGlkPSJodG1sXzg4ODU4YWY5NzZmOTQ0ODVhYjZhYWZhMDU1ZTVkNjM3IiBzdHlsZT0id2lkdGg6IDEwMC4wJTsgaGVpZ2h0OiAxMDAuMCU7Ij5DYXJ0ZWwgMDExLCBBcnQgR2FsbGVyeTwvZGl2PicpWzBdOwogICAgICAgICAgICAgICAgcG9wdXBfMzJmZGY4ZjhmNjJhNGI4MWI0NDhmMzA3N2JkYzAxYjguc2V0Q29udGVudChodG1sXzg4ODU4YWY5NzZmOTQ0ODVhYjZhYWZhMDU1ZTVkNjM3KTsKICAgICAgICAgICAgCgogICAgICAgICAgICBjaXJjbGVfbWFya2VyX2IzZWUwNzFkZDg0NTQ4ZDBiNmNmODAwMGIyNGU1OTFkLmJpbmRQb3B1cChwb3B1cF8zMmZkZjhmOGY2MmE0YjgxYjQ0OGYzMDc3YmRjMDFiOCk7CgogICAgICAgICAgICAKICAgICAgICAKICAgIAogICAgICAgICAgICB2YXIgY2lyY2xlX21hcmtlcl9iMjYwYWIwODcwYTQ0YTNkYTY4NmFhMDAxYTc4Y2ZhMyA9IEwuY2lyY2xlTWFya2VyKAogICAgICAgICAgICAgICAgWy0yMy41NzI3NzA4MjM2NzYxMTYsLTQ2LjY3NjE4MzQ3NzY5MTkzNl0sCiAgICAgICAgICAgICAgICB7CiAgImJ1YmJsaW5nTW91c2VFdmVudHMiOiB0cnVlLAogICJjb2xvciI6ICJibHVlIiwKICAiZGFzaEFycmF5IjogbnVsbCwKICAiZGFzaE9mZnNldCI6IG51bGwsCiAgImZpbGwiOiB0cnVlLAogICJmaWxsQ29sb3IiOiAiIzMxODZjYyIsCiAgImZpbGxPcGFjaXR5IjogMC43LAogICJmaWxsUnVsZSI6ICJldmVub2RkIiwKICAibGluZUNhcCI6ICJyb3VuZCIsCiAgImxpbmVKb2luIjogInJvdW5kIiwKICAib3BhY2l0eSI6IDEuMCwKICAicmFkaXVzIjogNSwKICAic3Ryb2tlIjogdHJ1ZSwKICAid2VpZ2h0IjogMwp9CiAgICAgICAgICAgICAgICApLmFkZFRvKG1hcF80ZDhhMGViNjllNzY0MmNhOTYwMDZmN2Q1OGEyNDNjYyk7CiAgICAgICAgICAgIAogICAgCiAgICAgICAgICAgIHZhciBwb3B1cF9lYmJmMjMzZjE2MjI0ZWYxYTU5MjIzMTNkYTcwZDAwMCA9IEwucG9wdXAoe21heFdpZHRoOiAnMzAwJ30pOwoKICAgICAgICAgICAgCiAgICAgICAgICAgICAgICB2YXIgaHRtbF9jNDUwYWM2M2JhZmY0NGRhOGY1OTUyNzJlYjcyYjdmNiA9ICQoJzxkaXYgaWQ9Imh0bWxfYzQ1MGFjNjNiYWZmNDRkYThmNTk1MjcyZWI3MmI3ZjYiIHN0eWxlPSJ3aWR0aDogMTAwLjAlOyBoZWlnaHQ6IDEwMC4wJTsiPk11c2V1IGRhIEltYWdlbSBlIGRvIFNvbSAoTUlTKSwgQXJ0IE11c2V1bTwvZGl2PicpWzBdOwogICAgICAgICAgICAgICAgcG9wdXBfZWJiZjIzM2YxNjIyNGVmMWE1OTIyMzEzZGE3MGQwMDAuc2V0Q29udGVudChodG1sX2M0NTBhYzYzYmFmZjQ0ZGE4ZjU5NTI3MmViNzJiN2Y2KTsKICAgICAgICAgICAgCgogICAgICAgICAgICBjaXJjbGVfbWFya2VyX2IyNjBhYjA4NzBhNDRhM2RhNjg2YWEwMDFhNzhjZmEzLmJpbmRQb3B1cChwb3B1cF9lYmJmMjMzZjE2MjI0ZWYxYTU5MjIzMTNkYTcwZDAwMCk7CgogICAgICAgICAgICAKICAgICAgICAKICAgIAogICAgICAgICAgICB2YXIgY2lyY2xlX21hcmtlcl9kMzZhZGEzOGJmYTY0ZTU4ODZhNDlkNjNmN2I4Y2YzOCA9IEwuY2lyY2xlTWFya2VyKAogICAgICAgICAgICAgICAgWy0yMy41NTA5MDU4MjY2OTUyOSwtNDYuNjgzNjM3MjE3NzQzODZdLAogICAgICAgICAgICAgICAgewogICJidWJibGluZ01vdXNlRXZlbnRzIjogdHJ1ZSwKICAiY29sb3IiOiAiYmx1ZSIsCiAgImRhc2hBcnJheSI6IG51bGwsCiAgImRhc2hPZmZzZXQiOiBudWxsLAogICJmaWxsIjogdHJ1ZSwKICAiZmlsbENvbG9yIjogIiMzMTg2Y2MiLAogICJmaWxsT3BhY2l0eSI6IDAuNywKICAiZmlsbFJ1bGUiOiAiZXZlbm9kZCIsCiAgImxpbmVDYXAiOiAicm91bmQiLAogICJsaW5lSm9pbiI6ICJyb3VuZCIsCiAgIm9wYWNpdHkiOiAxLjAsCiAgInJhZGl1cyI6IDUsCiAgInN0cm9rZSI6IHRydWUsCiAgIndlaWdodCI6IDMKfQogICAgICAgICAgICAgICAgKS5hZGRUbyhtYXBfNGQ4YTBlYjY5ZTc2NDJjYTk2MDA2ZjdkNThhMjQzY2MpOwogICAgICAgICAgICAKICAgIAogICAgICAgICAgICB2YXIgcG9wdXBfMWJiYjM5NDA0ZDk1NDQwODg3MWYxMjU3ODE0MzNkOTcgPSBMLnBvcHVwKHttYXhXaWR0aDogJzMwMCd9KTsKCiAgICAgICAgICAgIAogICAgICAgICAgICAgICAgdmFyIGh0bWxfYWFkODI2ZjZjZWUzNGEzYjk2NmYwMjYzZTRmMjdkMzkgPSAkKCc8ZGl2IGlkPSJodG1sX2FhZDgyNmY2Y2VlMzRhM2I5NjZmMDI2M2U0ZjI3ZDM5IiBzdHlsZT0id2lkdGg6IDEwMC4wJTsgaGVpZ2h0OiAxMDAuMCU7Ij5QcmHDp2EgSG9yw6FjaW8gU2FiaW5vLCBQbGF6YTwvZGl2PicpWzBdOwogICAgICAgICAgICAgICAgcG9wdXBfMWJiYjM5NDA0ZDk1NDQwODg3MWYxMjU3ODE0MzNkOTcuc2V0Q29udGVudChodG1sX2FhZDgyNmY2Y2VlMzRhM2I5NjZmMDI2M2U0ZjI3ZDM5KTsKICAgICAgICAgICAgCgogICAgICAgICAgICBjaXJjbGVfbWFya2VyX2QzNmFkYTM4YmZhNjRlNTg4NmE0OWQ2M2Y3YjhjZjM4LmJpbmRQb3B1cChwb3B1cF8xYmJiMzk0MDRkOTU0NDA4ODcxZjEyNTc4MTQzM2Q5Nyk7CgogICAgICAgICAgICAKICAgICAgICAKICAgIAogICAgICAgICAgICB2YXIgY2lyY2xlX21hcmtlcl82YWQwOWQxYmFiZDk0MzU4YmRmOTA1YzI0Y2QxYjlkZCA9IEwuY2lyY2xlTWFya2VyKAogICAgICAgICAgICAgICAgWy0yMy41NTM1NDA2MjkyNDY1MDUsLTQ2LjcwMjg3NDk2NDk1OTcyXSwKICAgICAgICAgICAgICAgIHsKICAiYnViYmxpbmdNb3VzZUV2ZW50cyI6IHRydWUsCiAgImNvbG9yIjogImJsdWUiLAogICJkYXNoQXJyYXkiOiBudWxsLAogICJkYXNoT2Zmc2V0IjogbnVsbCwKICAiZmlsbCI6IHRydWUsCiAgImZpbGxDb2xvciI6ICIjMzE4NmNjIiwKICAiZmlsbE9wYWNpdHkiOiAwLjcsCiAgImZpbGxSdWxlIjogImV2ZW5vZGQiLAogICJsaW5lQ2FwIjogInJvdW5kIiwKICAibGluZUpvaW4iOiAicm91bmQiLAogICJvcGFjaXR5IjogMS4wLAogICJyYWRpdXMiOiA1LAogICJzdHJva2UiOiB0cnVlLAogICJ3ZWlnaHQiOiAzCn0KICAgICAgICAgICAgICAgICkuYWRkVG8obWFwXzRkOGEwZWI2OWU3NjQyY2E5NjAwNmY3ZDU4YTI0M2NjKTsKICAgICAgICAgICAgCiAgICAKICAgICAgICAgICAgdmFyIHBvcHVwX2E0NDg2NzZmNWZjZTQzNGViNGZmZDUzZTczMjg4NDY1ID0gTC5wb3B1cCh7bWF4V2lkdGg6ICczMDAnfSk7CgogICAgICAgICAgICAKICAgICAgICAgICAgICAgIHZhciBodG1sXzhiNmJlZWJhNTIxZTQ1NzJhYWM5OTY5MGNkYjIzMDg2ID0gJCgnPGRpdiBpZD0iaHRtbF84YjZiZWViYTUyMWU0NTcyYWFjOTk2OTBjZGIyMzA4NiIgc3R5bGU9IndpZHRoOiAxMDAuMCU7IGhlaWdodDogMTAwLjAlOyI+UHJhw6dhIFDDtHIgZG8gU29sLCBQbGF6YTwvZGl2PicpWzBdOwogICAgICAgICAgICAgICAgcG9wdXBfYTQ0ODY3NmY1ZmNlNDM0ZWI0ZmZkNTNlNzMyODg0NjUuc2V0Q29udGVudChodG1sXzhiNmJlZWJhNTIxZTQ1NzJhYWM5OTY5MGNkYjIzMDg2KTsKICAgICAgICAgICAgCgogICAgICAgICAgICBjaXJjbGVfbWFya2VyXzZhZDA5ZDFiYWJkOTQzNThiZGY5MDVjMjRjZDFiOWRkLmJpbmRQb3B1cChwb3B1cF9hNDQ4Njc2ZjVmY2U0MzRlYjRmZmQ1M2U3MzI4ODQ2NSk7CgogICAgICAgICAgICAKICAgICAgICAKICAgIAogICAgICAgICAgICB2YXIgY2lyY2xlX21hcmtlcl84ODUzYjc0MjhjNDM0NWNiOGRkMTMwNGQwZDY1YjY1MSA9IEwuY2lyY2xlTWFya2VyKAogICAgICAgICAgICAgICAgWy0yMy41MjIxMTg0NzUzMzQyNiwtNDYuMzQzMDM2MTQyNTU0OV0sCiAgICAgICAgICAgICAgICB7CiAgImJ1YmJsaW5nTW91c2VFdmVudHMiOiB0cnVlLAogICJjb2xvciI6ICJibHVlIiwKICAiZGFzaEFycmF5IjogbnVsbCwKICAiZGFzaE9mZnNldCI6IG51bGwsCiAgImZpbGwiOiB0cnVlLAogICJmaWxsQ29sb3IiOiAiIzMxODZjYyIsCiAgImZpbGxPcGFjaXR5IjogMC43LAogICJmaWxsUnVsZSI6ICJldmVub2RkIiwKICAibGluZUNhcCI6ICJyb3VuZCIsCiAgImxpbmVKb2luIjogInJvdW5kIiwKICAib3BhY2l0eSI6IDEuMCwKICAicmFkaXVzIjogNSwKICAic3Ryb2tlIjogdHJ1ZSwKICAid2VpZ2h0IjogMwp9CiAgICAgICAgICAgICAgICApLmFkZFRvKG1hcF80ZDhhMGViNjllNzY0MmNhOTYwMDZmN2Q1OGEyNDNjYyk7CiAgICAgICAgICAgIAogICAgCiAgICAgICAgICAgIHZhciBwb3B1cF8wMDlkOWI4NmVlY2I0N2JlODdhNmQzZjY1ZTkxZjc3NiA9IEwucG9wdXAoe21heFdpZHRoOiAnMzAwJ30pOwoKICAgICAgICAgICAgCiAgICAgICAgICAgICAgICB2YXIgaHRtbF9mOGRmZTBiMWNkYzc0NDI3OTM0ODA1OThiNmZjZmE1MyA9ICQoJzxkaXYgaWQ9Imh0bWxfZjhkZmUwYjFjZGM3NDQyNzkzNDgwNTk4YjZmY2ZhNTMiIHN0eWxlPSJ3aWR0aDogMTAwLjAlOyBoZWlnaHQ6IDEwMC4wJTsiPlByYcOnYSBkb3MgRXZlbnRvcywgUGxhemE8L2Rpdj4nKVswXTsKICAgICAgICAgICAgICAgIHBvcHVwXzAwOWQ5Yjg2ZWVjYjQ3YmU4N2E2ZDNmNjVlOTFmNzc2LnNldENvbnRlbnQoaHRtbF9mOGRmZTBiMWNkYzc0NDI3OTM0ODA1OThiNmZjZmE1Myk7CiAgICAgICAgICAgIAoKICAgICAgICAgICAgY2lyY2xlX21hcmtlcl84ODUzYjc0MjhjNDM0NWNiOGRkMTMwNGQwZDY1YjY1MS5iaW5kUG9wdXAocG9wdXBfMDA5ZDliODZlZWNiNDdiZTg3YTZkM2Y2NWU5MWY3NzYpOwoKICAgICAgICAgICAgCiAgICAgICAgCiAgICAKICAgICAgICAgICAgdmFyIGNpcmNsZV9tYXJrZXJfN2EyMzY3MDAxNzc3NDA2MTgyZjZiZmI1MDU5MmE4MWMgPSBMLmNpcmNsZU1hcmtlcigKICAgICAgICAgICAgICAgIFstMjMuNjI1MTgyNjU0NzczMDksLTQ2LjY2NDcxMTcwMzM0ODY5XSwKICAgICAgICAgICAgICAgIHsKICAiYnViYmxpbmdNb3VzZUV2ZW50cyI6IHRydWUsCiAgImNvbG9yIjogImJsdWUiLAogICJkYXNoQXJyYXkiOiBudWxsLAogICJkYXNoT2Zmc2V0IjogbnVsbCwKICAiZmlsbCI6IHRydWUsCiAgImZpbGxDb2xvciI6ICIjMzE4NmNjIiwKICAiZmlsbE9wYWNpdHkiOiAwLjcsCiAgImZpbGxSdWxlIjogImV2ZW5vZGQiLAogICJsaW5lQ2FwIjogInJvdW5kIiwKICAibGluZUpvaW4iOiAicm91bmQiLAogICJvcGFjaXR5IjogMS4wLAogICJyYWRpdXMiOiA1LAogICJzdHJva2UiOiB0cnVlLAogICJ3ZWlnaHQiOiAzCn0KICAgICAgICAgICAgICAgICkuYWRkVG8obWFwXzRkOGEwZWI2OWU3NjQyY2E5NjAwNmY3ZDU4YTI0M2NjKTsKICAgICAgICAgICAgCiAgICAKICAgICAgICAgICAgdmFyIHBvcHVwXzAyY2FmNTc2NmNiZTQzOGNhMDVlNjM0Y2RiODA3ZjJiID0gTC5wb3B1cCh7bWF4V2lkdGg6ICczMDAnfSk7CgogICAgICAgICAgICAKICAgICAgICAgICAgICAgIHZhciBodG1sXzI0YzBmMjhkZTljZDQyNjk4MTIxOTBjMGQyMGZjY2QyID0gJCgnPGRpdiBpZD0iaHRtbF8yNGMwZjI4ZGU5Y2Q0MjY5ODEyMTkwYzBkMjBmY2NkMiIgc3R5bGU9IndpZHRoOiAxMDAuMCU7IGhlaWdodDogMTAwLjAlOyI+TmFDZW5hIFN0dWRpb3MsIE11c2ljIFZlbnVlPC9kaXY+JylbMF07CiAgICAgICAgICAgICAgICBwb3B1cF8wMmNhZjU3NjZjYmU0MzhjYTA1ZTYzNGNkYjgwN2YyYi5zZXRDb250ZW50KGh0bWxfMjRjMGYyOGRlOWNkNDI2OTgxMjE5MGMwZDIwZmNjZDIpOwogICAgICAgICAgICAKCiAgICAgICAgICAgIGNpcmNsZV9tYXJrZXJfN2EyMzY3MDAxNzc3NDA2MTgyZjZiZmI1MDU5MmE4MWMuYmluZFBvcHVwKHBvcHVwXzAyY2FmNTc2NmNiZTQzOGNhMDVlNjM0Y2RiODA3ZjJiKTsKCiAgICAgICAgICAgIAogICAgICAgIAogICAgCiAgICAgICAgICAgIHZhciBjaXJjbGVfbWFya2VyXzIwOWI5ZWYxN2MzNTRiZGY4ZDUzODZkOTQzMTgyNmU5ID0gTC5jaXJjbGVNYXJrZXIoCiAgICAgICAgICAgICAgICBbLTIzLjYxMDM0LC00Ni40NzIxNjFdLAogICAgICAgICAgICAgICAgewogICJidWJibGluZ01vdXNlRXZlbnRzIjogdHJ1ZSwKICAiY29sb3IiOiAiYmx1ZSIsCiAgImRhc2hBcnJheSI6IG51bGwsCiAgImRhc2hPZmZzZXQiOiBudWxsLAogICJmaWxsIjogdHJ1ZSwKICAiZmlsbENvbG9yIjogIiMzMTg2Y2MiLAogICJmaWxsT3BhY2l0eSI6IDAuNywKICAiZmlsbFJ1bGUiOiAiZXZlbm9kZCIsCiAgImxpbmVDYXAiOiAicm91bmQiLAogICJsaW5lSm9pbiI6ICJyb3VuZCIsCiAgIm9wYWNpdHkiOiAxLjAsCiAgInJhZGl1cyI6IDUsCiAgInN0cm9rZSI6IHRydWUsCiAgIndlaWdodCI6IDMKfQogICAgICAgICAgICAgICAgKS5hZGRUbyhtYXBfNGQ4YTBlYjY5ZTc2NDJjYTk2MDA2ZjdkNThhMjQzY2MpOwogICAgICAgICAgICAKICAgIAogICAgICAgICAgICB2YXIgcG9wdXBfNTMxOWY4NWJjYmU2NDU0Nzk2OTRiMTQ2YTkxY2MyYWEgPSBMLnBvcHVwKHttYXhXaWR0aDogJzMwMCd9KTsKCiAgICAgICAgICAgIAogICAgICAgICAgICAgICAgdmFyIGh0bWxfMzY5YTIxYTMxNmViNDM0MDlkY2NjODVjMmVkZjM0MjggPSAkKCc8ZGl2IGlkPSJodG1sXzM2OWEyMWEzMTZlYjQzNDA5ZGNjYzg1YzJlZGYzNDI4IiBzdHlsZT0id2lkdGg6IDEwMC4wJTsgaGVpZ2h0OiAxMDAuMCU7Ij5UZWF0cm8gQ2FyaXRhcywgVGhlYXRlcjwvZGl2PicpWzBdOwogICAgICAgICAgICAgICAgcG9wdXBfNTMxOWY4NWJjYmU2NDU0Nzk2OTRiMTQ2YTkxY2MyYWEuc2V0Q29udGVudChodG1sXzM2OWEyMWEzMTZlYjQzNDA5ZGNjYzg1YzJlZGYzNDI4KTsKICAgICAgICAgICAgCgogICAgICAgICAgICBjaXJjbGVfbWFya2VyXzIwOWI5ZWYxN2MzNTRiZGY4ZDUzODZkOTQzMTgyNmU5LmJpbmRQb3B1cChwb3B1cF81MzE5Zjg1YmNiZTY0NTQ3OTY5NGIxNDZhOTFjYzJhYSk7CgogICAgICAgICAgICAKICAgICAgICAKPC9zY3JpcHQ+\" style=\"position:absolute;width:100%;height:100%;left:0;top:0;border:none !important;\" allowfullscreen webkitallowfullscreen mozallowfullscreen></iframe></div></div>"
      ],
      "text/plain": [
       "<folium.folium.Map at 0x7fe033816da0>"
      ]
     },
     "execution_count": 37,
     "metadata": {},
     "output_type": "execute_result"
    }
   ],
   "source": [
    "# create map of New York using latitude and longitude values\n",
    "map_sampa1 = folium.Map(location=[latitude, longitude], zoom_start=10)\n",
    "\n",
    "# add markers to map\n",
    "for lat, lng, name, categories in zip(all_venues['lat'], all_venues['lng'], all_venues['name'], all_venues['categories']):\n",
    "    label = '{}, {}'.format(name, categories)\n",
    "    label = folium.Popup(label, parse_html=True)\n",
    "    folium.CircleMarker(\n",
    "        [lat, lng],\n",
    "        radius=5,\n",
    "        popup=label,\n",
    "        color='blue',\n",
    "        fill=True,\n",
    "        fill_color='#3186cc',\n",
    "        fill_opacity=0.7,\n",
    "        parse_html=False).add_to(map_sampa)  \n",
    "    \n",
    "map_sampa"
   ]
  },
  {
   "cell_type": "code",
   "execution_count": 38,
   "metadata": {},
   "outputs": [],
   "source": [
    "table = pd.pivot_table(all_venues, values='Borough', #index=['Borough'],\n",
    "                       columns=['categories'], aggfunc=np.count_nonzero)\n",
    "#table\n",
    "table2 = pd.pivot_table(all_venues, values='categories', #index=['Borough'],\n",
    "                        columns=['Borough'], aggfunc=np.count_nonzero)\n",
    "#table2\n",
    "neig_df1 = neig_df[['Borough','População']]\n",
    "neig_df1.set_index('Borough', inplace=True)\n",
    "#neig_df1.reindex\n",
    "#neig_df1"
   ]
  },
  {
   "cell_type": "code",
   "execution_count": 39,
   "metadata": {},
   "outputs": [
    {
     "data": {
      "text/plain": [
       "Text(0.5, 0, 'Borough')"
      ]
     },
     "execution_count": 39,
     "metadata": {},
     "output_type": "execute_result"
    },
    {
     "data": {
      "image/png": "[encoded data removed]",
      "text/plain": [
       "<Figure size 720x432 with 1 Axes>"
      ]
     },
     "metadata": {
      "needs_background": "light"
     },
     "output_type": "display_data"
    }
   ],
   "source": [
    "table2.plot(kind='bar', figsize=(10, 6))\n",
    "plt.title('Cultural places by districts') # add a title to the histogram\n",
    "plt.ylabel('Number of Venues') # add y-label\n",
    "plt.xlabel('Borough') # add x-label"
   ]
  },
  {
   "cell_type": "markdown",
   "metadata": {},
   "source": [
    "<hr>\n",
    "<i>This work was made by Fernando Luiz Baptista Pinto </i>"
   ]
  },
  {
   "cell_type": "code",
   "execution_count": null,
   "metadata": {},
   "outputs": [],
   "source": []
  }
 ],
 "metadata": {
  "kernelspec": {
   "display_name": "Python 3.6",
   "language": "python",
   "name": "python3"
  },
  "language_info": {
   "codemirror_mode": {
    "name": "ipython",
    "version": 3
   },
   "file_extension": ".py",
   "mimetype": "text/x-python",
   "name": "python",
   "nbconvert_exporter": "python",
   "pygments_lexer": "ipython3",
   "version": "3.6.8"
  }
 },
 "nbformat": 4,
 "nbformat_minor": 4
}
